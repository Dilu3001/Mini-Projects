{
  "nbformat": 4,
  "nbformat_minor": 0,
  "metadata": {
    "colab": {
      "provenance": []
    },
    "kernelspec": {
      "name": "python3",
      "display_name": "Python 3"
    },
    "language_info": {
      "name": "python"
    }
  },
  "cells": [
    {
      "cell_type": "markdown",
      "source": [
        "# Essay Scoring Challenge\n",
        "\n",
        "The competition dataset comprises of student-written argumentative essays. Each essay was scored on a scale of 1 to 6.  Your goal is to predict the score an essay received from its text.\n",
        "\n",
        "The data contains 3 columns\n",
        "1. **essay_id** - The unique ID of the essay\n",
        "2. **full_text** - The full essay response\n",
        "3. **score** - Holistic score of the essay on a 1-6 scale\n",
        "\n",
        "Information on how essays have be graded is located here: https://storage.googleapis.com/kaggle-forum-message-attachments/2733927/20538/Rubric_%20Holistic%20Essay%20Scoring.pdf\n",
        "\n",
        "Your task is to create an automated grader through LLMs or via traditional methods. Your scores should only be values 1-6 and not have any other information."
      ],
      "metadata": {
        "id": "_GuHiaXpzNJR"
      }
    },
    {
      "cell_type": "code",
      "execution_count": 1,
      "metadata": {
        "colab": {
          "base_uri": "https://localhost:8080/"
        },
        "id": "INuG3lvLxHAx",
        "outputId": "96f673c2-d2ac-4248-9bed-286bfb573ba0"
      },
      "outputs": [
        {
          "output_type": "stream",
          "name": "stdout",
          "text": [
            "Requirement already satisfied: pytz in /usr/local/lib/python3.10/dist-packages (2023.4)\n",
            "Collecting openai\n",
            "  Downloading openai-1.35.13-py3-none-any.whl (328 kB)\n",
            "\u001b[2K     \u001b[90m━━━━━━━━━━━━━━━━━━━━━━━━━━━━━━━━━━━━━━━━\u001b[0m \u001b[32m328.5/328.5 kB\u001b[0m \u001b[31m4.5 MB/s\u001b[0m eta \u001b[36m0:00:00\u001b[0m\n",
            "\u001b[?25hRequirement already satisfied: anyio<5,>=3.5.0 in /usr/local/lib/python3.10/dist-packages (from openai) (3.7.1)\n",
            "Requirement already satisfied: distro<2,>=1.7.0 in /usr/lib/python3/dist-packages (from openai) (1.7.0)\n",
            "Collecting httpx<1,>=0.23.0 (from openai)\n",
            "  Downloading httpx-0.27.0-py3-none-any.whl (75 kB)\n",
            "\u001b[2K     \u001b[90m━━━━━━━━━━━━━━━━━━━━━━━━━━━━━━━━━━━━━━━━\u001b[0m \u001b[32m75.6/75.6 kB\u001b[0m \u001b[31m7.0 MB/s\u001b[0m eta \u001b[36m0:00:00\u001b[0m\n",
            "\u001b[?25hRequirement already satisfied: pydantic<3,>=1.9.0 in /usr/local/lib/python3.10/dist-packages (from openai) (2.8.2)\n",
            "Requirement already satisfied: sniffio in /usr/local/lib/python3.10/dist-packages (from openai) (1.3.1)\n",
            "Requirement already satisfied: tqdm>4 in /usr/local/lib/python3.10/dist-packages (from openai) (4.66.4)\n",
            "Requirement already satisfied: typing-extensions<5,>=4.7 in /usr/local/lib/python3.10/dist-packages (from openai) (4.12.2)\n",
            "Requirement already satisfied: idna>=2.8 in /usr/local/lib/python3.10/dist-packages (from anyio<5,>=3.5.0->openai) (3.7)\n",
            "Requirement already satisfied: exceptiongroup in /usr/local/lib/python3.10/dist-packages (from anyio<5,>=3.5.0->openai) (1.2.1)\n",
            "Requirement already satisfied: certifi in /usr/local/lib/python3.10/dist-packages (from httpx<1,>=0.23.0->openai) (2024.7.4)\n",
            "Collecting httpcore==1.* (from httpx<1,>=0.23.0->openai)\n",
            "  Downloading httpcore-1.0.5-py3-none-any.whl (77 kB)\n",
            "\u001b[2K     \u001b[90m━━━━━━━━━━━━━━━━━━━━━━━━━━━━━━━━━━━━━━━━\u001b[0m \u001b[32m77.9/77.9 kB\u001b[0m \u001b[31m4.4 MB/s\u001b[0m eta \u001b[36m0:00:00\u001b[0m\n",
            "\u001b[?25hCollecting h11<0.15,>=0.13 (from httpcore==1.*->httpx<1,>=0.23.0->openai)\n",
            "  Downloading h11-0.14.0-py3-none-any.whl (58 kB)\n",
            "\u001b[2K     \u001b[90m━━━━━━━━━━━━━━━━━━━━━━━━━━━━━━━━━━━━━━━━\u001b[0m \u001b[32m58.3/58.3 kB\u001b[0m \u001b[31m6.5 MB/s\u001b[0m eta \u001b[36m0:00:00\u001b[0m\n",
            "\u001b[?25hRequirement already satisfied: annotated-types>=0.4.0 in /usr/local/lib/python3.10/dist-packages (from pydantic<3,>=1.9.0->openai) (0.7.0)\n",
            "Requirement already satisfied: pydantic-core==2.20.1 in /usr/local/lib/python3.10/dist-packages (from pydantic<3,>=1.9.0->openai) (2.20.1)\n",
            "Installing collected packages: h11, httpcore, httpx, openai\n",
            "Successfully installed h11-0.14.0 httpcore-1.0.5 httpx-0.27.0 openai-1.35.13\n",
            "Collecting langchain\n",
            "  Downloading langchain-0.2.7-py3-none-any.whl (983 kB)\n",
            "\u001b[2K     \u001b[90m━━━━━━━━━━━━━━━━━━━━━━━━━━━━━━━━━━━━━━━━\u001b[0m \u001b[32m983.6/983.6 kB\u001b[0m \u001b[31m9.1 MB/s\u001b[0m eta \u001b[36m0:00:00\u001b[0m\n",
            "\u001b[?25hRequirement already satisfied: PyYAML>=5.3 in /usr/local/lib/python3.10/dist-packages (from langchain) (6.0.1)\n",
            "Requirement already satisfied: SQLAlchemy<3,>=1.4 in /usr/local/lib/python3.10/dist-packages (from langchain) (2.0.31)\n",
            "Requirement already satisfied: aiohttp<4.0.0,>=3.8.3 in /usr/local/lib/python3.10/dist-packages (from langchain) (3.9.5)\n",
            "Requirement already satisfied: async-timeout<5.0.0,>=4.0.0 in /usr/local/lib/python3.10/dist-packages (from langchain) (4.0.3)\n",
            "Collecting langchain-core<0.3.0,>=0.2.12 (from langchain)\n",
            "  Downloading langchain_core-0.2.17-py3-none-any.whl (366 kB)\n",
            "\u001b[2K     \u001b[90m━━━━━━━━━━━━━━━━━━━━━━━━━━━━━━━━━━━━━━━━\u001b[0m \u001b[32m366.1/366.1 kB\u001b[0m \u001b[31m14.9 MB/s\u001b[0m eta \u001b[36m0:00:00\u001b[0m\n",
            "\u001b[?25hCollecting langchain-text-splitters<0.3.0,>=0.2.0 (from langchain)\n",
            "  Downloading langchain_text_splitters-0.2.2-py3-none-any.whl (25 kB)\n",
            "Collecting langsmith<0.2.0,>=0.1.17 (from langchain)\n",
            "  Downloading langsmith-0.1.85-py3-none-any.whl (127 kB)\n",
            "\u001b[2K     \u001b[90m━━━━━━━━━━━━━━━━━━━━━━━━━━━━━━━━━━━━━━━━\u001b[0m \u001b[32m127.9/127.9 kB\u001b[0m \u001b[31m9.0 MB/s\u001b[0m eta \u001b[36m0:00:00\u001b[0m\n",
            "\u001b[?25hRequirement already satisfied: numpy<2,>=1 in /usr/local/lib/python3.10/dist-packages (from langchain) (1.25.2)\n",
            "Requirement already satisfied: pydantic<3,>=1 in /usr/local/lib/python3.10/dist-packages (from langchain) (2.8.2)\n",
            "Requirement already satisfied: requests<3,>=2 in /usr/local/lib/python3.10/dist-packages (from langchain) (2.31.0)\n",
            "Requirement already satisfied: tenacity!=8.4.0,<9.0.0,>=8.1.0 in /usr/local/lib/python3.10/dist-packages (from langchain) (8.5.0)\n",
            "Requirement already satisfied: aiosignal>=1.1.2 in /usr/local/lib/python3.10/dist-packages (from aiohttp<4.0.0,>=3.8.3->langchain) (1.3.1)\n",
            "Requirement already satisfied: attrs>=17.3.0 in /usr/local/lib/python3.10/dist-packages (from aiohttp<4.0.0,>=3.8.3->langchain) (23.2.0)\n",
            "Requirement already satisfied: frozenlist>=1.1.1 in /usr/local/lib/python3.10/dist-packages (from aiohttp<4.0.0,>=3.8.3->langchain) (1.4.1)\n",
            "Requirement already satisfied: multidict<7.0,>=4.5 in /usr/local/lib/python3.10/dist-packages (from aiohttp<4.0.0,>=3.8.3->langchain) (6.0.5)\n",
            "Requirement already satisfied: yarl<2.0,>=1.0 in /usr/local/lib/python3.10/dist-packages (from aiohttp<4.0.0,>=3.8.3->langchain) (1.9.4)\n",
            "Collecting jsonpatch<2.0,>=1.33 (from langchain-core<0.3.0,>=0.2.12->langchain)\n",
            "  Downloading jsonpatch-1.33-py2.py3-none-any.whl (12 kB)\n",
            "Requirement already satisfied: packaging<25,>=23.2 in /usr/local/lib/python3.10/dist-packages (from langchain-core<0.3.0,>=0.2.12->langchain) (24.1)\n",
            "Collecting orjson<4.0.0,>=3.9.14 (from langsmith<0.2.0,>=0.1.17->langchain)\n",
            "  Downloading orjson-3.10.6-cp310-cp310-manylinux_2_17_x86_64.manylinux2014_x86_64.whl (141 kB)\n",
            "\u001b[2K     \u001b[90m━━━━━━━━━━━━━━━━━━━━━━━━━━━━━━━━━━━━━━━━\u001b[0m \u001b[32m141.1/141.1 kB\u001b[0m \u001b[31m6.0 MB/s\u001b[0m eta \u001b[36m0:00:00\u001b[0m\n",
            "\u001b[?25hRequirement already satisfied: annotated-types>=0.4.0 in /usr/local/lib/python3.10/dist-packages (from pydantic<3,>=1->langchain) (0.7.0)\n",
            "Requirement already satisfied: pydantic-core==2.20.1 in /usr/local/lib/python3.10/dist-packages (from pydantic<3,>=1->langchain) (2.20.1)\n",
            "Requirement already satisfied: typing-extensions>=4.6.1 in /usr/local/lib/python3.10/dist-packages (from pydantic<3,>=1->langchain) (4.12.2)\n",
            "Requirement already satisfied: charset-normalizer<4,>=2 in /usr/local/lib/python3.10/dist-packages (from requests<3,>=2->langchain) (3.3.2)\n",
            "Requirement already satisfied: idna<4,>=2.5 in /usr/local/lib/python3.10/dist-packages (from requests<3,>=2->langchain) (3.7)\n",
            "Requirement already satisfied: urllib3<3,>=1.21.1 in /usr/local/lib/python3.10/dist-packages (from requests<3,>=2->langchain) (2.0.7)\n",
            "Requirement already satisfied: certifi>=2017.4.17 in /usr/local/lib/python3.10/dist-packages (from requests<3,>=2->langchain) (2024.7.4)\n",
            "Requirement already satisfied: greenlet!=0.4.17 in /usr/local/lib/python3.10/dist-packages (from SQLAlchemy<3,>=1.4->langchain) (3.0.3)\n",
            "Collecting jsonpointer>=1.9 (from jsonpatch<2.0,>=1.33->langchain-core<0.3.0,>=0.2.12->langchain)\n",
            "  Downloading jsonpointer-3.0.0-py2.py3-none-any.whl (7.6 kB)\n",
            "Installing collected packages: orjson, jsonpointer, jsonpatch, langsmith, langchain-core, langchain-text-splitters, langchain\n",
            "Successfully installed jsonpatch-1.33 jsonpointer-3.0.0 langchain-0.2.7 langchain-core-0.2.17 langchain-text-splitters-0.2.2 langsmith-0.1.85 orjson-3.10.6\n",
            "Collecting langchain_community\n",
            "  Downloading langchain_community-0.2.7-py3-none-any.whl (2.2 MB)\n",
            "\u001b[2K     \u001b[90m━━━━━━━━━━━━━━━━━━━━━━━━━━━━━━━━━━━━━━━━\u001b[0m \u001b[32m2.2/2.2 MB\u001b[0m \u001b[31m15.2 MB/s\u001b[0m eta \u001b[36m0:00:00\u001b[0m\n",
            "\u001b[?25hRequirement already satisfied: PyYAML>=5.3 in /usr/local/lib/python3.10/dist-packages (from langchain_community) (6.0.1)\n",
            "Requirement already satisfied: SQLAlchemy<3,>=1.4 in /usr/local/lib/python3.10/dist-packages (from langchain_community) (2.0.31)\n",
            "Requirement already satisfied: aiohttp<4.0.0,>=3.8.3 in /usr/local/lib/python3.10/dist-packages (from langchain_community) (3.9.5)\n",
            "Collecting dataclasses-json<0.7,>=0.5.7 (from langchain_community)\n",
            "  Downloading dataclasses_json-0.6.7-py3-none-any.whl (28 kB)\n",
            "Requirement already satisfied: langchain<0.3.0,>=0.2.7 in /usr/local/lib/python3.10/dist-packages (from langchain_community) (0.2.7)\n",
            "Requirement already satisfied: langchain-core<0.3.0,>=0.2.12 in /usr/local/lib/python3.10/dist-packages (from langchain_community) (0.2.17)\n",
            "Requirement already satisfied: langsmith<0.2.0,>=0.1.0 in /usr/local/lib/python3.10/dist-packages (from langchain_community) (0.1.85)\n",
            "Requirement already satisfied: numpy<2,>=1 in /usr/local/lib/python3.10/dist-packages (from langchain_community) (1.25.2)\n",
            "Requirement already satisfied: requests<3,>=2 in /usr/local/lib/python3.10/dist-packages (from langchain_community) (2.31.0)\n",
            "Requirement already satisfied: tenacity!=8.4.0,<9.0.0,>=8.1.0 in /usr/local/lib/python3.10/dist-packages (from langchain_community) (8.5.0)\n",
            "Requirement already satisfied: aiosignal>=1.1.2 in /usr/local/lib/python3.10/dist-packages (from aiohttp<4.0.0,>=3.8.3->langchain_community) (1.3.1)\n",
            "Requirement already satisfied: attrs>=17.3.0 in /usr/local/lib/python3.10/dist-packages (from aiohttp<4.0.0,>=3.8.3->langchain_community) (23.2.0)\n",
            "Requirement already satisfied: frozenlist>=1.1.1 in /usr/local/lib/python3.10/dist-packages (from aiohttp<4.0.0,>=3.8.3->langchain_community) (1.4.1)\n",
            "Requirement already satisfied: multidict<7.0,>=4.5 in /usr/local/lib/python3.10/dist-packages (from aiohttp<4.0.0,>=3.8.3->langchain_community) (6.0.5)\n",
            "Requirement already satisfied: yarl<2.0,>=1.0 in /usr/local/lib/python3.10/dist-packages (from aiohttp<4.0.0,>=3.8.3->langchain_community) (1.9.4)\n",
            "Requirement already satisfied: async-timeout<5.0,>=4.0 in /usr/local/lib/python3.10/dist-packages (from aiohttp<4.0.0,>=3.8.3->langchain_community) (4.0.3)\n",
            "Collecting marshmallow<4.0.0,>=3.18.0 (from dataclasses-json<0.7,>=0.5.7->langchain_community)\n",
            "  Downloading marshmallow-3.21.3-py3-none-any.whl (49 kB)\n",
            "\u001b[2K     \u001b[90m━━━━━━━━━━━━━━━━━━━━━━━━━━━━━━━━━━━━━━━━\u001b[0m \u001b[32m49.2/49.2 kB\u001b[0m \u001b[31m3.4 MB/s\u001b[0m eta \u001b[36m0:00:00\u001b[0m\n",
            "\u001b[?25hCollecting typing-inspect<1,>=0.4.0 (from dataclasses-json<0.7,>=0.5.7->langchain_community)\n",
            "  Downloading typing_inspect-0.9.0-py3-none-any.whl (8.8 kB)\n",
            "Requirement already satisfied: langchain-text-splitters<0.3.0,>=0.2.0 in /usr/local/lib/python3.10/dist-packages (from langchain<0.3.0,>=0.2.7->langchain_community) (0.2.2)\n",
            "Requirement already satisfied: pydantic<3,>=1 in /usr/local/lib/python3.10/dist-packages (from langchain<0.3.0,>=0.2.7->langchain_community) (2.8.2)\n",
            "Requirement already satisfied: jsonpatch<2.0,>=1.33 in /usr/local/lib/python3.10/dist-packages (from langchain-core<0.3.0,>=0.2.12->langchain_community) (1.33)\n",
            "Requirement already satisfied: packaging<25,>=23.2 in /usr/local/lib/python3.10/dist-packages (from langchain-core<0.3.0,>=0.2.12->langchain_community) (24.1)\n",
            "Requirement already satisfied: orjson<4.0.0,>=3.9.14 in /usr/local/lib/python3.10/dist-packages (from langsmith<0.2.0,>=0.1.0->langchain_community) (3.10.6)\n",
            "Requirement already satisfied: charset-normalizer<4,>=2 in /usr/local/lib/python3.10/dist-packages (from requests<3,>=2->langchain_community) (3.3.2)\n",
            "Requirement already satisfied: idna<4,>=2.5 in /usr/local/lib/python3.10/dist-packages (from requests<3,>=2->langchain_community) (3.7)\n",
            "Requirement already satisfied: urllib3<3,>=1.21.1 in /usr/local/lib/python3.10/dist-packages (from requests<3,>=2->langchain_community) (2.0.7)\n",
            "Requirement already satisfied: certifi>=2017.4.17 in /usr/local/lib/python3.10/dist-packages (from requests<3,>=2->langchain_community) (2024.7.4)\n",
            "Requirement already satisfied: typing-extensions>=4.6.0 in /usr/local/lib/python3.10/dist-packages (from SQLAlchemy<3,>=1.4->langchain_community) (4.12.2)\n",
            "Requirement already satisfied: greenlet!=0.4.17 in /usr/local/lib/python3.10/dist-packages (from SQLAlchemy<3,>=1.4->langchain_community) (3.0.3)\n",
            "Requirement already satisfied: jsonpointer>=1.9 in /usr/local/lib/python3.10/dist-packages (from jsonpatch<2.0,>=1.33->langchain-core<0.3.0,>=0.2.12->langchain_community) (3.0.0)\n",
            "Requirement already satisfied: annotated-types>=0.4.0 in /usr/local/lib/python3.10/dist-packages (from pydantic<3,>=1->langchain<0.3.0,>=0.2.7->langchain_community) (0.7.0)\n",
            "Requirement already satisfied: pydantic-core==2.20.1 in /usr/local/lib/python3.10/dist-packages (from pydantic<3,>=1->langchain<0.3.0,>=0.2.7->langchain_community) (2.20.1)\n",
            "Collecting mypy-extensions>=0.3.0 (from typing-inspect<1,>=0.4.0->dataclasses-json<0.7,>=0.5.7->langchain_community)\n",
            "  Downloading mypy_extensions-1.0.0-py3-none-any.whl (4.7 kB)\n",
            "Installing collected packages: mypy-extensions, marshmallow, typing-inspect, dataclasses-json, langchain_community\n",
            "Successfully installed dataclasses-json-0.6.7 langchain_community-0.2.7 marshmallow-3.21.3 mypy-extensions-1.0.0 typing-inspect-0.9.0\n",
            "Collecting llama-cpp-python\n",
            "  Downloading llama_cpp_python-0.2.82.tar.gz (50.7 MB)\n",
            "\u001b[2K     \u001b[90m━━━━━━━━━━━━━━━━━━━━━━━━━━━━━━━━━━━━━━━━\u001b[0m \u001b[32m50.7/50.7 MB\u001b[0m \u001b[31m14.8 MB/s\u001b[0m eta \u001b[36m0:00:00\u001b[0m\n",
            "\u001b[?25h  Installing build dependencies ... \u001b[?25l\u001b[?25hdone\n",
            "  Getting requirements to build wheel ... \u001b[?25l\u001b[?25hdone\n",
            "  Installing backend dependencies ... \u001b[?25l\u001b[?25hdone\n",
            "  Preparing metadata (pyproject.toml) ... \u001b[?25l\u001b[?25hdone\n",
            "Requirement already satisfied: typing-extensions>=4.5.0 in /usr/local/lib/python3.10/dist-packages (from llama-cpp-python) (4.12.2)\n",
            "Requirement already satisfied: numpy>=1.20.0 in /usr/local/lib/python3.10/dist-packages (from llama-cpp-python) (1.25.2)\n",
            "Collecting diskcache>=5.6.1 (from llama-cpp-python)\n",
            "  Downloading diskcache-5.6.3-py3-none-any.whl (45 kB)\n",
            "\u001b[2K     \u001b[90m━━━━━━━━━━━━━━━━━━━━━━━━━━━━━━━━━━━━━━━━\u001b[0m \u001b[32m45.5/45.5 kB\u001b[0m \u001b[31m5.5 MB/s\u001b[0m eta \u001b[36m0:00:00\u001b[0m\n",
            "\u001b[?25hRequirement already satisfied: jinja2>=2.11.3 in /usr/local/lib/python3.10/dist-packages (from llama-cpp-python) (3.1.4)\n",
            "Requirement already satisfied: MarkupSafe>=2.0 in /usr/local/lib/python3.10/dist-packages (from jinja2>=2.11.3->llama-cpp-python) (2.1.5)\n",
            "Building wheels for collected packages: llama-cpp-python\n",
            "  Building wheel for llama-cpp-python (pyproject.toml) ... \u001b[?25l\u001b[?25hdone\n",
            "  Created wheel for llama-cpp-python: filename=llama_cpp_python-0.2.82-cp310-cp310-linux_x86_64.whl size=2815253 sha256=6f93d94f3a67c943e278c53a390983c61beb1f002804349ce622a3218d63a7c5\n",
            "  Stored in directory: /root/.cache/pip/wheels/5f/da/5a/272c969ba31c678e6bee2543f3be4dfa67d0feb36ed6f94c01\n",
            "Successfully built llama-cpp-python\n",
            "Installing collected packages: diskcache, llama-cpp-python\n",
            "Successfully installed diskcache-5.6.3 llama-cpp-python-0.2.82\n",
            "Requirement already satisfied: transformers in /usr/local/lib/python3.10/dist-packages (4.41.2)\n",
            "Requirement already satisfied: huggingface_hub in /usr/local/lib/python3.10/dist-packages (0.23.4)\n",
            "Requirement already satisfied: filelock in /usr/local/lib/python3.10/dist-packages (from transformers) (3.15.4)\n",
            "Requirement already satisfied: numpy>=1.17 in /usr/local/lib/python3.10/dist-packages (from transformers) (1.25.2)\n",
            "Requirement already satisfied: packaging>=20.0 in /usr/local/lib/python3.10/dist-packages (from transformers) (24.1)\n",
            "Requirement already satisfied: pyyaml>=5.1 in /usr/local/lib/python3.10/dist-packages (from transformers) (6.0.1)\n",
            "Requirement already satisfied: regex!=2019.12.17 in /usr/local/lib/python3.10/dist-packages (from transformers) (2024.5.15)\n",
            "Requirement already satisfied: requests in /usr/local/lib/python3.10/dist-packages (from transformers) (2.31.0)\n",
            "Requirement already satisfied: tokenizers<0.20,>=0.19 in /usr/local/lib/python3.10/dist-packages (from transformers) (0.19.1)\n",
            "Requirement already satisfied: safetensors>=0.4.1 in /usr/local/lib/python3.10/dist-packages (from transformers) (0.4.3)\n",
            "Requirement already satisfied: tqdm>=4.27 in /usr/local/lib/python3.10/dist-packages (from transformers) (4.66.4)\n",
            "Requirement already satisfied: fsspec>=2023.5.0 in /usr/local/lib/python3.10/dist-packages (from huggingface_hub) (2023.6.0)\n",
            "Requirement already satisfied: typing-extensions>=3.7.4.3 in /usr/local/lib/python3.10/dist-packages (from huggingface_hub) (4.12.2)\n",
            "Requirement already satisfied: charset-normalizer<4,>=2 in /usr/local/lib/python3.10/dist-packages (from requests->transformers) (3.3.2)\n",
            "Requirement already satisfied: idna<4,>=2.5 in /usr/local/lib/python3.10/dist-packages (from requests->transformers) (3.7)\n",
            "Requirement already satisfied: urllib3<3,>=1.21.1 in /usr/local/lib/python3.10/dist-packages (from requests->transformers) (2.0.7)\n",
            "Requirement already satisfied: certifi>=2017.4.17 in /usr/local/lib/python3.10/dist-packages (from requests->transformers) (2024.7.4)\n"
          ]
        }
      ],
      "source": [
        "##%%capture ## this will stop printing installs\n",
        "%pip install pytz\n",
        "%pip install openai\n",
        "%pip install langchain\n",
        "%pip install langchain_community\n",
        "%pip install llama-cpp-python\n",
        "%pip install transformers huggingface_hub\n"
      ]
    },
    {
      "cell_type": "code",
      "source": [
        "from google.colab import drive\n",
        "import pandas as pd\n",
        "import numpy as np\n",
        "from langchain_community.chat_models import ChatOpenAI\n",
        "#from langchain.agents import AgentType, initialize_agent, load_tools, Tool\n",
        "#from langchain.utilities import SerpAPIWrapper ## for example for Google\n",
        "## from langchain.tools import BaseTool\n",
        "\n",
        "from transformers import pipeline\n",
        "import os\n",
        "from langchain import PromptTemplate, LLMChain, OpenAI\n",
        "\n",
        "from langchain_community.llms import LlamaCpp\n",
        "from langchain_core.callbacks import CallbackManager, StreamingStdOutCallbackHandler\n",
        "\n",
        "\n",
        "from typing import List\n",
        "import json\n",
        "import tqdm\n",
        "import random\n",
        "from IPython.display import display, Markdown, Latex\n",
        "\n",
        "from huggingface_hub import hf_hub_download\n",
        "\n"
      ],
      "metadata": {
        "id": "1itZyIFXq_H5"
      },
      "execution_count": 2,
      "outputs": []
    },
    {
      "cell_type": "code",
      "source": [
        "data = pd.read_csv(\"https://docs.google.com/spreadsheets/d/e/2PACX-1vR9_S-ReAQHMCdJ0RqUJg-hg7T-Z7xs8qqxR8Vlt8bhlNu0cH0BIXYKoZsfvX5fZ1aC9KdZgHabMgiq/pub?gid=1278628737&single=true&output=csv\")\n",
        "test_data = pd.read_csv(\"https://docs.google.com/spreadsheets/d/e/2PACX-1vRDDvdVlzA1-VyuudRR7kgpm1OkADsngVls79ziCfVKndt4SsVVD_wDySGWPruUqxlpFPkOViZx3Z0o/pub?gid=1932597986&single=true&output=csv\")"
      ],
      "metadata": {
        "id": "mk_YTmBzrhhF"
      },
      "execution_count": 3,
      "outputs": []
    },
    {
      "cell_type": "code",
      "source": [
        "data.head()"
      ],
      "metadata": {
        "colab": {
          "base_uri": "https://localhost:8080/",
          "height": 206
        },
        "id": "su_gvjACuaEN",
        "outputId": "1786a7b4-03df-4949-adb7-70aa449a0a70"
      },
      "execution_count": 4,
      "outputs": [
        {
          "output_type": "execute_result",
          "data": {
            "text/plain": [
              "  essay_id                                          full_text  score\n",
              "0  be29f81  There is no question that the driverless car i...      4\n",
              "1  be96267  I will be telling you about a story called \"A ...      2\n",
              "2  417a337  While driveless cars a cooler driving yourself...      2\n",
              "3  dcf3a1e  Dear State Senator,\\n\\nI do not like the Elect...      4\n",
              "4  9d04b4e  The \" Unmasking the Face on Mars\" was NOT crea...      3"
            ],
            "text/html": [
              "\n",
              "  <div id=\"df-7ae6f357-4417-4733-9f01-f29fafdcfb06\" class=\"colab-df-container\">\n",
              "    <div>\n",
              "<style scoped>\n",
              "    .dataframe tbody tr th:only-of-type {\n",
              "        vertical-align: middle;\n",
              "    }\n",
              "\n",
              "    .dataframe tbody tr th {\n",
              "        vertical-align: top;\n",
              "    }\n",
              "\n",
              "    .dataframe thead th {\n",
              "        text-align: right;\n",
              "    }\n",
              "</style>\n",
              "<table border=\"1\" class=\"dataframe\">\n",
              "  <thead>\n",
              "    <tr style=\"text-align: right;\">\n",
              "      <th></th>\n",
              "      <th>essay_id</th>\n",
              "      <th>full_text</th>\n",
              "      <th>score</th>\n",
              "    </tr>\n",
              "  </thead>\n",
              "  <tbody>\n",
              "    <tr>\n",
              "      <th>0</th>\n",
              "      <td>be29f81</td>\n",
              "      <td>There is no question that the driverless car i...</td>\n",
              "      <td>4</td>\n",
              "    </tr>\n",
              "    <tr>\n",
              "      <th>1</th>\n",
              "      <td>be96267</td>\n",
              "      <td>I will be telling you about a story called \"A ...</td>\n",
              "      <td>2</td>\n",
              "    </tr>\n",
              "    <tr>\n",
              "      <th>2</th>\n",
              "      <td>417a337</td>\n",
              "      <td>While driveless cars a cooler driving yourself...</td>\n",
              "      <td>2</td>\n",
              "    </tr>\n",
              "    <tr>\n",
              "      <th>3</th>\n",
              "      <td>dcf3a1e</td>\n",
              "      <td>Dear State Senator,\\n\\nI do not like the Elect...</td>\n",
              "      <td>4</td>\n",
              "    </tr>\n",
              "    <tr>\n",
              "      <th>4</th>\n",
              "      <td>9d04b4e</td>\n",
              "      <td>The \" Unmasking the Face on Mars\" was NOT crea...</td>\n",
              "      <td>3</td>\n",
              "    </tr>\n",
              "  </tbody>\n",
              "</table>\n",
              "</div>\n",
              "    <div class=\"colab-df-buttons\">\n",
              "\n",
              "  <div class=\"colab-df-container\">\n",
              "    <button class=\"colab-df-convert\" onclick=\"convertToInteractive('df-7ae6f357-4417-4733-9f01-f29fafdcfb06')\"\n",
              "            title=\"Convert this dataframe to an interactive table.\"\n",
              "            style=\"display:none;\">\n",
              "\n",
              "  <svg xmlns=\"http://www.w3.org/2000/svg\" height=\"24px\" viewBox=\"0 -960 960 960\">\n",
              "    <path d=\"M120-120v-720h720v720H120Zm60-500h600v-160H180v160Zm220 220h160v-160H400v160Zm0 220h160v-160H400v160ZM180-400h160v-160H180v160Zm440 0h160v-160H620v160ZM180-180h160v-160H180v160Zm440 0h160v-160H620v160Z\"/>\n",
              "  </svg>\n",
              "    </button>\n",
              "\n",
              "  <style>\n",
              "    .colab-df-container {\n",
              "      display:flex;\n",
              "      gap: 12px;\n",
              "    }\n",
              "\n",
              "    .colab-df-convert {\n",
              "      background-color: #E8F0FE;\n",
              "      border: none;\n",
              "      border-radius: 50%;\n",
              "      cursor: pointer;\n",
              "      display: none;\n",
              "      fill: #1967D2;\n",
              "      height: 32px;\n",
              "      padding: 0 0 0 0;\n",
              "      width: 32px;\n",
              "    }\n",
              "\n",
              "    .colab-df-convert:hover {\n",
              "      background-color: #E2EBFA;\n",
              "      box-shadow: 0px 1px 2px rgba(60, 64, 67, 0.3), 0px 1px 3px 1px rgba(60, 64, 67, 0.15);\n",
              "      fill: #174EA6;\n",
              "    }\n",
              "\n",
              "    .colab-df-buttons div {\n",
              "      margin-bottom: 4px;\n",
              "    }\n",
              "\n",
              "    [theme=dark] .colab-df-convert {\n",
              "      background-color: #3B4455;\n",
              "      fill: #D2E3FC;\n",
              "    }\n",
              "\n",
              "    [theme=dark] .colab-df-convert:hover {\n",
              "      background-color: #434B5C;\n",
              "      box-shadow: 0px 1px 3px 1px rgba(0, 0, 0, 0.15);\n",
              "      filter: drop-shadow(0px 1px 2px rgba(0, 0, 0, 0.3));\n",
              "      fill: #FFFFFF;\n",
              "    }\n",
              "  </style>\n",
              "\n",
              "    <script>\n",
              "      const buttonEl =\n",
              "        document.querySelector('#df-7ae6f357-4417-4733-9f01-f29fafdcfb06 button.colab-df-convert');\n",
              "      buttonEl.style.display =\n",
              "        google.colab.kernel.accessAllowed ? 'block' : 'none';\n",
              "\n",
              "      async function convertToInteractive(key) {\n",
              "        const element = document.querySelector('#df-7ae6f357-4417-4733-9f01-f29fafdcfb06');\n",
              "        const dataTable =\n",
              "          await google.colab.kernel.invokeFunction('convertToInteractive',\n",
              "                                                    [key], {});\n",
              "        if (!dataTable) return;\n",
              "\n",
              "        const docLinkHtml = 'Like what you see? Visit the ' +\n",
              "          '<a target=\"_blank\" href=https://colab.research.google.com/notebooks/data_table.ipynb>data table notebook</a>'\n",
              "          + ' to learn more about interactive tables.';\n",
              "        element.innerHTML = '';\n",
              "        dataTable['output_type'] = 'display_data';\n",
              "        await google.colab.output.renderOutput(dataTable, element);\n",
              "        const docLink = document.createElement('div');\n",
              "        docLink.innerHTML = docLinkHtml;\n",
              "        element.appendChild(docLink);\n",
              "      }\n",
              "    </script>\n",
              "  </div>\n",
              "\n",
              "\n",
              "<div id=\"df-cd318317-879b-4aef-a59c-875a16833792\">\n",
              "  <button class=\"colab-df-quickchart\" onclick=\"quickchart('df-cd318317-879b-4aef-a59c-875a16833792')\"\n",
              "            title=\"Suggest charts\"\n",
              "            style=\"display:none;\">\n",
              "\n",
              "<svg xmlns=\"http://www.w3.org/2000/svg\" height=\"24px\"viewBox=\"0 0 24 24\"\n",
              "     width=\"24px\">\n",
              "    <g>\n",
              "        <path d=\"M19 3H5c-1.1 0-2 .9-2 2v14c0 1.1.9 2 2 2h14c1.1 0 2-.9 2-2V5c0-1.1-.9-2-2-2zM9 17H7v-7h2v7zm4 0h-2V7h2v10zm4 0h-2v-4h2v4z\"/>\n",
              "    </g>\n",
              "</svg>\n",
              "  </button>\n",
              "\n",
              "<style>\n",
              "  .colab-df-quickchart {\n",
              "      --bg-color: #E8F0FE;\n",
              "      --fill-color: #1967D2;\n",
              "      --hover-bg-color: #E2EBFA;\n",
              "      --hover-fill-color: #174EA6;\n",
              "      --disabled-fill-color: #AAA;\n",
              "      --disabled-bg-color: #DDD;\n",
              "  }\n",
              "\n",
              "  [theme=dark] .colab-df-quickchart {\n",
              "      --bg-color: #3B4455;\n",
              "      --fill-color: #D2E3FC;\n",
              "      --hover-bg-color: #434B5C;\n",
              "      --hover-fill-color: #FFFFFF;\n",
              "      --disabled-bg-color: #3B4455;\n",
              "      --disabled-fill-color: #666;\n",
              "  }\n",
              "\n",
              "  .colab-df-quickchart {\n",
              "    background-color: var(--bg-color);\n",
              "    border: none;\n",
              "    border-radius: 50%;\n",
              "    cursor: pointer;\n",
              "    display: none;\n",
              "    fill: var(--fill-color);\n",
              "    height: 32px;\n",
              "    padding: 0;\n",
              "    width: 32px;\n",
              "  }\n",
              "\n",
              "  .colab-df-quickchart:hover {\n",
              "    background-color: var(--hover-bg-color);\n",
              "    box-shadow: 0 1px 2px rgba(60, 64, 67, 0.3), 0 1px 3px 1px rgba(60, 64, 67, 0.15);\n",
              "    fill: var(--button-hover-fill-color);\n",
              "  }\n",
              "\n",
              "  .colab-df-quickchart-complete:disabled,\n",
              "  .colab-df-quickchart-complete:disabled:hover {\n",
              "    background-color: var(--disabled-bg-color);\n",
              "    fill: var(--disabled-fill-color);\n",
              "    box-shadow: none;\n",
              "  }\n",
              "\n",
              "  .colab-df-spinner {\n",
              "    border: 2px solid var(--fill-color);\n",
              "    border-color: transparent;\n",
              "    border-bottom-color: var(--fill-color);\n",
              "    animation:\n",
              "      spin 1s steps(1) infinite;\n",
              "  }\n",
              "\n",
              "  @keyframes spin {\n",
              "    0% {\n",
              "      border-color: transparent;\n",
              "      border-bottom-color: var(--fill-color);\n",
              "      border-left-color: var(--fill-color);\n",
              "    }\n",
              "    20% {\n",
              "      border-color: transparent;\n",
              "      border-left-color: var(--fill-color);\n",
              "      border-top-color: var(--fill-color);\n",
              "    }\n",
              "    30% {\n",
              "      border-color: transparent;\n",
              "      border-left-color: var(--fill-color);\n",
              "      border-top-color: var(--fill-color);\n",
              "      border-right-color: var(--fill-color);\n",
              "    }\n",
              "    40% {\n",
              "      border-color: transparent;\n",
              "      border-right-color: var(--fill-color);\n",
              "      border-top-color: var(--fill-color);\n",
              "    }\n",
              "    60% {\n",
              "      border-color: transparent;\n",
              "      border-right-color: var(--fill-color);\n",
              "    }\n",
              "    80% {\n",
              "      border-color: transparent;\n",
              "      border-right-color: var(--fill-color);\n",
              "      border-bottom-color: var(--fill-color);\n",
              "    }\n",
              "    90% {\n",
              "      border-color: transparent;\n",
              "      border-bottom-color: var(--fill-color);\n",
              "    }\n",
              "  }\n",
              "</style>\n",
              "\n",
              "  <script>\n",
              "    async function quickchart(key) {\n",
              "      const quickchartButtonEl =\n",
              "        document.querySelector('#' + key + ' button');\n",
              "      quickchartButtonEl.disabled = true;  // To prevent multiple clicks.\n",
              "      quickchartButtonEl.classList.add('colab-df-spinner');\n",
              "      try {\n",
              "        const charts = await google.colab.kernel.invokeFunction(\n",
              "            'suggestCharts', [key], {});\n",
              "      } catch (error) {\n",
              "        console.error('Error during call to suggestCharts:', error);\n",
              "      }\n",
              "      quickchartButtonEl.classList.remove('colab-df-spinner');\n",
              "      quickchartButtonEl.classList.add('colab-df-quickchart-complete');\n",
              "    }\n",
              "    (() => {\n",
              "      let quickchartButtonEl =\n",
              "        document.querySelector('#df-cd318317-879b-4aef-a59c-875a16833792 button');\n",
              "      quickchartButtonEl.style.display =\n",
              "        google.colab.kernel.accessAllowed ? 'block' : 'none';\n",
              "    })();\n",
              "  </script>\n",
              "</div>\n",
              "\n",
              "    </div>\n",
              "  </div>\n"
            ],
            "application/vnd.google.colaboratory.intrinsic+json": {
              "type": "dataframe",
              "variable_name": "data",
              "summary": "{\n  \"name\": \"data\",\n  \"rows\": 13845,\n  \"fields\": [\n    {\n      \"column\": \"essay_id\",\n      \"properties\": {\n        \"dtype\": \"string\",\n        \"num_unique_values\": 13840,\n        \"samples\": [\n          \"6309006\",\n          \"4d6ebc9\",\n          \"ca164e9\"\n        ],\n        \"semantic_type\": \"\",\n        \"description\": \"\"\n      }\n    },\n    {\n      \"column\": \"full_text\",\n      \"properties\": {\n        \"dtype\": \"string\",\n        \"num_unique_values\": 13845,\n        \"samples\": [\n          \"FACS\\n\\nDo you ever feel like your on class but you still don't understand what your teacher is saying? Or maybe your too afriaid to say that your not comprehending the material in front of everyone. Maybe its the oppisite, you completely understand it and now class has left you bored. This is why the Facial Action Coding System would be very beneficial because it helps tell who is truthfull, it helps teacher grow, and it can help us communicate with one another.\\n\\nNot only can this device also known as FACS decipher what emotion we are making. FACS also can tell if the emotion such as a smile from a student or a polotician is genuine. These all have to with the muscle movements within your face. As it says in paragraph 8 in the article there cplete different mucles being used when\\n\\na smaile is being forced. I suppose its true that it takes more muscles for frown then it does to smile.\\n\\nFACS being able to tell whether students expressions are genuine can be very benedfical to both the student and the teacher. For example if the teacher was asking the calss if they had understood the lesson and the facial expressions seemed a bit worrysome then this would help the teacher be able to go back over that certian material a few times and help the student get the help they need. In\\n\\nparagraph 6 it says \\\"Most human communication is nonverbal, including emotional commuincation.\\\" In this it works the same way if the student has become bred with the material.\\n\\nThere is alot of different things that we need to be able to understand in order to take full advantage of this technology. In order to do that we need to understand each other. Even though we communicate through many facials. FACS will help us move forward in that.\\n\\nIn conclusion this is why the Facial Action Coding System would be very beneficial because it helps tell who is truthfull, it helps teacher grow, and it can help us communicate with one another.                \",\n          \"Cars- most people use them for transportation. It's our lazy way of getting to places.\\n\\nAutomobiles benefit us plenty when it comes to getting from point A to point B, but they also have a big negative impact. Cars are responsible for a huge amount of pollution like greenhouse gas emissions and smog. If we were to limit car usage, we could decrease the amount of stress and pollution emitted into the air, as well as give our community a chance to improve.\\n\\nIn Vauban, Germany, residents have given up their cars and have no problem doing so. Cars are generally not allowed, forbidden some would say, in this district. Vauban's streets are pretty much \\\"car-free\\\". Of course car ownership is still allowed, with the acception that you have to be able to find a place to park since there are only two places; large garages at the end of the development, where a car-owner can buy a space for $40,000, along with a home. \\\"When i had a car i was always tense. I'm much happier this way,\\\" Heidrun Walter stated, a mother of two. Experts say automobiles are a huge impediment to current efforts to drastically reduce greenhouse gas emmisions from tailpipes. In Europe, passenger cars are responsible for 12 percent of greenhouse gas emmisions and up to 50 percent in some car-intensive areas in the United States. Paris participated in a driving ban, which violators suffered a fine of 22-euro($31). Paris typically has more smog than other European capitals, for example, last week Paris had 147 micrograms of particulate matter (PM) per cubic meter while Brussels had 114 PM and 79.7 PM in London. Since Paris participated in this ban, 60 percent of Paris' smog has cleared.\\n\\nIn Bogota, Columbia, the city held a car-free day, leaving the streets eerily devoid of traffic jams. It was the third year in a row cars have been banned with only buses and taxis permitted to this Day Without Cars. Their goal is to promote alternative transportation and reduce smog as well. Violators here faced $25 fines. Even with occasional bad weather, people still participated in this event. \\\"It's a good opportunity to take away stress and lower air pollution,\\\" said Carlos Arturo Plaza, a business man, as he rode a two-seated bicycle with his wife. The Day Without Cars allowed parks and sports centers to bloom, uneven sidewalks to be replaced wih broad smooth sidewalks, new restaurants and upscale shopping districs to crop up, and rush-hour restrictions have dramatically cut traffic.\\n\\nIn the United States, Americans are starting to buy fewer cars, drive less, and get fewer licenses as each year passes (partially because cash-strapped Americans couldn't afford new cars). If this pattern continues, which many sociologists believe, it will have beneficial implications for carbon emissions and the enviornment. Even though reducing automobile transportation could have negative implications for car industries, the positive affects are much more important. In this generation, the internet allows people to connect without having to drive to meet friends. At the Mobile World Congress last year in Barcelona, Spain, Bill Ford, executive chairman of the Ford Motor Company, laid out a business plan for a world in which personal vehicle ownership is impractical or undesirable. Ford proposed partnering with the telecommunications industry to create cities in which \\\"pedesrtian, bicycle, private cars, commercial and public transportation traffic are woven into a connected network to save time, conserve resources, lower emissions and improve safety.\\\"\\n\\nIn conclusion, cars are starting to be less and less of a neccesity, and more and more people are starting to notice that automobiles are just hurting the enviornment. By limiting car use, it can limit stress, help the enviornment as well as communities to improve, save time, conserve resources and improvee safety. There are plenty of other ways to get transportation that are less damaging and dangerous, like bicycles and walking. Of course it may take a little longer to get places without a car, but you can always ride a bus, or enjoy the scenery while riding a bike or walking.    \",\n          \"Many people are wondering \\\"should we still study Venus despite the dangers it presents?\\\" People also wonder how are Venus and Earth are alike and why we call Venus or \\\"sister planet\\\"? In this article the author is telling the readers that studying Venus is worthy despite the dangers it presents. In this essay I will be telling you why the author this it is worthy to study Venus.\\n\\nThe first reason why the author thinks it is important to study Venus is because\\n\\nEarth and Venus are very much alike. Venus could not only have humans livng on it's planet by animals too. Just like Earth. The article states that \\\"Venus is covered largley with oceans and could support various forms of life.\\\" Much like Earth and how Earth has huges bodies of water that have fishes, sharks ect., living in them. The article also states that \\\"Venus has a surface of rocky sediments and includes familiar features such as valleys, mountains and carters.\\\" Earth also has plenty of rocky areas that people can live on.\\\"\\n\\nThis information proves that Venus can not only have humans living on it's plantes but animals as well and how Earth and Venus provied ways for humans to live on their planet.\\n\\nWe have idea that could be made for us to visit Venus and stay safe. Yes, Venus has weather dangers and tempreture dangers but we have the technology now that we can visit Venus and stay safe from all of those dangers. The article states that NASA has this idea of creating a vehicle that can aviod \\\"all unfriendly ground conditions by stating up and out of their way.\\\" The article also states that Venus's temperature will still remain the same but the air pressure in the vehicle \\\"would be close to that of sea level on earth.\\\" So that the person traveling in this object will stay safe and stil get all of the information he/she needs from Venus. This information lets us know that NASA has the idea of creating a safe way of getting information about Venus.\\n\\nOverall, despite all the dangers that Venus has I personally agree with the author that we should still study Venus. If we never studied Venus we would have no idea why we call it out \\\"sister planet.\\\" Or how a human could potentaillly live on Venus. So I think that it is important to study Venus so we know all of the answers to our question.\"\n        ],\n        \"semantic_type\": \"\",\n        \"description\": \"\"\n      }\n    },\n    {\n      \"column\": \"score\",\n      \"properties\": {\n        \"dtype\": \"number\",\n        \"std\": 1,\n        \"min\": 1,\n        \"max\": 6,\n        \"num_unique_values\": 6,\n        \"samples\": [\n          4,\n          2,\n          6\n        ],\n        \"semantic_type\": \"\",\n        \"description\": \"\"\n      }\n    }\n  ]\n}"
            }
          },
          "metadata": {},
          "execution_count": 4
        }
      ]
    },
    {
      "source": [
        "# @title Distribution of Essay Scores\n",
        "\n",
        "import matplotlib.pyplot as plt\n",
        "\n",
        "# Create the histogram\n",
        "plt.figure(figsize=(3, 3))\n",
        "plt.hist(data['score'], bins=range(1, 8), align='left', rwidth=0.8)\n",
        "plt.xlabel('Score')\n",
        "plt.ylabel('Frequency')\n",
        "_ = plt.title('Distribution of Essay Scores')"
      ],
      "cell_type": "code",
      "execution_count": 8,
      "outputs": [
        {
          "output_type": "display_data",
          "data": {
            "text/plain": [
              "<Figure size 300x300 with 1 Axes>"
            ],
            "image/png": "[encoded data removed]"
          },
          "metadata": {}
        }
      ],
      "metadata": {
        "colab": {
          "base_uri": "https://localhost:8080/",
          "height": 333
        },
        "id": "GQHWE75Flp89",
        "outputId": "26470a66-ea62-43c7-8320-d9db2ae02c5c"
      }
    },
    {
      "source": [
        "# @title Essay Length vs Score\n",
        "\n",
        "import matplotlib.pyplot as plt\n",
        "\n",
        "# Create the histogram\n",
        "plt.figure(figsize=(3, 3))\n",
        "plt.hist(df['score'], bins=range(1, 8), align='left', rwidth=0.8)\n",
        "plt.xlabel('Score')\n",
        "plt.ylabel('Frequency')\n",
        "_ = plt.title('Distribution of Essay Scores')"
      ],
      "cell_type": "code",
      "execution_count": 22,
      "outputs": [
        {
          "output_type": "display_data",
          "data": {
            "text/plain": [
              "<Figure size 300x300 with 1 Axes>"
            ],
            "image/png": "[encoded data removed]"
          },
          "metadata": {}
        }
      ],
      "metadata": {
        "colab": {
          "base_uri": "https://localhost:8080/",
          "height": 333
        },
        "id": "pTw9V5n-lkqm",
        "outputId": "346a5e4b-1e1f-4e91-bbab-f7d7bbb2233c"
      }
    },
    {
      "cell_type": "markdown",
      "source": [
        "## EDA"
      ],
      "metadata": {
        "id": "EqPxNVY40CRC"
      }
    },
    {
      "cell_type": "code",
      "source": [
        "# prompt: basic exploratory data analysis\n",
        "\n",
        "data.shape\n"
      ],
      "metadata": {
        "id": "IF4ayA95xifa",
        "colab": {
          "base_uri": "https://localhost:8080/"
        },
        "outputId": "6174ff5c-fbb4-493f-e8eb-899ba810902b"
      },
      "execution_count": 10,
      "outputs": [
        {
          "output_type": "execute_result",
          "data": {
            "text/plain": [
              "(13845, 3)"
            ]
          },
          "metadata": {},
          "execution_count": 10
        }
      ]
    },
    {
      "cell_type": "code",
      "source": [
        "# prompt: take random sample of full text and their marks from dataframe, the random sampling must represent the distribution of marks and allocate to a new dataframe called df.  total sample size to be 1200\n",
        "\n",
        "df = data.groupby('score').apply(lambda x: x.sample(frac=0.2, random_state=42))\n",
        "df = df.sample(frac=1, random_state=42)\n"
      ],
      "metadata": {
        "id": "9beZpfkbm7BP"
      },
      "execution_count": 19,
      "outputs": []
    },
    {
      "cell_type": "code",
      "source": [
        "df.head()"
      ],
      "metadata": {
        "colab": {
          "base_uri": "https://localhost:8080/",
          "height": 238
        },
        "id": "9CmR2a-9nbjH",
        "outputId": "4f42e10d-088d-4dae-b525-6b01051fb176"
      },
      "execution_count": 20,
      "outputs": [
        {
          "output_type": "execute_result",
          "data": {
            "text/plain": [
              "            essay_id                                          full_text  score\n",
              "score                                                                         \n",
              "3     1061   ae4bf83  Facial Action Coding is used to find the emoti...      3\n",
              "2     6552   0fc7b60  \"Making Mona Lisa Smile,\" with the facial acti...      2\n",
              "4     1492   f67f226  I think that using this technology to read the...      4\n",
              "5     13608  850bbf9  The use of Driverless cars is a new and upcomi...      5\n",
              "2     12360  f9e4d16  For me I'm not okay by techonology called the ...      2"
            ],
            "text/html": [
              "\n",
              "  <div id=\"df-3a62dae2-33c4-4463-a26f-15a2d5603438\" class=\"colab-df-container\">\n",
              "    <div>\n",
              "<style scoped>\n",
              "    .dataframe tbody tr th:only-of-type {\n",
              "        vertical-align: middle;\n",
              "    }\n",
              "\n",
              "    .dataframe tbody tr th {\n",
              "        vertical-align: top;\n",
              "    }\n",
              "\n",
              "    .dataframe thead th {\n",
              "        text-align: right;\n",
              "    }\n",
              "</style>\n",
              "<table border=\"1\" class=\"dataframe\">\n",
              "  <thead>\n",
              "    <tr style=\"text-align: right;\">\n",
              "      <th></th>\n",
              "      <th></th>\n",
              "      <th>essay_id</th>\n",
              "      <th>full_text</th>\n",
              "      <th>score</th>\n",
              "    </tr>\n",
              "    <tr>\n",
              "      <th>score</th>\n",
              "      <th></th>\n",
              "      <th></th>\n",
              "      <th></th>\n",
              "      <th></th>\n",
              "    </tr>\n",
              "  </thead>\n",
              "  <tbody>\n",
              "    <tr>\n",
              "      <th>3</th>\n",
              "      <th>1061</th>\n",
              "      <td>ae4bf83</td>\n",
              "      <td>Facial Action Coding is used to find the emoti...</td>\n",
              "      <td>3</td>\n",
              "    </tr>\n",
              "    <tr>\n",
              "      <th>2</th>\n",
              "      <th>6552</th>\n",
              "      <td>0fc7b60</td>\n",
              "      <td>\"Making Mona Lisa Smile,\" with the facial acti...</td>\n",
              "      <td>2</td>\n",
              "    </tr>\n",
              "    <tr>\n",
              "      <th>4</th>\n",
              "      <th>1492</th>\n",
              "      <td>f67f226</td>\n",
              "      <td>I think that using this technology to read the...</td>\n",
              "      <td>4</td>\n",
              "    </tr>\n",
              "    <tr>\n",
              "      <th>5</th>\n",
              "      <th>13608</th>\n",
              "      <td>850bbf9</td>\n",
              "      <td>The use of Driverless cars is a new and upcomi...</td>\n",
              "      <td>5</td>\n",
              "    </tr>\n",
              "    <tr>\n",
              "      <th>2</th>\n",
              "      <th>12360</th>\n",
              "      <td>f9e4d16</td>\n",
              "      <td>For me I'm not okay by techonology called the ...</td>\n",
              "      <td>2</td>\n",
              "    </tr>\n",
              "  </tbody>\n",
              "</table>\n",
              "</div>\n",
              "    <div class=\"colab-df-buttons\">\n",
              "\n",
              "  <div class=\"colab-df-container\">\n",
              "    <button class=\"colab-df-convert\" onclick=\"convertToInteractive('df-3a62dae2-33c4-4463-a26f-15a2d5603438')\"\n",
              "            title=\"Convert this dataframe to an interactive table.\"\n",
              "            style=\"display:none;\">\n",
              "\n",
              "  <svg xmlns=\"http://www.w3.org/2000/svg\" height=\"24px\" viewBox=\"0 -960 960 960\">\n",
              "    <path d=\"M120-120v-720h720v720H120Zm60-500h600v-160H180v160Zm220 220h160v-160H400v160Zm0 220h160v-160H400v160ZM180-400h160v-160H180v160Zm440 0h160v-160H620v160ZM180-180h160v-160H180v160Zm440 0h160v-160H620v160Z\"/>\n",
              "  </svg>\n",
              "    </button>\n",
              "\n",
              "  <style>\n",
              "    .colab-df-container {\n",
              "      display:flex;\n",
              "      gap: 12px;\n",
              "    }\n",
              "\n",
              "    .colab-df-convert {\n",
              "      background-color: #E8F0FE;\n",
              "      border: none;\n",
              "      border-radius: 50%;\n",
              "      cursor: pointer;\n",
              "      display: none;\n",
              "      fill: #1967D2;\n",
              "      height: 32px;\n",
              "      padding: 0 0 0 0;\n",
              "      width: 32px;\n",
              "    }\n",
              "\n",
              "    .colab-df-convert:hover {\n",
              "      background-color: #E2EBFA;\n",
              "      box-shadow: 0px 1px 2px rgba(60, 64, 67, 0.3), 0px 1px 3px 1px rgba(60, 64, 67, 0.15);\n",
              "      fill: #174EA6;\n",
              "    }\n",
              "\n",
              "    .colab-df-buttons div {\n",
              "      margin-bottom: 4px;\n",
              "    }\n",
              "\n",
              "    [theme=dark] .colab-df-convert {\n",
              "      background-color: #3B4455;\n",
              "      fill: #D2E3FC;\n",
              "    }\n",
              "\n",
              "    [theme=dark] .colab-df-convert:hover {\n",
              "      background-color: #434B5C;\n",
              "      box-shadow: 0px 1px 3px 1px rgba(0, 0, 0, 0.15);\n",
              "      filter: drop-shadow(0px 1px 2px rgba(0, 0, 0, 0.3));\n",
              "      fill: #FFFFFF;\n",
              "    }\n",
              "  </style>\n",
              "\n",
              "    <script>\n",
              "      const buttonEl =\n",
              "        document.querySelector('#df-3a62dae2-33c4-4463-a26f-15a2d5603438 button.colab-df-convert');\n",
              "      buttonEl.style.display =\n",
              "        google.colab.kernel.accessAllowed ? 'block' : 'none';\n",
              "\n",
              "      async function convertToInteractive(key) {\n",
              "        const element = document.querySelector('#df-3a62dae2-33c4-4463-a26f-15a2d5603438');\n",
              "        const dataTable =\n",
              "          await google.colab.kernel.invokeFunction('convertToInteractive',\n",
              "                                                    [key], {});\n",
              "        if (!dataTable) return;\n",
              "\n",
              "        const docLinkHtml = 'Like what you see? Visit the ' +\n",
              "          '<a target=\"_blank\" href=https://colab.research.google.com/notebooks/data_table.ipynb>data table notebook</a>'\n",
              "          + ' to learn more about interactive tables.';\n",
              "        element.innerHTML = '';\n",
              "        dataTable['output_type'] = 'display_data';\n",
              "        await google.colab.output.renderOutput(dataTable, element);\n",
              "        const docLink = document.createElement('div');\n",
              "        docLink.innerHTML = docLinkHtml;\n",
              "        element.appendChild(docLink);\n",
              "      }\n",
              "    </script>\n",
              "  </div>\n",
              "\n",
              "\n",
              "<div id=\"df-ae7e2ec3-a3a9-4dc7-a854-5f2bff8fe5c7\">\n",
              "  <button class=\"colab-df-quickchart\" onclick=\"quickchart('df-ae7e2ec3-a3a9-4dc7-a854-5f2bff8fe5c7')\"\n",
              "            title=\"Suggest charts\"\n",
              "            style=\"display:none;\">\n",
              "\n",
              "<svg xmlns=\"http://www.w3.org/2000/svg\" height=\"24px\"viewBox=\"0 0 24 24\"\n",
              "     width=\"24px\">\n",
              "    <g>\n",
              "        <path d=\"M19 3H5c-1.1 0-2 .9-2 2v14c0 1.1.9 2 2 2h14c1.1 0 2-.9 2-2V5c0-1.1-.9-2-2-2zM9 17H7v-7h2v7zm4 0h-2V7h2v10zm4 0h-2v-4h2v4z\"/>\n",
              "    </g>\n",
              "</svg>\n",
              "  </button>\n",
              "\n",
              "<style>\n",
              "  .colab-df-quickchart {\n",
              "      --bg-color: #E8F0FE;\n",
              "      --fill-color: #1967D2;\n",
              "      --hover-bg-color: #E2EBFA;\n",
              "      --hover-fill-color: #174EA6;\n",
              "      --disabled-fill-color: #AAA;\n",
              "      --disabled-bg-color: #DDD;\n",
              "  }\n",
              "\n",
              "  [theme=dark] .colab-df-quickchart {\n",
              "      --bg-color: #3B4455;\n",
              "      --fill-color: #D2E3FC;\n",
              "      --hover-bg-color: #434B5C;\n",
              "      --hover-fill-color: #FFFFFF;\n",
              "      --disabled-bg-color: #3B4455;\n",
              "      --disabled-fill-color: #666;\n",
              "  }\n",
              "\n",
              "  .colab-df-quickchart {\n",
              "    background-color: var(--bg-color);\n",
              "    border: none;\n",
              "    border-radius: 50%;\n",
              "    cursor: pointer;\n",
              "    display: none;\n",
              "    fill: var(--fill-color);\n",
              "    height: 32px;\n",
              "    padding: 0;\n",
              "    width: 32px;\n",
              "  }\n",
              "\n",
              "  .colab-df-quickchart:hover {\n",
              "    background-color: var(--hover-bg-color);\n",
              "    box-shadow: 0 1px 2px rgba(60, 64, 67, 0.3), 0 1px 3px 1px rgba(60, 64, 67, 0.15);\n",
              "    fill: var(--button-hover-fill-color);\n",
              "  }\n",
              "\n",
              "  .colab-df-quickchart-complete:disabled,\n",
              "  .colab-df-quickchart-complete:disabled:hover {\n",
              "    background-color: var(--disabled-bg-color);\n",
              "    fill: var(--disabled-fill-color);\n",
              "    box-shadow: none;\n",
              "  }\n",
              "\n",
              "  .colab-df-spinner {\n",
              "    border: 2px solid var(--fill-color);\n",
              "    border-color: transparent;\n",
              "    border-bottom-color: var(--fill-color);\n",
              "    animation:\n",
              "      spin 1s steps(1) infinite;\n",
              "  }\n",
              "\n",
              "  @keyframes spin {\n",
              "    0% {\n",
              "      border-color: transparent;\n",
              "      border-bottom-color: var(--fill-color);\n",
              "      border-left-color: var(--fill-color);\n",
              "    }\n",
              "    20% {\n",
              "      border-color: transparent;\n",
              "      border-left-color: var(--fill-color);\n",
              "      border-top-color: var(--fill-color);\n",
              "    }\n",
              "    30% {\n",
              "      border-color: transparent;\n",
              "      border-left-color: var(--fill-color);\n",
              "      border-top-color: var(--fill-color);\n",
              "      border-right-color: var(--fill-color);\n",
              "    }\n",
              "    40% {\n",
              "      border-color: transparent;\n",
              "      border-right-color: var(--fill-color);\n",
              "      border-top-color: var(--fill-color);\n",
              "    }\n",
              "    60% {\n",
              "      border-color: transparent;\n",
              "      border-right-color: var(--fill-color);\n",
              "    }\n",
              "    80% {\n",
              "      border-color: transparent;\n",
              "      border-right-color: var(--fill-color);\n",
              "      border-bottom-color: var(--fill-color);\n",
              "    }\n",
              "    90% {\n",
              "      border-color: transparent;\n",
              "      border-bottom-color: var(--fill-color);\n",
              "    }\n",
              "  }\n",
              "</style>\n",
              "\n",
              "  <script>\n",
              "    async function quickchart(key) {\n",
              "      const quickchartButtonEl =\n",
              "        document.querySelector('#' + key + ' button');\n",
              "      quickchartButtonEl.disabled = true;  // To prevent multiple clicks.\n",
              "      quickchartButtonEl.classList.add('colab-df-spinner');\n",
              "      try {\n",
              "        const charts = await google.colab.kernel.invokeFunction(\n",
              "            'suggestCharts', [key], {});\n",
              "      } catch (error) {\n",
              "        console.error('Error during call to suggestCharts:', error);\n",
              "      }\n",
              "      quickchartButtonEl.classList.remove('colab-df-spinner');\n",
              "      quickchartButtonEl.classList.add('colab-df-quickchart-complete');\n",
              "    }\n",
              "    (() => {\n",
              "      let quickchartButtonEl =\n",
              "        document.querySelector('#df-ae7e2ec3-a3a9-4dc7-a854-5f2bff8fe5c7 button');\n",
              "      quickchartButtonEl.style.display =\n",
              "        google.colab.kernel.accessAllowed ? 'block' : 'none';\n",
              "    })();\n",
              "  </script>\n",
              "</div>\n",
              "\n",
              "    </div>\n",
              "  </div>\n"
            ],
            "application/vnd.google.colaboratory.intrinsic+json": {
              "type": "dataframe",
              "variable_name": "df",
              "summary": "{\n  \"name\": \"df\",\n  \"rows\": 2768,\n  \"fields\": [\n    {\n      \"column\": \"essay_id\",\n      \"properties\": {\n        \"dtype\": \"string\",\n        \"num_unique_values\": 2768,\n        \"samples\": [\n          \"d644651\",\n          \"e24bc2b\",\n          \"3f75229\"\n        ],\n        \"semantic_type\": \"\",\n        \"description\": \"\"\n      }\n    },\n    {\n      \"column\": \"full_text\",\n      \"properties\": {\n        \"dtype\": \"string\",\n        \"num_unique_values\": 2768,\n        \"samples\": [\n          \"Fellow citizens should know the advantages of limiting their car usage of drivng less car can reduce the pollution, For example the article \\\"In German Suburb,Life Goes on Wihtout cars\\\" it says \\\"expert says its a huge impedmient to currenty efforts to drastically reduce greenhouse gas emissions from tailpopes. Cars are responsible for 12% of greenhouse gas emission\\\". Thats why its important to cut back, If not... They could ban driving. For Example the article \\\"Paris Bans driving due to smog\\\" Paris almost of near the record pollution, so paris enfored partial drivng ban to clear the air of the global city. And there was 1 article about \\\"Car Free Day Is Spinnning into a big hit in Bogota\\\" talks about banning cars and only transportation is bike, walk, and busses.\\n\\nIn the article \\\"German Suburb,Life Goes On Without Cars\\\" people who ownes house has to pay for Parking space stated \\\"Car ownersship is allowed but they must buy a parking spaces which can cost up to $40,000\\\" cause of this people who dont have money rather buy a house instead of a car so they dont have to pay $40,000 for a parking space. 70% of Vauban's families do not own cars and 57% sold a car to move to germany.\\n\\n\\\"Paris bans driving due to smog\\\" Paris bans driving becuase after days of near record pollution, Which made Prais enforced a partial driving ban to clear the air of the global city. Mortorists with even numbered license plates were order to leave their cars at home or suffer a 22-euro fine which is $31 in USD. And some drivers dont even enfored the rule for example \\\"4,000 drivers were fined for not coperating with the rule enforced by paris offical. Diesel fuel was the blmamed since France Car which is made up of 67% of cars fueled with diesels. its a good idea for Paris to ban driving for certain amount of days because it can clear the air up with pollutions.\\n\\nIn \\\"Car free day is spinning into a big hit in Bogota\\\" they have banned driving for 3 straight years. the only transportation you could get around is buses and taxis is permmited for the day without cars in the capital city of population of 7 million. People who violate the banned of driving could faced a $25 fines, the turn out was large, despite gray clouds thay dumped rains showers on Bogota. As the mayor says \\\"its a good oppertunity to take away stress and lower air pollution\\\" in this case i agree with the mayor because having a stree-free pollution can lead to a heathier state and a clean enviroment.\\n\\n\\\"The End of Car Culture\\\" President Obama ambitous goals to curb the United States greenhouse gas emissions. Many sociologists believe it will have benefical implications for carbon emissions and the enviroments, since transporation is the 2nd largest source of american's emission. For example companys like \\\"Ford and Mercedes have been rebranding themselves as a mobility companines. with all these changes, people who stopped car commuting as a result of the recession may find less reason to resume the habits. Company who offer transportation for example in New York theres a new bike sharing program to reduce car transportation.\\n\\nSo as a fellow citizens its a good idea to cut back and save on money, and pollution to our planet earth. everyone wants a clean and safe enviroment. One thing you dont want is your country to ban or limited driving which makes you take the city bus or call a taxi.       \\u00a0       \\u00a0\\u00a0\\u00a0\\u00a0\\u00a0\\u00a0\\u00a0\\u00a0       \\u00a0    \\u00a0       \\u00a0       \\u00a0       \\u00a0       \\u00a0       \\u00a0       \\u00a0       \\u00a0       \\u00a0       \\u00a0    \",\n          \"Should we keep the electoral college? No because when you vote for your canidate in the presidential election you are actually voting for his/her electors. Also because electors can be anyone not holdin up in the public office. Finally because voters cant always control their elected electoral college member will vote for the same canidate. Over 60 percent of todays voters would prefer a more direct way of electing our officials than how we are electing them now.\\n\\nDid you know that when you vote for the canidate that you want to be elected into office you are not only voting for that canidate you are actually voting for that canidates electors? Under the electoral college system us voters dont vote for the president but we vote for a slate of electors which in turn elect the canidate we voted for. Say that you voted for Obama in last years election you didnt actually vote for Obama you voted for his electors to vote for im in turn of you voting for them. Many people see this to be fine but say that your canidates electors turned and voted for someone else thus leading you down a road of betrayl. This is one important reason for the electoral party to be disbanded.\\n\\nElectors that represent a canidate in the presidential run can be anyone not holding public office. Who chooses for these electors? Not the voters of course but the state and sometimes the people who you are actually voting for the electors you havent even heard of or seen in any flyers or ads. That state chooses their officials from state conventions,and even sometimes at the state partys committee or the president has his own party of electors for himself which would in a way be cheating by having your own officials vote for you.\\n\\nWhat if the electoral party you voted for to vote for a specific canidate and they went off and changed their mind mid election and passed that countries vote for a different xcanidate in the election? You cant always control the eletors to stick with them voting for the elector you voted for but without the electoral college that group of voters who voted for a canidate would actually vote for the canidate that they actually want to win. Thus making the electoral college irrelevent because they dont need to form a party and change their vorte mid election.\\n\\nWe should not not keep the electoral college because of all the flawls in it and the deciving image it holds up. Because you do not vote for the canidate you vote for the electorial party member representing that canidate. That the canidate can be anyone chosen by the state and you cant always control that the member of the electoral college that you voted for to vot for a different canidate that the ended up voting for during the election. This is why we dont need the electoral college to help vote for the presidents we should have a more direct way of voting.    \",\n          \"The Mona Lisa is a very impressive mix of emotions painted by the human artist Leonardo Da Vinci. However, is using a computer program that uses coding to analyze someone's feelings effective? There are two sides to every story, sometimes one may sound good, while the other bad; other times, we may see ourselves approaching both sides and seeing the pros and cons of each. Having a computer read the emotional expressions of students in a classroom can be both effective, and ineffective for several different reasons. Some of these reasons may include: emotional state, lesson planning, facial structure, critical thinking, puberty, and more.\\n\\nThe emotional state of most kids in school can vary on a day to day basis. Not every kid is always happy, and not every kid is always sad. By having a computer that can read and detect emotions, people might not feel the need to try and read each other's emotion. This would lessen their contact with their peers and lessen their ability to comprehending and understand other people's emotions and situations. Teachers might also worry if they detect that a student is sad, or angry.\\n\\nOn the other hand, having a machine that can detect emotions may be helpful to some students. As stated in the article, If most, or all, of the class is confused, this machine would help the teacher detect the confusion and help him or her explain in a way that the student's can understand. \\\"A classroom computer could recognize when a student is becoming confused or bored, then it could modify the lesson, like an effective human instructor.\\\" In this quote, we see how this computer could help adapt a better lesson plan for confused or uninterested students. If a student is depressed, anxious, or something of the like; the teacher can pull them off to the side and send them to a counselor to talk about it and help them feel better. However, we may wonder if the student is actually feeling this way.\\n\\nIf a technology like this is used, it will obviously have loads of coding in it. Sometimes there can be flaws in coding, or someone that can hack into it and change it. To have such a sensitive thing in a classroom may be dangerous for some students. Another point is that not everyone has the same facial structure. Some people even have deformities or problems that make their appearance different than other people's. If this is the case, how would the program know to seperate these people with the facial recognition of everyone else? People express themselves differently, and most have different facial expressions, if people begin to depend on a computer to detect emotions, how will they be able to identify different emotions themselves?\\n\\nThis leads to the point of critical thinking. As stated previously, students who rely on a program to detect their classmate's feelings may not try to interpret these feelings themselves. These students would go off into the real world without knowing how to identify if someone is feeling angry, sad, annoyed, or more. This lessons their social and critical thinking skills that are needed in day to day life. Perhaps this program could work on kids of certain age groups instead of every classroom.\\n\\nIn late middleschool and early highschool, most kids are turning into teenagers. This means that they start going through puberty. Puberty is a stage in life where kids start \\\"growing up\\\" and maturing. Mood swings are constant, as well as several other feeling and emotions that are caused by hormones in their bodies. In a classroom full of teengers going through hormonal changes all at once, the computer may detect many negative emotions, or mix of several different emotions that are caused by mood swings. Teachers may again become worried if their students are all anxious, sad, annoyed, bored, etc.. There are many other reasons as to why this machine might be useful and why it may not.\\n\\nThese are some of things that can be positive or negative about a system that can detect emotions in a classroom. There are definitely many more which could be debated back and forth. In my personal opinion, I do not think schools need a machine that detects emotions. I feel that it is creepy, and instead of showing my emotions, I would try to conceal them from everyone. If I feel this way, how would millions of others feel? The emotional state, lesson planning, facial structure, critical thinking, puberty, are all things that are factors of, or may be affected by this machine. Some are positive, some are not so positive. All in all, if this were to ever come to our schools, we would need a long and difficult discussion to put an end to the debate. \"\n        ],\n        \"semantic_type\": \"\",\n        \"description\": \"\"\n      }\n    },\n    {\n      \"column\": \"score\",\n      \"properties\": {\n        \"dtype\": \"number\",\n        \"std\": 1,\n        \"min\": 1,\n        \"max\": 6,\n        \"num_unique_values\": 6,\n        \"samples\": [\n          3,\n          2,\n          6\n        ],\n        \"semantic_type\": \"\",\n        \"description\": \"\"\n      }\n    }\n  ]\n}"
            }
          },
          "metadata": {},
          "execution_count": 20
        }
      ]
    },
    {
      "cell_type": "code",
      "source": [
        "df.shape"
      ],
      "metadata": {
        "colab": {
          "base_uri": "https://localhost:8080/"
        },
        "id": "AePB3mXBngxZ",
        "outputId": "9b958767-8d33-4a5b-9146-35ca6f450502"
      },
      "execution_count": 21,
      "outputs": [
        {
          "output_type": "execute_result",
          "data": {
            "text/plain": [
              "(2768, 3)"
            ]
          },
          "metadata": {},
          "execution_count": 21
        }
      ]
    },
    {
      "cell_type": "code",
      "source": [
        "# prompt: select the first raw of the column full_text\n",
        "\n",
        "first_full_text = df['full_text'].iloc[0]\n"
      ],
      "metadata": {
        "id": "lwt2lG1o03Di"
      },
      "execution_count": null,
      "outputs": []
    },
    {
      "cell_type": "code",
      "source": [
        "df['full_text'].iloc[0]"
      ],
      "metadata": {
        "colab": {
          "base_uri": "https://localhost:8080/",
          "height": 250
        },
        "id": "SXLZgnm70emx",
        "outputId": "eb37cce6-b19e-45ff-abba-21c7f9366e62"
      },
      "execution_count": 65,
      "outputs": [
        {
          "output_type": "execute_result",
          "data": {
            "text/plain": [
              "'Facial Action Coding is used to find the emotions of people based on how their muscles move in their face. As should by Mona Lisa she is \"83 percent happy, 9 percent disgusted, 6 perfect fearful, and 2 perfect angry.\" Therefore the FACS has show. Mona Lisa\\'s emotions just by the coding. As you can see FACS would be great to help out around the world.\\n\\nFacial Action Coding could help a lot in schools with helping people learn better. Dr. Huang states \"A classroom computer could recognize when a student is becoming confused or bored,\" This shows that the classroom with FACS means a classroom where learning can become better. If a student is confused FACS can modify the lesson or help get the student unconfused. Also instead of students zoning out in class Facial Action Coding System will notice it. After FACS notices the student zoning out it can make sure the student zones back into the lesson. FACS can tell is someone is faking being happy. These are all reasons why VACS can help with everyday life.\\n\\nIn the end Facial Action Coding System could change how the school systems and the everyday life of humans are changed. With VACS no ones emotions would be saves, so it would be easy to tell if someone is scared, tired, sad, and happy. Mona Lisa was just a example what would you do it that was you?             '"
            ],
            "application/vnd.google.colaboratory.intrinsic+json": {
              "type": "string"
            }
          },
          "metadata": {},
          "execution_count": 65
        }
      ]
    },
    {
      "cell_type": "markdown",
      "source": [
        "## LLMs  \n",
        "\n",
        "Resource links:\n",
        "1. https://python.langchain.com/v0.1/docs/modules/model_io/output_parsers/types/enum/\n",
        "2. https://python.langchain.com/v0.1/docs/modules/model_io/output_parsers/types/structured/\n",
        "3. https://llama.meta.com/docs/model-cards-and-prompt-formats/meta-llama-3/"
      ],
      "metadata": {
        "id": "zB1M0W7X0E27"
      }
    },
    {
      "cell_type": "markdown",
      "source": [
        "## OpenRouter\n",
        "We will use OpenRouter as the API for our LLMs and use our Large Language Models via LangChain. You can use any LLM you like. Be mindful of cost, as a team you have $3 worth of credit.\n",
        "\n",
        "https://openrouter.ai/models"
      ],
      "metadata": {
        "id": "JsKIsb7x8fKH"
      }
    },
    {
      "cell_type": "markdown",
      "source": [
        "## LLAMA3 8B\n",
        "\n",
        "The LLAMA3 8B model is a freely available model by Meta (creators of Facebook).\n",
        "\n",
        "Hugging Face link: https://huggingface.co/meta-llama/Meta-Llama-3-8B\n",
        "\n",
        "How good is it?\n",
        "![Screenshot 2024-07-13 105133.png](data:image/png;base64,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)\n",
        "\n",
        "\n"
      ],
      "metadata": {
        "id": "p86x2DSIHh8U"
      }
    },
    {
      "cell_type": "code",
      "source": [
        "os.environ[\"OPENROUTER_API_KEY\"] = \"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\""
      ],
      "metadata": {
        "id": "KR9HOJfA0Ifk"
      },
      "execution_count": 23,
      "outputs": []
    },
    {
      "cell_type": "code",
      "source": [
        "\n",
        "class ChatOpenRouter(ChatOpenAI):\n",
        "    openai_api_base: str\n",
        "    openai_api_key: str\n",
        "    model_name: str\n",
        "\n",
        "    def __init__(self,\n",
        "                 model_name: str,\n",
        "                 #openai_api_key: Optional[str] = None,\n",
        "                 openai_api_base: str = \"https://openrouter.ai/api/v1\",\n",
        "                 **kwargs):\n",
        "        openai_api_key = os.getenv('OPENROUTER_API_KEY')\n",
        "        super().__init__(openai_api_base=openai_api_base,\n",
        "                         openai_api_key=openai_api_key,\n",
        "                         model_name=model_name, **kwargs)\n",
        "\n",
        "llm = ChatOpenRouter(\n",
        "    model_name=\"meta-llama/llama-3-8b-instruct\"\n",
        ")"
      ],
      "metadata": {
        "id": "FMpBolZd0F2v"
      },
      "execution_count": 25,
      "outputs": []
    },
    {
      "cell_type": "code",
      "source": [
        "display(Markdown(llm.invoke(\"What makes a good essay?\").content))"
      ],
      "metadata": {
        "colab": {
          "base_uri": "https://localhost:8080/",
          "height": 584
        },
        "id": "gwyE906E15BW",
        "outputId": "9fc06002-c827-43bc-bdec-521149e04bb4"
      },
      "execution_count": 26,
      "outputs": [
        {
          "output_type": "display_data",
          "data": {
            "text/plain": [
              "<IPython.core.display.Markdown object>"
            ],
            "text/markdown": "A good essay typically possesses several key characteristics that make it effective and engaging. Here are some of the most important factors that contribute to a well-written essay:\n\n1. **Clear thesis statement**: A strong thesis statement provides a clear direction and focus for the essay, summarizing the main argument or point.\n2. **Strong organization**: A logical and coherent structure, including an introduction, body paragraphs, and a conclusion, helps to guide the reader through the essay.\n3. **Effective writing style**: Clarity, concision, and persuasiveness are essential. The writer should use a formal, academic tone and avoid jargon and overly complex language.\n4. **Solid evidence**: The essay should be supported by credible sources, such as academic journals, books, or reputable websites, to establish credibility and authority.\n5. **Analysis and interpretation**: The writer should analyze the evidence and interpret its significance, rather than simply presenting facts.\n6. **Clear and concise language**: The essay should use simple and straightforward language, avoiding ambiguity and complexity.\n7. **Transitions and connections**: Seamless transitions between paragraphs and sections help to create a cohesive and logical flow.\n8. **Effective use of examples and anecdotes**: Relevant and well-chosen examples and anecdotes can make the essay more engaging and memorable.\n9. **Conclusion**: A strong conclusion summarizes the main points, reiterates the thesis, and leaves a lasting impression on the reader.\n10. **Editing and proofreading**: Careful editing and proofreading ensure that the essay is free of errors, grammatical mistakes, and typos.\n11. **Original thought and perspective**: A unique perspective or insight, backed by evidence, can make the essay stand out and demonstrate the writer's expertise.\n12. **Adherence to guidelines**: The essay should follow the specified guidelines, such as word count, formatting, and citation style.\n\nBy incorporating these key elements, a good essay demonstrates the writer's ability to think critically, analyze information, and communicate their ideas effectively.\n\nRemember, a good essay is not just about presenting information, but also about crafting a compelling argument, using evidence to support it, and engaging the reader with a clear and persuasive voice."
          },
          "metadata": {}
        }
      ]
    },
    {
      "cell_type": "code",
      "source": [
        "from langchain.output_parsers.enum import EnumOutputParser"
      ],
      "metadata": {
        "id": "NPhWSzw2qEvp"
      },
      "execution_count": 27,
      "outputs": []
    },
    {
      "cell_type": "code",
      "source": [
        "from enum import Enum\n",
        "\n",
        "class Score(Enum):\n",
        "    ONE = '1'\n",
        "    TWO = '2'\n",
        "    THREE = '3'\n",
        "    FOUR = '4'\n",
        "    FIVE = '5'\n",
        "    SIX = '6'"
      ],
      "metadata": {
        "id": "Jg-plMxPps6f"
      },
      "execution_count": 46,
      "outputs": []
    },
    {
      "cell_type": "code",
      "source": [
        "parser = EnumOutputParser(enum=Score)"
      ],
      "metadata": {
        "id": "B_RH8GuMp_vA"
      },
      "execution_count": 39,
      "outputs": []
    },
    {
      "cell_type": "code",
      "source": [
        "from langchain.output_parsers import ResponseSchema, StructuredOutputParser\n",
        "\n",
        "response_schemas = [\n",
        "    ResponseSchema(name=\"comment\", description=\"essay comment\"),\n",
        "    ResponseSchema(\n",
        "        name=\"score\",\n",
        "        description=\"a single number - a score in 1,2,3,4,5,6 only\",\n",
        "        type=\"int\",\n",
        "    ),\n",
        "]\n",
        "output_parser = StructuredOutputParser.from_response_schemas(response_schemas)\n"
      ],
      "metadata": {
        "id": "wZ3z3EyX88-x"
      },
      "execution_count": 133,
      "outputs": []
    },
    {
      "cell_type": "code",
      "source": [
        "from langchain_core.prompts import PromptTemplate\n",
        "\n",
        "prompt = PromptTemplate.from_template(\n",
        "    \"\"\"You are a helpful English teacher grading essays\n",
        "\n",
        "{instructions}\n",
        "\n",
        "> essay: {essay}\n",
        "\n",
        "question: {question}\n",
        "\n",
        "\n",
        "\"\"\",\n",
        "    partial_variables={\n",
        "        \"instructions\": output_parser.get_format_instructions(),\n",
        "    },\n",
        ")\n",
        "formatted_prompt = prompt.format(essay=df['full_text'].iloc[4], question=\"How would you grade this essay?\")\n"
      ],
      "metadata": {
        "id": "CQZyvmFNqAv2"
      },
      "execution_count": 203,
      "outputs": []
    },
    {
      "cell_type": "code",
      "source": [
        "display(Markdown(formatted_prompt))"
      ],
      "metadata": {
        "colab": {
          "base_uri": "https://localhost:8080/",
          "height": 585
        },
        "id": "0ukvAf5d6ubq",
        "outputId": "b63d24d1-c91a-4b31-e339-5540c8ceea78"
      },
      "execution_count": 155,
      "outputs": [
        {
          "output_type": "display_data",
          "data": {
            "text/plain": [
              "<IPython.core.display.Markdown object>"
            ],
            "text/markdown": "You are a helpful English teacher grading essays\n\nThe output should be a markdown code snippet formatted in the following schema, including the leading and trailing \"```json\" and \"```\":\n\n```json\n{\n\t\"comment\": string  // essay comment\n\t\"score\": int  // a single number - a score in 1,2,3,4,5,6 only\n}\n```\n\n> essay: For me I'm not okay by techonology called the Facial Action System because that can't tell that you can describe people's emotion, For me i think we're the only one and are family who can tell what's are emotion we can't also tell what's other's people emotions and also if you really don't know that person you can't really say or red what's their emotions. Like example even we smile in front of people that doesn't express that we're really happy etc because sometimes people smile because they don't want to see other people's worrying for them so they're just choosing to smile in front of them. Like me sometime's if im with other people even l'm sad or angry, l don't what to show what's my real emotion because l'm just choosing to smile in front of them because i don't want them to worry about my emotion or something. The only people who can read or tell what's are emotion is no other than are parents because they know us better than other people. We been on their tummy for nine months so they are the only one who can really read or tell what are emotion.\n\n\"While looking in the mirror \" By looking in the mirror can't really explain or say what's are emotion are becuase mirror don't speak and it doens't tell your emotions. People use mirro just becuase they want to see what's on their face or if it's dirty or what, how they look before they go somewhere. Mirror just copying what were doing in front of the mirror like if you start talking ofcorse your twin face in the mirror also gonna start talking too,becuase mirror is just a piece of a glass that can't describe what's people's emotion. Mirror can copy what were doing but can't say what are emotion or feeling.\n\n\"Dr. Huang predict that it could be modify the lesson, like an effective human instructor. The same technology can amke computer-animated faces more expressive for video games or video surgery because of of human is nonverbal, including emotional communication. Dr. Huang said computer should understand that too becuase its really hard and different.\n\nquestion: How would you grade this essay?\n\n\n"
          },
          "metadata": {}
        }
      ]
    },
    {
      "cell_type": "code",
      "source": [
        "\n",
        "chain = llm.bind(max_tokens=100) | output_parser\n"
      ],
      "metadata": {
        "id": "5xPlItlg8l2d"
      },
      "execution_count": 147,
      "outputs": []
    },
    {
      "cell_type": "code",
      "source": [
        "\n",
        "result_dict = chain.invoke(formatted_prompt)\n"
      ],
      "metadata": {
        "id": "-5BCnvdXr08H"
      },
      "execution_count": 156,
      "outputs": []
    },
    {
      "cell_type": "code",
      "source": [
        "result_dict"
      ],
      "metadata": {
        "colab": {
          "base_uri": "https://localhost:8080/"
        },
        "id": "xRCmp_b4A_ao",
        "outputId": "c2479216-5135-4d5c-df08-29c81d6a38fc"
      },
      "execution_count": 157,
      "outputs": [
        {
          "output_type": "execute_result",
          "data": {
            "text/plain": [
              "{'comment': 'The essay could benefit from more clear and concise sentence structure, as well as improved vocabulary. Additionally, the writer could have explored the topic more deeply by providing specific examples and evidence to support their claims. That being said, the essay does demonstrate some thoughtful ideas and insights into the limitations of facial recognition technology and the importance of human emotional communication.',\n",
              " 'score': 3}"
            ]
          },
          "metadata": {},
          "execution_count": 157
        }
      ]
    },
    {
      "cell_type": "code",
      "source": [
        "pd.DataFrame([result_dict])"
      ],
      "metadata": {
        "colab": {
          "base_uri": "https://localhost:8080/",
          "height": 81
        },
        "id": "okoAwSYcs_HT",
        "outputId": "b2279c5f-211c-4215-f0b3-25699aeef949"
      },
      "execution_count": 151,
      "outputs": [
        {
          "output_type": "execute_result",
          "data": {
            "text/plain": [
              "                                             comment  score\n",
              "0  The essay lacks coherence and clarity, with ma...      2"
            ],
            "text/html": [
              "\n",
              "  <div id=\"df-8a69757a-8a44-46d9-8f01-37a28b2ecdc3\" class=\"colab-df-container\">\n",
              "    <div>\n",
              "<style scoped>\n",
              "    .dataframe tbody tr th:only-of-type {\n",
              "        vertical-align: middle;\n",
              "    }\n",
              "\n",
              "    .dataframe tbody tr th {\n",
              "        vertical-align: top;\n",
              "    }\n",
              "\n",
              "    .dataframe thead th {\n",
              "        text-align: right;\n",
              "    }\n",
              "</style>\n",
              "<table border=\"1\" class=\"dataframe\">\n",
              "  <thead>\n",
              "    <tr style=\"text-align: right;\">\n",
              "      <th></th>\n",
              "      <th>comment</th>\n",
              "      <th>score</th>\n",
              "    </tr>\n",
              "  </thead>\n",
              "  <tbody>\n",
              "    <tr>\n",
              "      <th>0</th>\n",
              "      <td>The essay lacks coherence and clarity, with ma...</td>\n",
              "      <td>2</td>\n",
              "    </tr>\n",
              "  </tbody>\n",
              "</table>\n",
              "</div>\n",
              "    <div class=\"colab-df-buttons\">\n",
              "\n",
              "  <div class=\"colab-df-container\">\n",
              "    <button class=\"colab-df-convert\" onclick=\"convertToInteractive('df-8a69757a-8a44-46d9-8f01-37a28b2ecdc3')\"\n",
              "            title=\"Convert this dataframe to an interactive table.\"\n",
              "            style=\"display:none;\">\n",
              "\n",
              "  <svg xmlns=\"http://www.w3.org/2000/svg\" height=\"24px\" viewBox=\"0 -960 960 960\">\n",
              "    <path d=\"M120-120v-720h720v720H120Zm60-500h600v-160H180v160Zm220 220h160v-160H400v160Zm0 220h160v-160H400v160ZM180-400h160v-160H180v160Zm440 0h160v-160H620v160ZM180-180h160v-160H180v160Zm440 0h160v-160H620v160Z\"/>\n",
              "  </svg>\n",
              "    </button>\n",
              "\n",
              "  <style>\n",
              "    .colab-df-container {\n",
              "      display:flex;\n",
              "      gap: 12px;\n",
              "    }\n",
              "\n",
              "    .colab-df-convert {\n",
              "      background-color: #E8F0FE;\n",
              "      border: none;\n",
              "      border-radius: 50%;\n",
              "      cursor: pointer;\n",
              "      display: none;\n",
              "      fill: #1967D2;\n",
              "      height: 32px;\n",
              "      padding: 0 0 0 0;\n",
              "      width: 32px;\n",
              "    }\n",
              "\n",
              "    .colab-df-convert:hover {\n",
              "      background-color: #E2EBFA;\n",
              "      box-shadow: 0px 1px 2px rgba(60, 64, 67, 0.3), 0px 1px 3px 1px rgba(60, 64, 67, 0.15);\n",
              "      fill: #174EA6;\n",
              "    }\n",
              "\n",
              "    .colab-df-buttons div {\n",
              "      margin-bottom: 4px;\n",
              "    }\n",
              "\n",
              "    [theme=dark] .colab-df-convert {\n",
              "      background-color: #3B4455;\n",
              "      fill: #D2E3FC;\n",
              "    }\n",
              "\n",
              "    [theme=dark] .colab-df-convert:hover {\n",
              "      background-color: #434B5C;\n",
              "      box-shadow: 0px 1px 3px 1px rgba(0, 0, 0, 0.15);\n",
              "      filter: drop-shadow(0px 1px 2px rgba(0, 0, 0, 0.3));\n",
              "      fill: #FFFFFF;\n",
              "    }\n",
              "  </style>\n",
              "\n",
              "    <script>\n",
              "      const buttonEl =\n",
              "        document.querySelector('#df-8a69757a-8a44-46d9-8f01-37a28b2ecdc3 button.colab-df-convert');\n",
              "      buttonEl.style.display =\n",
              "        google.colab.kernel.accessAllowed ? 'block' : 'none';\n",
              "\n",
              "      async function convertToInteractive(key) {\n",
              "        const element = document.querySelector('#df-8a69757a-8a44-46d9-8f01-37a28b2ecdc3');\n",
              "        const dataTable =\n",
              "          await google.colab.kernel.invokeFunction('convertToInteractive',\n",
              "                                                    [key], {});\n",
              "        if (!dataTable) return;\n",
              "\n",
              "        const docLinkHtml = 'Like what you see? Visit the ' +\n",
              "          '<a target=\"_blank\" href=https://colab.research.google.com/notebooks/data_table.ipynb>data table notebook</a>'\n",
              "          + ' to learn more about interactive tables.';\n",
              "        element.innerHTML = '';\n",
              "        dataTable['output_type'] = 'display_data';\n",
              "        await google.colab.output.renderOutput(dataTable, element);\n",
              "        const docLink = document.createElement('div');\n",
              "        docLink.innerHTML = docLinkHtml;\n",
              "        element.appendChild(docLink);\n",
              "      }\n",
              "    </script>\n",
              "  </div>\n",
              "\n",
              "\n",
              "    </div>\n",
              "  </div>\n"
            ],
            "application/vnd.google.colaboratory.intrinsic+json": {
              "type": "dataframe",
              "summary": "{\n  \"name\": \"pd\",\n  \"rows\": 1,\n  \"fields\": [\n    {\n      \"column\": \"comment\",\n      \"properties\": {\n        \"dtype\": \"string\",\n        \"num_unique_values\": 1,\n        \"samples\": [\n          \"The essay lacks coherence and clarity, with many sentences being incomplete or poorly structured. The writer's arguments are not well-supported and often rely on general statements rather than evidence. Additionally, there are several grammatical and spelling errors throughout the essay. To improve, the writer should focus on developing clear and concise arguments, providing evidence to support their claims, and editing their work carefully.\"\n        ],\n        \"semantic_type\": \"\",\n        \"description\": \"\"\n      }\n    },\n    {\n      \"column\": \"score\",\n      \"properties\": {\n        \"dtype\": \"number\",\n        \"std\": null,\n        \"min\": 2,\n        \"max\": 2,\n        \"num_unique_values\": 1,\n        \"samples\": [\n          2\n        ],\n        \"semantic_type\": \"\",\n        \"description\": \"\"\n      }\n    }\n  ]\n}"
            }
          },
          "metadata": {},
          "execution_count": 151
        }
      ]
    },
    {
      "cell_type": "code",
      "source": [
        "# Dictionary to store results\n",
        "Final_results = []\n",
        "\n",
        "for i in range(20):\n",
        "    essay_text = df['full_text'].iloc[i]\n",
        "    actual_score = df['score'].iloc[i]\n",
        "    # Pass input variables as a dictionary to prompt.format()\n",
        "    loop_prompt2 = prompt.format(essay=essay_text, question=\"How would you grade this essay? Respond in JSON format with two keys called 'score' and 'comment'.\") # Modified prompt to explicitly request a valid JSON string\n",
        "\n",
        "    # Chain operations\n",
        "    chain = llm.bind(max_tokens=256) | output_parser\n",
        "\n",
        "    # Invoke chain with formatted prompt\n",
        "    results = chain.invoke(loop_prompt2)\n",
        "    results.update({\"actual_score\":actual_score})\n",
        "\n",
        "    # Assuming output_parser correctly parses the JSON format with 'comment' and 'score' keys\n",
        "    # Store result in Final_results\n",
        "    Final_results += [results]\n",
        "\n",
        "# Display the Final_results dictionary\n",
        "print(\"Final Results Dictionary:\")\n",
        "print(Final_results)"
      ],
      "metadata": {
        "colab": {
          "base_uri": "https://localhost:8080/"
        },
        "id": "zjXK9lxsETZA",
        "outputId": "d733f59d-88e3-4d4c-d596-36c1ce6a401a"
      },
      "execution_count": 215,
      "outputs": [
        {
          "output_type": "stream",
          "name": "stdout",
          "text": [
            "Final Results Dictionary:\n",
            "[{'comment': 'The essay attempts to explain Facial Action Coding, but lacks clarity, coherence, and supporting evidence. The writer jumps between ideas without connecting them effectively, and some sentences are unclear or contain errors. However, the essay shows enthusiasm and a willingness to explore the potential applications of FACS. With improvement in organization, clarity, and writing quality, this essay could be stronger.', 'score': 3, 'actual_score': 3}, {'comment': 'The essay explores the topic of facial emotion recognition, but lacks clear structure and transitions between ideas. Some interesting points are made about the potential uses and limitations of the technology, but the writing could be more concise and focused. Overall, the essay demonstrates a good understanding of the topic, but may benefit from more attention to organization and clarity.', 'score': 4, 'actual_score': 2}, {'score': 4, 'comment': \"Overall, this is a clear and concise essay that effectively argues the value of the Facial Action Coding System in the classroom. The writer provides several specific reasons for why this technology is valuable, such as its ability to show when students are losing interest or becoming confused. The writing is easy to follow, and the sentences are well-structured. However, there are a few areas for improvement, such as minor errors in grammar and punctuation (e.g. 'becuase' instead of 'because'). Additionally, some of the sentences could be more varied in terms of sentence structure and length. Nevertheless, this is a strong effort that demonstrates a good understanding of the topic.\", 'actual_score': 4}, {'comment': 'The essay attempts to present three reasons why driverless cars are unsafe and too expensive. However, the writing is marred by numerous grammatical errors, including incorrect use of homophones, verb tense inconsistencies, and sentence fragments. The arguments are also not well-supported with evidence from the provided article and lack depth and nuance. The conclusion is abrupt and does not effectively summarize the main points. Overall, the essay requires significant revision to improve its clarity, coherence, and effectiveness.', 'score': 2, 'actual_score': 5}, {'comment': \"The essay demonstrates some understanding of the topic, but lacks clarity, coherence, and effective communication. The writer's thoughts are not well-organized, and there are many grammatical and spelling errors. The writer also relies heavily on personal anecdotes and opinions rather than supporting evidence. To improve, the writer should focus on organizing their ideas, using clear and concise language, and providing supporting evidence from credible sources.\", 'score': 2, 'actual_score': 2}, {'score': 4, 'comment': 'This essay shows good effort and enthusiasm, but struggles with organization, grammar, and clarity. The writer jumps between different topics and ideas without connecting them smoothly. There are also some errors in sentence structure and punctuation. However, the essay has a clear and personal tone, and the writer effectively conveys their experience and emotions. With some revisions to focus on clarity and coherence, this essay has potential.', 'actual_score': 2}, {'comment': 'The essay lacks clarity and coherence, with many grammatical errors and vague statements. The writer attempts to make a point about the value of emotional intelligence technology, but the argument is not well-developed and is marred by illogical conclusions and unsubstantiated claims. To improve, the writer should focus on clear and concise writing, provide specific examples to support their points, and address potential flaws in their argument.', 'score': 2, 'actual_score': 2}, {'comment': \"This essay effectively uses dialogue to present a debate between two characters, Keilah and Adrian, on the topic of the 'Face on Mars'. The writer does a good job of capturing the tone and language of the conversation, and the inclusion of specific details and facts adds credibility to the argument. However, the essay could benefit from more development of the characters' personalities and motivations, as well as a clearer thesis statement that ties the debate together. Additionally, there are some minor errors in grammar and punctuation that should be addressed.\", 'score': 4, 'actual_score': 3}, {'comment': 'The essay is well-structured and easy to follow, with a clear introduction and conclusion. However, there are some issues with grammar, spelling, and sentence structure. The writing could be more engaging and varied. Additionally, some sentences are quite short and lack supporting evidence to back up claims. Overall, a good effort, but room for improvement.', 'score': 4, 'actual_score': 3}, {'score': 2, 'comment': \"The essay lacks clear organization and transitions between paragraphs. The writer's opinion is not fully developed, and there is a lack of supporting evidence. The writing is simple and lacks varied sentence structure. Additionally, there are several grammatical errors and awkward phrasing. To improve, the writer should focus on developing a clear thesis statement, using more complex sentence structures, and revising for clarity and coherence.\", 'actual_score': 2}, {'score': 4, 'comment': \"A enthusiastic and personal essay that effectively conveys the writer's passion for being a seagoing cowboy. The essay has a clear structure and engaging content, with vivid descriptions of daily life and responsibilities. However, there are some minor issues with grammar, punctuation, and sentence structure, which detract from the overall clarity and coherence of the writing. Additionally, the essay could benefit from more nuanced and sophisticated language, as well as more attention to organization and transitions between paragraphs.\", 'actual_score': 4}, {'comment': 'The essay clearly presents the argument against the electoral college system and in favor of a direct voting system. The writer provides some supporting evidence and examples, such as the Al Gore situation. However, the essay could benefit from more development of the ideas and more nuanced analysis. Some points, such as the potential for bribery in the House of Representatives, are not fully explored. Additionally, the essay could benefit from more attention to grammar, punctuation, and sentence structure. Overall, a good effort, but room for improvement.', 'score': 4, 'actual_score': 4}, {'comment': 'The essay shows some enthusiasm for the Facial Action Coding System, but lacks clarity and organization. The writing is also marred by numerous grammatical and spelling errors. To improve, the writer could focus on developing a clear thesis statement, provide more supporting evidence, and proofread the essay carefully.', 'score': 2, 'actual_score': 3}, {'score': 4, 'comment': \"The essay is well-structured, with a clear introduction and conclusion. The writer's personal experience and enthusiasm for the Seagoing Cowboys program shine through, making the essay engaging to read. However, the essay could benefit from more varied sentence structure and a stronger focus on the reasons why the program is valuable, rather than just listing its benefits. Additionally, some sentences could be tightened up for greater clarity.\", 'actual_score': 4}, {'comment': \"The student has some good ideas and attempts to use evidence from the text, but the writing is simplistic and lacks depth. The student's tone is conversational and informal, which may be engaging for a class discussion but is not suitable for an essay. The essay could benefit from more complex sentence structures, more precise vocabulary, and clearer organization.\", 'score': 3, 'actual_score': 3}, {'comment': 'Overall, the essay is well-structured and easy to follow. The writer uses relevant quotes from the text to support their arguments. However, there are some minor errors in grammar and punctuation, and the writer could benefit from more nuanced analysis and specific examples to support their points. Additionally, the essay could be strengthened by more thoughtful and detailed consideration of the question being asked.', 'score': 4, 'actual_score': 3}, {'score': 4, 'comment': \"The essay demonstrates a good understanding of the article and the author's main points. The writer provides some thoughtful insights and acknowledges potential limitations of the proposal. However, the writing could be improved with more clarity, coherence, and attention to grammar and spelling. Additionally, the essay could benefit from more critical analysis and deeper exploration of the author's ideas.\", 'actual_score': 3}, {'comment': \"The essay attempts to describe Luke's experience as a Seagoing Cowboy, but lacks coherence, clarity, and specific details. The writing is simple and lacks variety in sentence structure. Additionally, there are several grammatical errors and punctuation mistakes. However, the essay does show some effort to convey Luke's experiences and the impact it had on him.\", 'score': 3, 'actual_score': 2}, {'comment': \"The student's essay is clear and concise, but lacks depth and evidence-based analysis. The writer presents some good points, such as the formation of the 'mouth and eyes' being due to shadows, and the lack of scientific backing from NASA. However, the essay is heavily reliant on personal opinion and lacks concrete evidence to support the argument. The writer fails to address the most common counterarguments and does not provide a clear and logical conclusion. Overall, the essay demonstrates a good understanding of the topic, but requires more development and critical thinking.\", 'score': 3, 'actual_score': 2}, {'comment': 'The essay presents a clear and concise argument in favor of changing the presidential election system to popular vote. However, the writing is simplistic and lacks depth, with many sentences being short and lacking supporting evidence. The use of quotes from external sources is a good attempt, but the citing is informal and lacks proper formatting. Additionally, the essay could benefit from more varied sentence structures and vocabulary. Overall, the essay shows potential, but needs improvement in terms of writing quality and depth.', 'score': 3, 'actual_score': 3}]\n"
          ]
        }
      ]
    },
    {
      "cell_type": "code",
      "source": [
        "pd.DataFrame(Final_results)"
      ],
      "metadata": {
        "colab": {
          "base_uri": "https://localhost:8080/",
          "height": 677
        },
        "id": "KPSKTrJYCfUR",
        "outputId": "890ba0bc-5671-43b0-c440-c5f47833f61b"
      },
      "execution_count": 216,
      "outputs": [
        {
          "output_type": "execute_result",
          "data": {
            "text/plain": [
              "                                              comment  score  actual_score\n",
              "0   The essay attempts to explain Facial Action Co...      3             3\n",
              "1   The essay explores the topic of facial emotion...      4             2\n",
              "2   Overall, this is a clear and concise essay tha...      4             4\n",
              "3   The essay attempts to present three reasons wh...      2             5\n",
              "4   The essay demonstrates some understanding of t...      2             2\n",
              "5   This essay shows good effort and enthusiasm, b...      4             2\n",
              "6   The essay lacks clarity and coherence, with ma...      2             2\n",
              "7   This essay effectively uses dialogue to presen...      4             3\n",
              "8   The essay is well-structured and easy to follo...      4             3\n",
              "9   The essay lacks clear organization and transit...      2             2\n",
              "10  A enthusiastic and personal essay that effecti...      4             4\n",
              "11  The essay clearly presents the argument agains...      4             4\n",
              "12  The essay shows some enthusiasm for the Facial...      2             3\n",
              "13  The essay is well-structured, with a clear int...      4             4\n",
              "14  The student has some good ideas and attempts t...      3             3\n",
              "15  Overall, the essay is well-structured and easy...      4             3\n",
              "16  The essay demonstrates a good understanding of...      4             3\n",
              "17  The essay attempts to describe Luke's experien...      3             2\n",
              "18  The student's essay is clear and concise, but ...      3             2\n",
              "19  The essay presents a clear and concise argumen...      3             3"
            ],
            "text/html": [
              "\n",
              "  <div id=\"df-5d630225-1846-4dcb-9b76-cc5bc6e496f7\" class=\"colab-df-container\">\n",
              "    <div>\n",
              "<style scoped>\n",
              "    .dataframe tbody tr th:only-of-type {\n",
              "        vertical-align: middle;\n",
              "    }\n",
              "\n",
              "    .dataframe tbody tr th {\n",
              "        vertical-align: top;\n",
              "    }\n",
              "\n",
              "    .dataframe thead th {\n",
              "        text-align: right;\n",
              "    }\n",
              "</style>\n",
              "<table border=\"1\" class=\"dataframe\">\n",
              "  <thead>\n",
              "    <tr style=\"text-align: right;\">\n",
              "      <th></th>\n",
              "      <th>comment</th>\n",
              "      <th>score</th>\n",
              "      <th>actual_score</th>\n",
              "    </tr>\n",
              "  </thead>\n",
              "  <tbody>\n",
              "    <tr>\n",
              "      <th>0</th>\n",
              "      <td>The essay attempts to explain Facial Action Co...</td>\n",
              "      <td>3</td>\n",
              "      <td>3</td>\n",
              "    </tr>\n",
              "    <tr>\n",
              "      <th>1</th>\n",
              "      <td>The essay explores the topic of facial emotion...</td>\n",
              "      <td>4</td>\n",
              "      <td>2</td>\n",
              "    </tr>\n",
              "    <tr>\n",
              "      <th>2</th>\n",
              "      <td>Overall, this is a clear and concise essay tha...</td>\n",
              "      <td>4</td>\n",
              "      <td>4</td>\n",
              "    </tr>\n",
              "    <tr>\n",
              "      <th>3</th>\n",
              "      <td>The essay attempts to present three reasons wh...</td>\n",
              "      <td>2</td>\n",
              "      <td>5</td>\n",
              "    </tr>\n",
              "    <tr>\n",
              "      <th>4</th>\n",
              "      <td>The essay demonstrates some understanding of t...</td>\n",
              "      <td>2</td>\n",
              "      <td>2</td>\n",
              "    </tr>\n",
              "    <tr>\n",
              "      <th>5</th>\n",
              "      <td>This essay shows good effort and enthusiasm, b...</td>\n",
              "      <td>4</td>\n",
              "      <td>2</td>\n",
              "    </tr>\n",
              "    <tr>\n",
              "      <th>6</th>\n",
              "      <td>The essay lacks clarity and coherence, with ma...</td>\n",
              "      <td>2</td>\n",
              "      <td>2</td>\n",
              "    </tr>\n",
              "    <tr>\n",
              "      <th>7</th>\n",
              "      <td>This essay effectively uses dialogue to presen...</td>\n",
              "      <td>4</td>\n",
              "      <td>3</td>\n",
              "    </tr>\n",
              "    <tr>\n",
              "      <th>8</th>\n",
              "      <td>The essay is well-structured and easy to follo...</td>\n",
              "      <td>4</td>\n",
              "      <td>3</td>\n",
              "    </tr>\n",
              "    <tr>\n",
              "      <th>9</th>\n",
              "      <td>The essay lacks clear organization and transit...</td>\n",
              "      <td>2</td>\n",
              "      <td>2</td>\n",
              "    </tr>\n",
              "    <tr>\n",
              "      <th>10</th>\n",
              "      <td>A enthusiastic and personal essay that effecti...</td>\n",
              "      <td>4</td>\n",
              "      <td>4</td>\n",
              "    </tr>\n",
              "    <tr>\n",
              "      <th>11</th>\n",
              "      <td>The essay clearly presents the argument agains...</td>\n",
              "      <td>4</td>\n",
              "      <td>4</td>\n",
              "    </tr>\n",
              "    <tr>\n",
              "      <th>12</th>\n",
              "      <td>The essay shows some enthusiasm for the Facial...</td>\n",
              "      <td>2</td>\n",
              "      <td>3</td>\n",
              "    </tr>\n",
              "    <tr>\n",
              "      <th>13</th>\n",
              "      <td>The essay is well-structured, with a clear int...</td>\n",
              "      <td>4</td>\n",
              "      <td>4</td>\n",
              "    </tr>\n",
              "    <tr>\n",
              "      <th>14</th>\n",
              "      <td>The student has some good ideas and attempts t...</td>\n",
              "      <td>3</td>\n",
              "      <td>3</td>\n",
              "    </tr>\n",
              "    <tr>\n",
              "      <th>15</th>\n",
              "      <td>Overall, the essay is well-structured and easy...</td>\n",
              "      <td>4</td>\n",
              "      <td>3</td>\n",
              "    </tr>\n",
              "    <tr>\n",
              "      <th>16</th>\n",
              "      <td>The essay demonstrates a good understanding of...</td>\n",
              "      <td>4</td>\n",
              "      <td>3</td>\n",
              "    </tr>\n",
              "    <tr>\n",
              "      <th>17</th>\n",
              "      <td>The essay attempts to describe Luke's experien...</td>\n",
              "      <td>3</td>\n",
              "      <td>2</td>\n",
              "    </tr>\n",
              "    <tr>\n",
              "      <th>18</th>\n",
              "      <td>The student's essay is clear and concise, but ...</td>\n",
              "      <td>3</td>\n",
              "      <td>2</td>\n",
              "    </tr>\n",
              "    <tr>\n",
              "      <th>19</th>\n",
              "      <td>The essay presents a clear and concise argumen...</td>\n",
              "      <td>3</td>\n",
              "      <td>3</td>\n",
              "    </tr>\n",
              "  </tbody>\n",
              "</table>\n",
              "</div>\n",
              "    <div class=\"colab-df-buttons\">\n",
              "\n",
              "  <div class=\"colab-df-container\">\n",
              "    <button class=\"colab-df-convert\" onclick=\"convertToInteractive('df-5d630225-1846-4dcb-9b76-cc5bc6e496f7')\"\n",
              "            title=\"Convert this dataframe to an interactive table.\"\n",
              "            style=\"display:none;\">\n",
              "\n",
              "  <svg xmlns=\"http://www.w3.org/2000/svg\" height=\"24px\" viewBox=\"0 -960 960 960\">\n",
              "    <path d=\"M120-120v-720h720v720H120Zm60-500h600v-160H180v160Zm220 220h160v-160H400v160Zm0 220h160v-160H400v160ZM180-400h160v-160H180v160Zm440 0h160v-160H620v160ZM180-180h160v-160H180v160Zm440 0h160v-160H620v160Z\"/>\n",
              "  </svg>\n",
              "    </button>\n",
              "\n",
              "  <style>\n",
              "    .colab-df-container {\n",
              "      display:flex;\n",
              "      gap: 12px;\n",
              "    }\n",
              "\n",
              "    .colab-df-convert {\n",
              "      background-color: #E8F0FE;\n",
              "      border: none;\n",
              "      border-radius: 50%;\n",
              "      cursor: pointer;\n",
              "      display: none;\n",
              "      fill: #1967D2;\n",
              "      height: 32px;\n",
              "      padding: 0 0 0 0;\n",
              "      width: 32px;\n",
              "    }\n",
              "\n",
              "    .colab-df-convert:hover {\n",
              "      background-color: #E2EBFA;\n",
              "      box-shadow: 0px 1px 2px rgba(60, 64, 67, 0.3), 0px 1px 3px 1px rgba(60, 64, 67, 0.15);\n",
              "      fill: #174EA6;\n",
              "    }\n",
              "\n",
              "    .colab-df-buttons div {\n",
              "      margin-bottom: 4px;\n",
              "    }\n",
              "\n",
              "    [theme=dark] .colab-df-convert {\n",
              "      background-color: #3B4455;\n",
              "      fill: #D2E3FC;\n",
              "    }\n",
              "\n",
              "    [theme=dark] .colab-df-convert:hover {\n",
              "      background-color: #434B5C;\n",
              "      box-shadow: 0px 1px 3px 1px rgba(0, 0, 0, 0.15);\n",
              "      filter: drop-shadow(0px 1px 2px rgba(0, 0, 0, 0.3));\n",
              "      fill: #FFFFFF;\n",
              "    }\n",
              "  </style>\n",
              "\n",
              "    <script>\n",
              "      const buttonEl =\n",
              "        document.querySelector('#df-5d630225-1846-4dcb-9b76-cc5bc6e496f7 button.colab-df-convert');\n",
              "      buttonEl.style.display =\n",
              "        google.colab.kernel.accessAllowed ? 'block' : 'none';\n",
              "\n",
              "      async function convertToInteractive(key) {\n",
              "        const element = document.querySelector('#df-5d630225-1846-4dcb-9b76-cc5bc6e496f7');\n",
              "        const dataTable =\n",
              "          await google.colab.kernel.invokeFunction('convertToInteractive',\n",
              "                                                    [key], {});\n",
              "        if (!dataTable) return;\n",
              "\n",
              "        const docLinkHtml = 'Like what you see? Visit the ' +\n",
              "          '<a target=\"_blank\" href=https://colab.research.google.com/notebooks/data_table.ipynb>data table notebook</a>'\n",
              "          + ' to learn more about interactive tables.';\n",
              "        element.innerHTML = '';\n",
              "        dataTable['output_type'] = 'display_data';\n",
              "        await google.colab.output.renderOutput(dataTable, element);\n",
              "        const docLink = document.createElement('div');\n",
              "        docLink.innerHTML = docLinkHtml;\n",
              "        element.appendChild(docLink);\n",
              "      }\n",
              "    </script>\n",
              "  </div>\n",
              "\n",
              "\n",
              "<div id=\"df-f728eb46-d8f9-4c03-abff-c18ddaf7da24\">\n",
              "  <button class=\"colab-df-quickchart\" onclick=\"quickchart('df-f728eb46-d8f9-4c03-abff-c18ddaf7da24')\"\n",
              "            title=\"Suggest charts\"\n",
              "            style=\"display:none;\">\n",
              "\n",
              "<svg xmlns=\"http://www.w3.org/2000/svg\" height=\"24px\"viewBox=\"0 0 24 24\"\n",
              "     width=\"24px\">\n",
              "    <g>\n",
              "        <path d=\"M19 3H5c-1.1 0-2 .9-2 2v14c0 1.1.9 2 2 2h14c1.1 0 2-.9 2-2V5c0-1.1-.9-2-2-2zM9 17H7v-7h2v7zm4 0h-2V7h2v10zm4 0h-2v-4h2v4z\"/>\n",
              "    </g>\n",
              "</svg>\n",
              "  </button>\n",
              "\n",
              "<style>\n",
              "  .colab-df-quickchart {\n",
              "      --bg-color: #E8F0FE;\n",
              "      --fill-color: #1967D2;\n",
              "      --hover-bg-color: #E2EBFA;\n",
              "      --hover-fill-color: #174EA6;\n",
              "      --disabled-fill-color: #AAA;\n",
              "      --disabled-bg-color: #DDD;\n",
              "  }\n",
              "\n",
              "  [theme=dark] .colab-df-quickchart {\n",
              "      --bg-color: #3B4455;\n",
              "      --fill-color: #D2E3FC;\n",
              "      --hover-bg-color: #434B5C;\n",
              "      --hover-fill-color: #FFFFFF;\n",
              "      --disabled-bg-color: #3B4455;\n",
              "      --disabled-fill-color: #666;\n",
              "  }\n",
              "\n",
              "  .colab-df-quickchart {\n",
              "    background-color: var(--bg-color);\n",
              "    border: none;\n",
              "    border-radius: 50%;\n",
              "    cursor: pointer;\n",
              "    display: none;\n",
              "    fill: var(--fill-color);\n",
              "    height: 32px;\n",
              "    padding: 0;\n",
              "    width: 32px;\n",
              "  }\n",
              "\n",
              "  .colab-df-quickchart:hover {\n",
              "    background-color: var(--hover-bg-color);\n",
              "    box-shadow: 0 1px 2px rgba(60, 64, 67, 0.3), 0 1px 3px 1px rgba(60, 64, 67, 0.15);\n",
              "    fill: var(--button-hover-fill-color);\n",
              "  }\n",
              "\n",
              "  .colab-df-quickchart-complete:disabled,\n",
              "  .colab-df-quickchart-complete:disabled:hover {\n",
              "    background-color: var(--disabled-bg-color);\n",
              "    fill: var(--disabled-fill-color);\n",
              "    box-shadow: none;\n",
              "  }\n",
              "\n",
              "  .colab-df-spinner {\n",
              "    border: 2px solid var(--fill-color);\n",
              "    border-color: transparent;\n",
              "    border-bottom-color: var(--fill-color);\n",
              "    animation:\n",
              "      spin 1s steps(1) infinite;\n",
              "  }\n",
              "\n",
              "  @keyframes spin {\n",
              "    0% {\n",
              "      border-color: transparent;\n",
              "      border-bottom-color: var(--fill-color);\n",
              "      border-left-color: var(--fill-color);\n",
              "    }\n",
              "    20% {\n",
              "      border-color: transparent;\n",
              "      border-left-color: var(--fill-color);\n",
              "      border-top-color: var(--fill-color);\n",
              "    }\n",
              "    30% {\n",
              "      border-color: transparent;\n",
              "      border-left-color: var(--fill-color);\n",
              "      border-top-color: var(--fill-color);\n",
              "      border-right-color: var(--fill-color);\n",
              "    }\n",
              "    40% {\n",
              "      border-color: transparent;\n",
              "      border-right-color: var(--fill-color);\n",
              "      border-top-color: var(--fill-color);\n",
              "    }\n",
              "    60% {\n",
              "      border-color: transparent;\n",
              "      border-right-color: var(--fill-color);\n",
              "    }\n",
              "    80% {\n",
              "      border-color: transparent;\n",
              "      border-right-color: var(--fill-color);\n",
              "      border-bottom-color: var(--fill-color);\n",
              "    }\n",
              "    90% {\n",
              "      border-color: transparent;\n",
              "      border-bottom-color: var(--fill-color);\n",
              "    }\n",
              "  }\n",
              "</style>\n",
              "\n",
              "  <script>\n",
              "    async function quickchart(key) {\n",
              "      const quickchartButtonEl =\n",
              "        document.querySelector('#' + key + ' button');\n",
              "      quickchartButtonEl.disabled = true;  // To prevent multiple clicks.\n",
              "      quickchartButtonEl.classList.add('colab-df-spinner');\n",
              "      try {\n",
              "        const charts = await google.colab.kernel.invokeFunction(\n",
              "            'suggestCharts', [key], {});\n",
              "      } catch (error) {\n",
              "        console.error('Error during call to suggestCharts:', error);\n",
              "      }\n",
              "      quickchartButtonEl.classList.remove('colab-df-spinner');\n",
              "      quickchartButtonEl.classList.add('colab-df-quickchart-complete');\n",
              "    }\n",
              "    (() => {\n",
              "      let quickchartButtonEl =\n",
              "        document.querySelector('#df-f728eb46-d8f9-4c03-abff-c18ddaf7da24 button');\n",
              "      quickchartButtonEl.style.display =\n",
              "        google.colab.kernel.accessAllowed ? 'block' : 'none';\n",
              "    })();\n",
              "  </script>\n",
              "</div>\n",
              "\n",
              "    </div>\n",
              "  </div>\n"
            ],
            "application/vnd.google.colaboratory.intrinsic+json": {
              "type": "dataframe",
              "summary": "{\n  \"name\": \"pd\",\n  \"rows\": 20,\n  \"fields\": [\n    {\n      \"column\": \"comment\",\n      \"properties\": {\n        \"dtype\": \"string\",\n        \"num_unique_values\": 20,\n        \"samples\": [\n          \"The essay attempts to explain Facial Action Coding, but lacks clarity, coherence, and supporting evidence. The writer jumps between ideas without connecting them effectively, and some sentences are unclear or contain errors. However, the essay shows enthusiasm and a willingness to explore the potential applications of FACS. With improvement in organization, clarity, and writing quality, this essay could be stronger.\",\n          \"The essay attempts to describe Luke's experience as a Seagoing Cowboy, but lacks coherence, clarity, and specific details. The writing is simple and lacks variety in sentence structure. Additionally, there are several grammatical errors and punctuation mistakes. However, the essay does show some effort to convey Luke's experiences and the impact it had on him.\",\n          \"Overall, the essay is well-structured and easy to follow. The writer uses relevant quotes from the text to support their arguments. However, there are some minor errors in grammar and punctuation, and the writer could benefit from more nuanced analysis and specific examples to support their points. Additionally, the essay could be strengthened by more thoughtful and detailed consideration of the question being asked.\"\n        ],\n        \"semantic_type\": \"\",\n        \"description\": \"\"\n      }\n    },\n    {\n      \"column\": \"score\",\n      \"properties\": {\n        \"dtype\": \"number\",\n        \"std\": 0,\n        \"min\": 2,\n        \"max\": 4,\n        \"num_unique_values\": 3,\n        \"samples\": [\n          3,\n          4,\n          2\n        ],\n        \"semantic_type\": \"\",\n        \"description\": \"\"\n      }\n    },\n    {\n      \"column\": \"actual_score\",\n      \"properties\": {\n        \"dtype\": \"number\",\n        \"std\": 0,\n        \"min\": 2,\n        \"max\": 5,\n        \"num_unique_values\": 4,\n        \"samples\": [\n          2,\n          5,\n          3\n        ],\n        \"semantic_type\": \"\",\n        \"description\": \"\"\n      }\n    }\n  ]\n}"
            }
          },
          "metadata": {},
          "execution_count": 216
        }
      ]
    },
    {
      "cell_type": "code",
      "source": [
        "# prompt: scatter plot of score vs actual score, no decimal points in x and y label\n",
        "\n",
        "import matplotlib.pyplot as plt\n",
        "\n",
        "x = [result['score'] for result in Final_results]\n",
        "y = [result['actual_score'] for result in Final_results]\n",
        "\n",
        "plt.scatter(x, y)\n",
        "plt.xlabel('Predicted Score', fontsize=12)\n",
        "plt.ylabel('Actual Score', fontsize=12)\n",
        "plt.xticks(np.arange(1, 7, 1))\n",
        "plt.yticks(np.arange(1, 7, 1))\n",
        "plt.show()\n"
      ],
      "metadata": {
        "colab": {
          "base_uri": "https://localhost:8080/",
          "height": 459
        },
        "id": "mJLnA5EBFlWu",
        "outputId": "10013364-3580-4e5b-e2f9-4d884cf2fade"
      },
      "execution_count": 217,
      "outputs": [
        {
          "output_type": "display_data",
          "data": {
            "text/plain": [
              "<Figure size 640x480 with 1 Axes>"
            ],
            "image/png": "[encoded data removed]"
          },
          "metadata": {}
        }
      ]
    },
    {
      "cell_type": "code",
      "source": [
        "import matplotlib.pyplot as plt\n",
        "\n",
        "# Extract scores and actual scores\n",
        "x = [result['score'] for result in Final_results]\n",
        "y = [result['actual_score'] for result in Final_results]\n",
        "\n",
        "# Group by score and actual score and count occurrences\n",
        "grouped_data = {}\n",
        "for i in range(len(x)):\n",
        "  key = (x[i], y[i])\n",
        "  if key not in grouped_data:\n",
        "    grouped_data[key] = 0\n",
        "  grouped_data[key] += 1\n",
        "\n",
        "# Calculate sizes for bubbles, ensuring same length as x and y\n",
        "sizes = [grouped_data.get((x[i], y[i]), 0) * 100 for i in range(len(x))] # Use .get() with a default value to handle missing keys\n",
        "\n",
        "# Create bubble plot\n",
        "plt.figure(figsize=(8, 5))\n",
        "plt.scatter(x, y, s=sizes, alpha=0.5)  # Use calculated sizes here\n",
        "\n",
        "# Set axis labels and ticks\n",
        "plt.xlabel('Predicted Score', fontsize=12)\n",
        "plt.ylabel('Actual Score', fontsize=12)\n",
        "plt.xticks(np.arange(1, 7, 1))\n",
        "plt.yticks(np.arange(1, 7, 1))\n",
        "\n",
        "# Remove decimal points from x and y labels\n",
        "plt.gca().xaxis.set_major_formatter(lambda x, p: int(x))\n",
        "plt.gca().yaxis.set_major_formatter(lambda x, p: int(x))\n",
        "\n",
        "# Show plot\n",
        "plt.show()"
      ],
      "metadata": {
        "colab": {
          "base_uri": "https://localhost:8080/",
          "height": 474
        },
        "id": "ykFc9jT3Neup",
        "outputId": "4462b545-7c16-45c4-cf83-6c97d8997dd8"
      },
      "execution_count": 226,
      "outputs": [
        {
          "output_type": "display_data",
          "data": {
            "text/plain": [
              "<Figure size 800x500 with 1 Axes>"
            ],
            "image/png": "[encoded data removed]"
          },
          "metadata": {}
        }
      ]
    },
    {
      "cell_type": "code",
      "source": [
        "df[\"full_text\"]"
      ],
      "metadata": {
        "colab": {
          "base_uri": "https://localhost:8080/"
        },
        "id": "C1207IFTHr5J",
        "outputId": "1c98de19-f94f-4de3-b296-39c009594a44"
      },
      "execution_count": 192,
      "outputs": [
        {
          "output_type": "execute_result",
          "data": {
            "text/plain": [
              "score       \n",
              "3      1061     Facial Action Coding is used to find the emoti...\n",
              "2      6552     \"Making Mona Lisa Smile,\" with the facial acti...\n",
              "4      1492     I think that using this technology to read the...\n",
              "5      13608    The use of Driverless cars is a new and upcomi...\n",
              "2      12360    For me I'm not okay by techonology called the ...\n",
              "                                      ...                        \n",
              "3      12215    I disagree that the use of this technology to ...\n",
              "       13437    I think that driveless cars would be alot more...\n",
              "       3367     The author suggest that studing murcery is a w...\n",
              "       12714    This new technology can really figure out if y...\n",
              "2      2607     When I participated in the Seagoing Cowboys pr...\n",
              "Name: full_text, Length: 2768, dtype: object"
            ]
          },
          "metadata": {},
          "execution_count": 192
        }
      ]
    },
    {
      "cell_type": "code",
      "source": [
        "from langchain_core.prompts import PromptTemplate\n",
        "\n",
        "prompt = PromptTemplate.from_template(\n",
        "    \"\"\"You are a helpful English teacher grading essays\n",
        "\n",
        "\n",
        "\n",
        "> essay: {essay}\n",
        "\n",
        "question: {question}\n",
        "\n",
        "\n",
        "\"\"\"\n",
        ")\n",
        "mistakes_prompt = prompt.format(essay=df['full_text'].iloc[5], question=\"are there grammer errors or punctuation mistakes?\")\n"
      ],
      "metadata": {
        "id": "Z8Z3CLg5IEAW"
      },
      "execution_count": 197,
      "outputs": []
    },
    {
      "cell_type": "code",
      "source": [
        "display(Markdown(mistakes_prompt))"
      ],
      "metadata": {
        "colab": {
          "base_uri": "https://localhost:8080/",
          "height": 411
        },
        "id": "ogkiEF9PIQzl",
        "outputId": "072c1a3e-39db-44ab-8b69-e1f0b4dcc3c5"
      },
      "execution_count": 198,
      "outputs": [
        {
          "output_type": "display_data",
          "data": {
            "text/plain": [
              "<IPython.core.display.Markdown object>"
            ],
            "text/markdown": "You are a helpful English teacher grading essays\n\n\n\n> essay: \"The Seagoing Cowboys program is an adventure,\" stated Luke. We go all over the place, for example we have been to China and Greece. The Seagoing Cowboys program made me more aware of people's needs in other countries. When we had nothing to do we would waste time by playing games in empty holds where animals had been housed.\n\nWhen I was in the Seagoing Cowboys program we helped baby cows, mules, and horses that were shipped overseas. We arrived August 14 when the Pacific war ended. Don and I headed for Greece with horses and hay and oats to feed them.\n\nYou should be apart of the program because it is fun to go on adventures and take care of the animals. Even if you don't like animals you get to have freetime and play games and visit places like China. When you unload the animals you can play tennis, boxing, reading, and whittiling. The program opened up the world for me.\n\nWhen I took care of the animals they had to be fed and watered two or three times a day. Also you had to pull up bales of hay and bags of oats. Next then you had to clean the stalls out. When I worked at a farm for my aunt Katie, it prepared me for the Seagoing Cowboys program. I was greatful for the opportuniy to help the program.\n\nYou should join the program because you help people by bring the animals and you have fun at the same time. I want to go back and join the program because it was the best thing ever and it opened up the world to me by exploring and seeing other countries. When I saw the family's in need my family hosted a number of exchanged students for many years.                \n\nquestion: are there grammer errors or punctuation mistakes?\n\n\n"
          },
          "metadata": {}
        }
      ]
    },
    {
      "cell_type": "code",
      "source": [
        "chain2 = llm.bind(max_tokens=100)\n",
        "results2 = chain2.invoke(mistakes_prompt)\n",
        "results2"
      ],
      "metadata": {
        "colab": {
          "base_uri": "https://localhost:8080/"
        },
        "id": "7TVN_gCSIqUJ",
        "outputId": "6146b953-2bd4-4bf8-9b87-e01ec324c46b"
      },
      "execution_count": 201,
      "outputs": [
        {
          "output_type": "execute_result",
          "data": {
            "text/plain": [
              "AIMessage(content='As an English teacher, I\\'m happy to help you identify some grammar errors and punctuation mistakes in this essay.\\n\\nHere are some errors I\\'ve found:\\n\\n1. **Subject-verb agreement**: In the opening sentence, \"The Seagoing Cowboys program is an adventure,\" stated Luke.\" should be \"The Seagoing Cowboys program is an adventure, according to Luke.\"\\n2. **Punctuation**: There is no punctuation after \"China\" and \"Greece\" in the first paragraph. It would', response_metadata={'token_usage': {'completion_tokens': 100, 'prompt_tokens': 385, 'total_tokens': 485}, 'model_name': 'meta-llama/llama-3-8b-instruct', 'system_fingerprint': None, 'finish_reason': 'length', 'logprobs': None}, id='run-98f8358c-f6a8-4964-9d45-805f80474989-0')"
            ]
          },
          "metadata": {},
          "execution_count": 201
        }
      ]
    },
    {
      "cell_type": "code",
      "source": [
        "# Construct the prompt as a chat message\n",
        "from langchain.schema import (\n",
        "    AIMessage,\n",
        "    HumanMessage,\n",
        "    SystemMessage\n",
        ")\n",
        "\n",
        "chat_prompt = [\n",
        "    SystemMessage(content=\"You are a helpful AI assistant.\"),\n",
        "    HumanMessage(content=\"Generate SQL code to extract numbers from the 'sales_data' table.\")\n",
        "]\n",
        "\n",
        "# Invoke the ChatOpenRouter to generate SQL code\n",
        "response = llm(chat_prompt)\n",
        "\n",
        "# Extract generated SQL code from response\n",
        "# Access the 'content' attribute directly\n",
        "sql_code = response.content.strip()\n",
        "print(sql_code)"
      ],
      "metadata": {
        "colab": {
          "base_uri": "https://localhost:8080/"
        },
        "id": "gSqqdM4bLyGo",
        "outputId": "8019f7d9-63dd-47b8-e303-bc7d4f1ce009"
      },
      "execution_count": 223,
      "outputs": [
        {
          "output_type": "stream",
          "name": "stdout",
          "text": [
            "Here is an example SQL code that extracts numbers from the 'sales_data' table:\n",
            "```\n",
            "SELECT *\n",
            "FROM sales_data\n",
            "WHERE column_name REGEXP '[0-9]+';\n",
            "```\n",
            "This code uses the `REGEXP` function to search for one or more digits (`[0-9]+`) in the `column_name` column of the `sales_data` table. The `*` wildcard is used to select all columns.\n",
            "\n",
            "If you want to extract specific columns that contain numbers, you can modify the code as follows:\n",
            "```\n",
            "SELECT column1, column2,...\n",
            "FROM sales_data\n",
            "WHERE column1 REGEXP '[0-9]+' OR column2 REGEXP '[0-9]+' OR...;\n",
            "```\n",
            "Replace `column1`, `column2`, etc. with the actual column names that you want to extract.\n",
            "\n",
            "Alternatively, you can use the `LIKE` operator instead of `REGEXP`:\n",
            "```\n",
            "SELECT *\n",
            "FROM sales_data\n",
            "WHERE column_name LIKE '%[0-9]%';\n",
            "```\n",
            "This code searches for any column that contains at least one digit (`[0-9]`) anywhere in the column. The `%` wildcard is used to match any characters before and after the digit.\n",
            "\n",
            "Note: The exact syntax may vary depending on the database management system you are using (e.g. MySQL, PostgreSQL, SQL Server, etc.).\n"
          ]
        }
      ]
    },
    {
      "cell_type": "markdown",
      "source": [
        "### LLAMACPP\n",
        "\n",
        "If you want to run models on a smaller resource machine (e.g. locally, or on Google Colab free) then you can use LlamaCPP or CTranslate2.\n",
        "\n",
        "The model we will use is not available for commercial purposes, but is a small-enough model to test and try.\n",
        "\n",
        "Model: https://huggingface.co/stabilityai/stablelm-zephyr-3b\n",
        "\n",
        "How good is this tiny model?\n",
        "\n",
        "<img src=\"https://cdn-uploads.huggingface.co/production/uploads/6310474ca119d49bc1eb0d80/8WIZS6dAlu5kSH-382pMl.png\" alt=\"MT-Bench Radar Chart\" width=\"500\" />\n"
      ],
      "metadata": {
        "id": "KrGjCX064rh_"
      }
    },
    {
      "cell_type": "code",
      "source": [
        "\n",
        "# Define the repository ID and file path\n",
        "repo_id = \"mradermacher/stablelm-zephyr-3b-GGUF\"\n",
        "filename = \"stablelm-zephyr-3b.Q4_K_M.gguf\"\n",
        "\n",
        "# Download the file\n",
        "file_path = hf_hub_download(repo_id=repo_id, filename=filename)\n",
        "\n",
        "# The file_path contains the local path where the file is downloaded\n",
        "print(f\"File downloaded to: {file_path}\")"
      ],
      "metadata": {
        "colab": {
          "base_uri": "https://localhost:8080/"
        },
        "id": "uZJK9rhQ3PoA",
        "outputId": "5eb67423-a8b1-4084-acd1-b51fef510f9b"
      },
      "execution_count": null,
      "outputs": [
        {
          "output_type": "stream",
          "name": "stdout",
          "text": [
            "File downloaded to: /root/.cache/huggingface/hub/models--mradermacher--stablelm-zephyr-3b-GGUF/snapshots/6ab45315c6b89627e402dca9c6e3322b45e41a16/stablelm-zephyr-3b.Q4_K_M.gguf\n"
          ]
        }
      ]
    },
    {
      "cell_type": "code",
      "source": [
        "# Callbacks support token-wise streaming\n",
        "callback_manager = CallbackManager([StreamingStdOutCallbackHandler()])\n",
        "\n",
        "# Make sure the model path is correct for your system!\n",
        "llmcpp = LlamaCpp(\n",
        "    model_path=file_path,\n",
        "    temperature=0.7,\n",
        "    max_tokens=256,\n",
        "    top_p=4,\n",
        "    callback_manager=callback_manager,\n",
        "    verbose=True,  # Verbose is required to pass to the callback manager\n",
        "    #num_threads=8,  # Adjust based on your CPU\n",
        "    #use_gpu=True    # Set to True if you have a compatible GPU\n",
        ")"
      ],
      "metadata": {
        "colab": {
          "base_uri": "https://localhost:8080/",
          "height": 1000
        },
        "id": "-4i0yqMQ8Z9T",
        "outputId": "718e9327-14e9-4c0b-bbaf-cc0bca1113d5"
      },
      "execution_count": null,
      "outputs": [
        {
          "output_type": "stream",
          "name": "stderr",
          "text": [
            "llama_model_loader: loaded meta data with 30 key-value pairs and 356 tensors from /root/.cache/huggingface/hub/models--mradermacher--stablelm-zephyr-3b-GGUF/snapshots/6ab45315c6b89627e402dca9c6e3322b45e41a16/stablelm-zephyr-3b.Q4_K_M.gguf (version GGUF V3 (latest))\n",
            "llama_model_loader: Dumping metadata keys/values. Note: KV overrides do not apply in this output.\n",
            "llama_model_loader: - kv   0:                       general.architecture str              = stablelm\n",
            "llama_model_loader: - kv   1:                               general.name str              = stablelm-zephyr-3b\n",
            "llama_model_loader: - kv   2:                    stablelm.context_length u32              = 4096\n",
            "llama_model_loader: - kv   3:                  stablelm.embedding_length u32              = 2560\n",
            "llama_model_loader: - kv   4:                       stablelm.block_count u32              = 32\n",
            "llama_model_loader: - kv   5:               stablelm.feed_forward_length u32              = 6912\n",
            "llama_model_loader: - kv   6:              stablelm.rope.dimension_count u32              = 20\n",
            "llama_model_loader: - kv   7:              stablelm.attention.head_count u32              = 32\n",
            "llama_model_loader: - kv   8:           stablelm.attention.head_count_kv u32              = 32\n",
            "llama_model_loader: - kv   9:             stablelm.use_parallel_residual bool             = true\n",
            "llama_model_loader: - kv  10:      stablelm.attention.layer_norm_epsilon f32              = 0.000010\n",
            "llama_model_loader: - kv  11:                          general.file_type u32              = 15\n",
            "llama_model_loader: - kv  12:                       tokenizer.ggml.model str              = gpt2\n",
            "llama_model_loader: - kv  13:                         tokenizer.ggml.pre str              = olmo\n",
            "llama_model_loader: - kv  14:                      tokenizer.ggml.tokens arr[str,50304]   = [\"<|endoftext|>\", \"<|padding|>\", \"!\",...\n",
            "llama_model_loader: - kv  15:                  tokenizer.ggml.token_type arr[i32,50304]   = [3, 3, 1, 1, 1, 1, 1, 1, 1, 1, 1, 1, ...\n",
            "llama_model_loader: - kv  16:                      tokenizer.ggml.merges arr[str,50009]   = [\"Ġ Ġ\", \"Ġ t\", \"Ġ a\", \"h e\", \"i n...\n",
            "llama_model_loader: - kv  17:                tokenizer.ggml.bos_token_id u32              = 0\n",
            "llama_model_loader: - kv  18:                tokenizer.ggml.eos_token_id u32              = 0\n",
            "llama_model_loader: - kv  19:            tokenizer.ggml.unknown_token_id u32              = 0\n",
            "llama_model_loader: - kv  20:            tokenizer.ggml.padding_token_id u32              = 0\n",
            "llama_model_loader: - kv  21:                    tokenizer.chat_template str              = {% for message in messages %}\\n{% if m...\n",
            "llama_model_loader: - kv  22:               general.quantization_version u32              = 2\n",
            "llama_model_loader: - kv  23:                                general.url str              = https://huggingface.co/mradermacher/s...\n",
            "llama_model_loader: - kv  24:              mradermacher.quantize_version str              = 2\n",
            "llama_model_loader: - kv  25:                  mradermacher.quantized_by str              = mradermacher\n",
            "llama_model_loader: - kv  26:                  mradermacher.quantized_at str              = 2024-07-11T12:19:42+02:00\n",
            "llama_model_loader: - kv  27:                  mradermacher.quantized_on str              = db3\n",
            "llama_model_loader: - kv  28:                         general.source.url str              = https://huggingface.co/stabilityai/st...\n",
            "llama_model_loader: - kv  29:                  mradermacher.convert_type str              = hf\n",
            "llama_model_loader: - type  f32:  130 tensors\n",
            "llama_model_loader: - type q4_K:  193 tensors\n",
            "llama_model_loader: - type q6_K:   33 tensors\n",
            "llm_load_vocab: special tokens cache size = 52\n",
            "llm_load_vocab: token to piece cache size = 0.2987 MB\n",
            "llm_load_print_meta: format           = GGUF V3 (latest)\n",
            "llm_load_print_meta: arch             = stablelm\n",
            "llm_load_print_meta: vocab type       = BPE\n",
            "llm_load_print_meta: n_vocab          = 50304\n",
            "llm_load_print_meta: n_merges         = 50009\n",
            "llm_load_print_meta: vocab_only       = 0\n",
            "llm_load_print_meta: n_ctx_train      = 4096\n",
            "llm_load_print_meta: n_embd           = 2560\n",
            "llm_load_print_meta: n_layer          = 32\n",
            "llm_load_print_meta: n_head           = 32\n",
            "llm_load_print_meta: n_head_kv        = 32\n",
            "llm_load_print_meta: n_rot            = 20\n",
            "llm_load_print_meta: n_swa            = 0\n",
            "llm_load_print_meta: n_embd_head_k    = 80\n",
            "llm_load_print_meta: n_embd_head_v    = 80\n",
            "llm_load_print_meta: n_gqa            = 1\n",
            "llm_load_print_meta: n_embd_k_gqa     = 2560\n",
            "llm_load_print_meta: n_embd_v_gqa     = 2560\n",
            "llm_load_print_meta: f_norm_eps       = 1.0e-05\n",
            "llm_load_print_meta: f_norm_rms_eps   = 0.0e+00\n",
            "llm_load_print_meta: f_clamp_kqv      = 0.0e+00\n",
            "llm_load_print_meta: f_max_alibi_bias = 0.0e+00\n",
            "llm_load_print_meta: f_logit_scale    = 0.0e+00\n",
            "llm_load_print_meta: n_ff             = 6912\n",
            "llm_load_print_meta: n_expert         = 0\n",
            "llm_load_print_meta: n_expert_used    = 0\n",
            "llm_load_print_meta: causal attn      = 1\n",
            "llm_load_print_meta: pooling type     = 0\n",
            "llm_load_print_meta: rope type        = 2\n",
            "llm_load_print_meta: rope scaling     = linear\n",
            "llm_load_print_meta: freq_base_train  = 10000.0\n",
            "llm_load_print_meta: freq_scale_train = 1\n",
            "llm_load_print_meta: n_ctx_orig_yarn  = 4096\n",
            "llm_load_print_meta: rope_finetuned   = unknown\n",
            "llm_load_print_meta: ssm_d_conv       = 0\n",
            "llm_load_print_meta: ssm_d_inner      = 0\n",
            "llm_load_print_meta: ssm_d_state      = 0\n",
            "llm_load_print_meta: ssm_dt_rank      = 0\n",
            "llm_load_print_meta: model type       = 3B\n",
            "llm_load_print_meta: model ftype      = Q4_K - Medium\n",
            "llm_load_print_meta: model params     = 2.80 B\n",
            "llm_load_print_meta: model size       = 1.59 GiB (4.88 BPW) \n",
            "llm_load_print_meta: general.name     = stablelm-zephyr-3b\n",
            "llm_load_print_meta: BOS token        = 0 '<|endoftext|>'\n",
            "llm_load_print_meta: EOS token        = 0 '<|endoftext|>'\n",
            "llm_load_print_meta: UNK token        = 0 '<|endoftext|>'\n",
            "llm_load_print_meta: PAD token        = 0 '<|endoftext|>'\n",
            "llm_load_print_meta: LF token         = 128 'Ä'\n",
            "llm_load_print_meta: EOT token        = 0 '<|endoftext|>'\n",
            "llm_load_print_meta: max token length = 1024\n",
            "llm_load_tensors: ggml ctx size =    0.16 MiB\n",
            "llm_load_tensors:        CPU buffer size =  1627.74 MiB\n",
            "............................................................................................\n",
            "llama_new_context_with_model: n_batch is less than GGML_KQ_MASK_PAD - increasing to 32\n",
            "llama_new_context_with_model: n_ctx      = 512\n",
            "llama_new_context_with_model: n_batch    = 32\n",
            "llama_new_context_with_model: n_ubatch   = 32\n",
            "llama_new_context_with_model: flash_attn = 0\n",
            "llama_new_context_with_model: freq_base  = 10000.0\n",
            "llama_new_context_with_model: freq_scale = 1\n",
            "llama_kv_cache_init:        CPU KV buffer size =   160.00 MiB\n",
            "llama_new_context_with_model: KV self size  =  160.00 MiB, K (f16):   80.00 MiB, V (f16):   80.00 MiB\n",
            "llama_new_context_with_model:        CPU  output buffer size =     0.19 MiB\n",
            "llama_new_context_with_model:        CPU compute buffer size =     6.77 MiB\n",
            "llama_new_context_with_model: graph nodes  = 1095\n",
            "llama_new_context_with_model: graph splits = 1\n",
            "AVX = 1 | AVX_VNNI = 0 | AVX2 = 1 | AVX512 = 0 | AVX512_VBMI = 0 | AVX512_VNNI = 0 | AVX512_BF16 = 0 | FMA = 1 | NEON = 0 | SVE = 0 | ARM_FMA = 0 | F16C = 1 | FP16_VA = 0 | WASM_SIMD = 0 | BLAS = 0 | SSE3 = 1 | SSSE3 = 1 | VSX = 0 | MATMUL_INT8 = 0 | LLAMAFILE = 0 | \n",
            "Model metadata: {'mradermacher.quantize_version': '2', 'tokenizer.chat_template': \"{% for message in messages %}\\n{% if message['role'] == 'user' %}\\n{{ '<|user|>\\n' + message['content'] + eos_token }}\\n{% elif message['role'] == 'system' %}\\n{{ '<|system|>\\n' + message['content'] + eos_token }}\\n{% elif message['role'] == 'assistant' %}\\n{{ '<|assistant|>\\n'  + message['content'] + eos_token }}\\n{% endif %}\\n{% if loop.last and add_generation_prompt %}\\n{{ '<|assistant|>' }}\\n{% endif %}\\n{% endfor %}\", 'tokenizer.ggml.unknown_token_id': '0', 'tokenizer.ggml.bos_token_id': '0', 'mradermacher.convert_type': 'hf', 'general.url': 'https://huggingface.co/mradermacher/stablelm-zephyr-3b-GGUF', 'general.architecture': 'stablelm', 'mradermacher.quantized_at': '2024-07-11T12:19:42+02:00', 'tokenizer.ggml.pre': 'olmo', 'general.name': 'stablelm-zephyr-3b', 'mradermacher.quantized_by': 'mradermacher', 'stablelm.embedding_length': '2560', 'stablelm.context_length': '4096', 'mradermacher.quantized_on': 'db3', 'stablelm.block_count': '32', 'stablelm.feed_forward_length': '6912', 'stablelm.use_parallel_residual': 'true', 'tokenizer.ggml.padding_token_id': '0', 'stablelm.rope.dimension_count': '20', 'general.source.url': 'https://huggingface.co/stabilityai/stablelm-zephyr-3b', 'stablelm.attention.head_count_kv': '32', 'stablelm.attention.layer_norm_epsilon': '0.000010', 'general.file_type': '15', 'tokenizer.ggml.eos_token_id': '0', 'stablelm.attention.head_count': '32', 'general.quantization_version': '2', 'tokenizer.ggml.model': 'gpt2'}\n",
            "Available chat formats from metadata: chat_template.default\n",
            "Using gguf chat template: {% for message in messages %}\n",
            "{% if message['role'] == 'user' %}\n",
            "{{ '<|user|>\n",
            "' + message['content'] + eos_token }}\n",
            "{% elif message['role'] == 'system' %}\n",
            "{{ '<|system|>\n",
            "' + message['content'] + eos_token }}\n",
            "{% elif message['role'] == 'assistant' %}\n",
            "{{ '<|assistant|>\n",
            "'  + message['content'] + eos_token }}\n",
            "{% endif %}\n",
            "{% if loop.last and add_generation_prompt %}\n",
            "{{ '<|assistant|>' }}\n",
            "{% endif %}\n",
            "{% endfor %}\n",
            "Using chat eos_token: <|endoftext|>\n",
            "Using chat bos_token: <|endoftext|>\n",
            "/usr/local/lib/python3.10/dist-packages/langchain_core/utils/utils.py:161: UserWarning: WARNING! num_threads is not default parameter.\n",
            "                num_threads was transferred to model_kwargs.\n",
            "                Please confirm that num_threads is what you intended.\n",
            "  warnings.warn(\n",
            "/usr/local/lib/python3.10/dist-packages/langchain_core/utils/utils.py:161: UserWarning: WARNING! use_gpu is not default parameter.\n",
            "                use_gpu was transferred to model_kwargs.\n",
            "                Please confirm that use_gpu is what you intended.\n",
            "  warnings.warn(\n"
          ]
        }
      ]
    },
    {
      "cell_type": "code",
      "source": [
        "template = \"\"\"Question: {question}\n",
        "\n",
        "Answer: Let's work this out in a step by step way to be sure we have the right answer.\"\"\"\n",
        "\n",
        "prompt = PromptTemplate.from_template(template)\n",
        "\n",
        "display(Markdown('''\n",
        "### Alternatively not using a PromptTemplate\n",
        "\n",
        "You can format your prompt with as many pieces as you like, using this structure.\n",
        "This is great when you need to loop through many options.\n",
        "\n",
        "```\n",
        "question = \"What NFL team won the Super Bowl in the year Justin Bieber was born?\"\n",
        "formatted_prompt = prompt.format(question=\"\")\n",
        "llmcpp.invoke(formatted_prompt)\n",
        "```\n",
        "'''))"
      ],
      "metadata": {
        "colab": {
          "base_uri": "https://localhost:8080/",
          "height": 152
        },
        "id": "JyR_dzUr_wXT",
        "outputId": "4a9cf98e-f26f-4b75-c1f1-5b28936f6b7e"
      },
      "execution_count": null,
      "outputs": [
        {
          "output_type": "display_data",
          "data": {
            "text/plain": [
              "<IPython.core.display.Markdown object>"
            ],
            "text/markdown": "\n### Alternatively not using a PromptTemplate\n\nYou can format your prompt with as many pieces as you like, using this structure.\nThis is great when you need to loop through many options. \n\n```\nquestion = \"What NFL team won the Super Bowl in the year Justin Bieber was born?\"\nformatted_prompt = prompt.format(question=\"\")\nllmcpp.invoke(formatted_prompt)\n```\n"
          },
          "metadata": {}
        }
      ]
    },
    {
      "cell_type": "code",
      "source": [
        "llm_chain = prompt | llmcpp\n",
        "\n",
        "question = \"What NFL team won the Super Bowl in the year Justin Bieber was born?\"\n",
        "llm_chain.invoke({\"question\": question})"
      ],
      "metadata": {
        "colab": {
          "base_uri": "https://localhost:8080/",
          "height": 402
        },
        "id": "6QI5ZCu2BuUU",
        "outputId": "4afea5f3-8327-4574-b7c1-9b3072dbabbd"
      },
      "execution_count": null,
      "outputs": [
        {
          "output_type": "stream",
          "name": "stdout",
          "text": [
            " A Super Bowl win needs an NFL team and a specific year. is just a reference point for someone who may not know when Justin Bieber was born, so we must identify that first. \n",
            "\n",
            "Justin Bieber was born on March 1, 1994. Now we need to find out which NFL team won the Super Bowl in the year 1994. After searching through history and records, we can confirm that the Dallas Cowboys won Super Bowl XXXVII on January 26, 1997. Although this may seem like a mistake, it is essential to double-check since we want to ensure accuracy.\n",
            "\n",
            "Step 1: Identify when Justin Bieber was born - March 1, 1994\n",
            "Step 2: Determine which NFL team won the Super Bowl in that year - Dallas Cowboys won Super Bowl XXXVII on January 26, 1997.\n",
            "\n",
            "Answer: The NFL team that won the Super Bowl in the year Justin Bieber was born (1994) is the Dallas Cowboys."
          ]
        },
        {
          "output_type": "stream",
          "name": "stderr",
          "text": [
            "\n",
            "llama_print_timings:        load time =    6783.29 ms\n",
            "llama_print_timings:      sample time =     270.76 ms /   197 runs   (    1.37 ms per token,   727.59 tokens per second)\n",
            "llama_print_timings: prompt eval time =   19140.60 ms /    43 tokens (  445.13 ms per token,     2.25 tokens per second)\n",
            "llama_print_timings:        eval time =   84329.72 ms /   196 runs   (  430.25 ms per token,     2.32 tokens per second)\n",
            "llama_print_timings:       total time =  104923.67 ms /   239 tokens\n"
          ]
        },
        {
          "output_type": "execute_result",
          "data": {
            "text/plain": [
              "' A Super Bowl win needs an NFL team and a specific year. is just a reference point for someone who may not know when Justin Bieber was born, so we must identify that first. \\n\\nJustin Bieber was born on March 1, 1994. Now we need to find out which NFL team won the Super Bowl in the year 1994. After searching through history and records, we can confirm that the Dallas Cowboys won Super Bowl XXXVII on January 26, 1997. Although this may seem like a mistake, it is essential to double-check since we want to ensure accuracy.\\n\\nStep 1: Identify when Justin Bieber was born - March 1, 1994\\nStep 2: Determine which NFL team won the Super Bowl in that year - Dallas Cowboys won Super Bowl XXXVII on January 26, 1997.\\n\\nAnswer: The NFL team that won the Super Bowl in the year Justin Bieber was born (1994) is the Dallas Cowboys.'"
            ],
            "application/vnd.google.colaboratory.intrinsic+json": {
              "type": "string"
            }
          },
          "metadata": {},
          "execution_count": 69
        }
      ]
    },
    {
      "cell_type": "code",
      "source": [
        "question = \"What makes a good essay?\"\n",
        "llm_chain.invoke({\"question\": question})"
      ],
      "metadata": {
        "colab": {
          "base_uri": "https://localhost:8080/",
          "height": 576
        },
        "id": "xya6N0wMGG54",
        "outputId": "a3d4d2a6-c848-4026-c26f-fab35ab2321b"
      },
      "execution_count": null,
      "outputs": [
        {
          "output_type": "stream",
          "name": "stderr",
          "text": [
            "Llama.generate: prefix-match hit\n"
          ]
        },
        {
          "output_type": "stream",
          "name": "stdout",
          "text": [
            " of what makes a good essay.\n",
            "\n",
            "Step 1: Understanding the Question\n",
            "The question asks about what makes a good essay, which means we are looking for qualities or characteristics that can make an essay successful and well-written.\n",
            "\n",
            "Step 2: Analyzing Elements of a Good Essay\n",
            "A good essay should have clear organization, logical progression, cohesion, and coherence. It should also be free from errors in grammar, punctuation, spelling, and syntax. The content within the essay should be relevant, accurate, supported with credible evidence or examples, and captivating to the reader.\n",
            "\n",
            "Step 3: Addressing Specific Aspects of a Good Essay\n",
            "The introduction of an essay must grab the reader's attention and provide context for the topic being discussed. The thesis statement should be clear and concise, and it should present a central argument that the entire essay will support.\n",
            "\n",
            "In terms of body paragraphs, each paragraph should focus on one main idea or argument related to the thesis statement. Each paragraph should also have proper transitions connecting ideas and maintaining coherence throughout the essay. Additionally, each paragraph should include supporting evidence or examples relevant to the topic being discussed.\n",
            "\n",
            "Step 4: Evaluating the Importance of Each Aspect\n",
            "Clear organization, logical progression"
          ]
        },
        {
          "output_type": "stream",
          "name": "stderr",
          "text": [
            "\n",
            "llama_print_timings:        load time =    6783.29 ms\n",
            "llama_print_timings:      sample time =     308.65 ms /   256 runs   (    1.21 ms per token,   829.43 tokens per second)\n",
            "llama_print_timings: prompt eval time =    5932.80 ms /    29 tokens (  204.58 ms per token,     4.89 tokens per second)\n",
            "llama_print_timings:        eval time =   96527.56 ms /   255 runs   (  378.54 ms per token,     2.64 tokens per second)\n",
            "llama_print_timings:       total time =  104019.39 ms /   284 tokens\n"
          ]
        },
        {
          "output_type": "execute_result",
          "data": {
            "text/plain": [
              "\" of what makes a good essay.\\n\\nStep 1: Understanding the Question\\nThe question asks about what makes a good essay, which means we are looking for qualities or characteristics that can make an essay successful and well-written.\\n\\nStep 2: Analyzing Elements of a Good Essay\\nA good essay should have clear organization, logical progression, cohesion, and coherence. It should also be free from errors in grammar, punctuation, spelling, and syntax. The content within the essay should be relevant, accurate, supported with credible evidence or examples, and captivating to the reader.\\n\\nStep 3: Addressing Specific Aspects of a Good Essay\\nThe introduction of an essay must grab the reader's attention and provide context for the topic being discussed. The thesis statement should be clear and concise, and it should present a central argument that the entire essay will support.\\n\\nIn terms of body paragraphs, each paragraph should focus on one main idea or argument related to the thesis statement. Each paragraph should also have proper transitions connecting ideas and maintaining coherence throughout the essay. Additionally, each paragraph should include supporting evidence or examples relevant to the topic being discussed.\\n\\nStep 4: Evaluating the Importance of Each Aspect\\nClear organization, logical progression\""
            ],
            "application/vnd.google.colaboratory.intrinsic+json": {
              "type": "string"
            }
          },
          "metadata": {},
          "execution_count": 70
        }
      ]
    },
    {
      "cell_type": "code",
      "source": [],
      "metadata": {
        "id": "id2pd0RsHHC3"
      },
      "execution_count": null,
      "outputs": []
    }
  ]
}