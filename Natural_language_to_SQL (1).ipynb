{
  "cells": [
    {
      "cell_type": "markdown",
      "source": [
        "![simple-vector-curl-element-text-260nw-1984507496.webp](data:image/webp;base64,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)"
      ],
      "metadata": {
        "id": "Yln8GAOtSRjB"
      },
      "id": "Yln8GAOtSRjB"
    },
    {
      "cell_type": "markdown",
      "source": [
        "#**Natural language to SQL**"
      ],
      "metadata": {
        "id": "27Em72xpbYdY"
      },
      "id": "27Em72xpbYdY"
    },
    {
      "cell_type": "code",
      "source": [
        "##%%capture ## install the required packages\n",
        "%pip install pytz\n",
        "%pip install openai\n",
        "%pip install langchain\n",
        "%pip install langchain_community\n",
        "%pip install llama-cpp-python\n",
        "%pip install transformers huggingface_hub\n",
        "%pip install langchain-experimental\n",
        "#%pip install transformers -U\n",
        "%pip install huggingface_hub\n",
        "%pip install langchain-experimental\n",
        "%pip install pandasql\n",
        "%pip install pandas sqlalchemy"
      ],
      "metadata": {
        "colab": {
          "base_uri": "https://localhost:8080/"
        },
        "id": "mCZ01cZjbK-y",
        "outputId": "8b5d172a-bab8-4f17-cb96-47b85191d26f"
      },
      "id": "mCZ01cZjbK-y",
      "execution_count": null,
      "outputs": [
        {
          "output_type": "stream",
          "name": "stdout",
          "text": [
            "Requirement already satisfied: pytz in /usr/local/lib/python3.10/dist-packages (2024.1)\n",
            "Requirement already satisfied: openai in /usr/local/lib/python3.10/dist-packages (1.40.0)\n",
            "Requirement already satisfied: anyio<5,>=3.5.0 in /usr/local/lib/python3.10/dist-packages (from openai) (3.7.1)\n",
            "Requirement already satisfied: distro<2,>=1.7.0 in /usr/lib/python3/dist-packages (from openai) (1.7.0)\n",
            "Requirement already satisfied: httpx<1,>=0.23.0 in /usr/local/lib/python3.10/dist-packages (from openai) (0.27.0)\n",
            "Requirement already satisfied: jiter<1,>=0.4.0 in /usr/local/lib/python3.10/dist-packages (from openai) (0.5.0)\n",
            "Requirement already satisfied: pydantic<3,>=1.9.0 in /usr/local/lib/python3.10/dist-packages (from openai) (2.8.2)\n",
            "Requirement already satisfied: sniffio in /usr/local/lib/python3.10/dist-packages (from openai) (1.3.1)\n",
            "Requirement already satisfied: tqdm>4 in /usr/local/lib/python3.10/dist-packages (from openai) (4.66.4)\n",
            "Requirement already satisfied: typing-extensions<5,>=4.11 in /usr/local/lib/python3.10/dist-packages (from openai) (4.12.2)\n",
            "Requirement already satisfied: idna>=2.8 in /usr/local/lib/python3.10/dist-packages (from anyio<5,>=3.5.0->openai) (3.7)\n",
            "Requirement already satisfied: exceptiongroup in /usr/local/lib/python3.10/dist-packages (from anyio<5,>=3.5.0->openai) (1.2.2)\n",
            "Requirement already satisfied: certifi in /usr/local/lib/python3.10/dist-packages (from httpx<1,>=0.23.0->openai) (2024.7.4)\n",
            "Requirement already satisfied: httpcore==1.* in /usr/local/lib/python3.10/dist-packages (from httpx<1,>=0.23.0->openai) (1.0.5)\n",
            "Requirement already satisfied: h11<0.15,>=0.13 in /usr/local/lib/python3.10/dist-packages (from httpcore==1.*->httpx<1,>=0.23.0->openai) (0.14.0)\n",
            "Requirement already satisfied: annotated-types>=0.4.0 in /usr/local/lib/python3.10/dist-packages (from pydantic<3,>=1.9.0->openai) (0.7.0)\n",
            "Requirement already satisfied: pydantic-core==2.20.1 in /usr/local/lib/python3.10/dist-packages (from pydantic<3,>=1.9.0->openai) (2.20.1)\n",
            "Requirement already satisfied: langchain in /usr/local/lib/python3.10/dist-packages (0.2.12)\n",
            "Requirement already satisfied: PyYAML>=5.3 in /usr/local/lib/python3.10/dist-packages (from langchain) (6.0.1)\n",
            "Requirement already satisfied: SQLAlchemy<3,>=1.4 in /usr/local/lib/python3.10/dist-packages (from langchain) (2.0.31)\n",
            "Requirement already satisfied: aiohttp<4.0.0,>=3.8.3 in /usr/local/lib/python3.10/dist-packages (from langchain) (3.10.0)\n",
            "Requirement already satisfied: async-timeout<5.0.0,>=4.0.0 in /usr/local/lib/python3.10/dist-packages (from langchain) (4.0.3)\n",
            "Requirement already satisfied: langchain-core<0.3.0,>=0.2.27 in /usr/local/lib/python3.10/dist-packages (from langchain) (0.2.28)\n",
            "Requirement already satisfied: langchain-text-splitters<0.3.0,>=0.2.0 in /usr/local/lib/python3.10/dist-packages (from langchain) (0.2.2)\n",
            "Requirement already satisfied: langsmith<0.2.0,>=0.1.17 in /usr/local/lib/python3.10/dist-packages (from langchain) (0.1.98)\n",
            "Requirement already satisfied: numpy<2,>=1 in /usr/local/lib/python3.10/dist-packages (from langchain) (1.26.4)\n",
            "Requirement already satisfied: pydantic<3,>=1 in /usr/local/lib/python3.10/dist-packages (from langchain) (2.8.2)\n",
            "Requirement already satisfied: requests<3,>=2 in /usr/local/lib/python3.10/dist-packages (from langchain) (2.31.0)\n",
            "Requirement already satisfied: tenacity!=8.4.0,<9.0.0,>=8.1.0 in /usr/local/lib/python3.10/dist-packages (from langchain) (8.5.0)\n",
            "Requirement already satisfied: aiohappyeyeballs>=2.3.0 in /usr/local/lib/python3.10/dist-packages (from aiohttp<4.0.0,>=3.8.3->langchain) (2.3.4)\n",
            "Requirement already satisfied: aiosignal>=1.1.2 in /usr/local/lib/python3.10/dist-packages (from aiohttp<4.0.0,>=3.8.3->langchain) (1.3.1)\n",
            "Requirement already satisfied: attrs>=17.3.0 in /usr/local/lib/python3.10/dist-packages (from aiohttp<4.0.0,>=3.8.3->langchain) (23.2.0)\n",
            "Requirement already satisfied: frozenlist>=1.1.1 in /usr/local/lib/python3.10/dist-packages (from aiohttp<4.0.0,>=3.8.3->langchain) (1.4.1)\n",
            "Requirement already satisfied: multidict<7.0,>=4.5 in /usr/local/lib/python3.10/dist-packages (from aiohttp<4.0.0,>=3.8.3->langchain) (6.0.5)\n",
            "Requirement already satisfied: yarl<2.0,>=1.0 in /usr/local/lib/python3.10/dist-packages (from aiohttp<4.0.0,>=3.8.3->langchain) (1.9.4)\n",
            "Requirement already satisfied: jsonpatch<2.0,>=1.33 in /usr/local/lib/python3.10/dist-packages (from langchain-core<0.3.0,>=0.2.27->langchain) (1.33)\n",
            "Requirement already satisfied: packaging<25,>=23.2 in /usr/local/lib/python3.10/dist-packages (from langchain-core<0.3.0,>=0.2.27->langchain) (24.1)\n",
            "Requirement already satisfied: typing-extensions>=4.7 in /usr/local/lib/python3.10/dist-packages (from langchain-core<0.3.0,>=0.2.27->langchain) (4.12.2)\n",
            "Requirement already satisfied: orjson<4.0.0,>=3.9.14 in /usr/local/lib/python3.10/dist-packages (from langsmith<0.2.0,>=0.1.17->langchain) (3.10.6)\n",
            "Requirement already satisfied: annotated-types>=0.4.0 in /usr/local/lib/python3.10/dist-packages (from pydantic<3,>=1->langchain) (0.7.0)\n",
            "Requirement already satisfied: pydantic-core==2.20.1 in /usr/local/lib/python3.10/dist-packages (from pydantic<3,>=1->langchain) (2.20.1)\n",
            "Requirement already satisfied: charset-normalizer<4,>=2 in /usr/local/lib/python3.10/dist-packages (from requests<3,>=2->langchain) (3.3.2)\n",
            "Requirement already satisfied: idna<4,>=2.5 in /usr/local/lib/python3.10/dist-packages (from requests<3,>=2->langchain) (3.7)\n",
            "Requirement already satisfied: urllib3<3,>=1.21.1 in /usr/local/lib/python3.10/dist-packages (from requests<3,>=2->langchain) (2.0.7)\n",
            "Requirement already satisfied: certifi>=2017.4.17 in /usr/local/lib/python3.10/dist-packages (from requests<3,>=2->langchain) (2024.7.4)\n",
            "Requirement already satisfied: greenlet!=0.4.17 in /usr/local/lib/python3.10/dist-packages (from SQLAlchemy<3,>=1.4->langchain) (3.0.3)\n",
            "Requirement already satisfied: jsonpointer>=1.9 in /usr/local/lib/python3.10/dist-packages (from jsonpatch<2.0,>=1.33->langchain-core<0.3.0,>=0.2.27->langchain) (3.0.0)\n",
            "Requirement already satisfied: langchain_community in /usr/local/lib/python3.10/dist-packages (0.2.11)\n",
            "Requirement already satisfied: PyYAML>=5.3 in /usr/local/lib/python3.10/dist-packages (from langchain_community) (6.0.1)\n",
            "Requirement already satisfied: SQLAlchemy<3,>=1.4 in /usr/local/lib/python3.10/dist-packages (from langchain_community) (2.0.31)\n",
            "Requirement already satisfied: aiohttp<4.0.0,>=3.8.3 in /usr/local/lib/python3.10/dist-packages (from langchain_community) (3.10.0)\n",
            "Requirement already satisfied: dataclasses-json<0.7,>=0.5.7 in /usr/local/lib/python3.10/dist-packages (from langchain_community) (0.6.7)\n",
            "Requirement already satisfied: langchain<0.3.0,>=0.2.12 in /usr/local/lib/python3.10/dist-packages (from langchain_community) (0.2.12)\n",
            "Requirement already satisfied: langchain-core<0.3.0,>=0.2.27 in /usr/local/lib/python3.10/dist-packages (from langchain_community) (0.2.28)\n",
            "Requirement already satisfied: langsmith<0.2.0,>=0.1.0 in /usr/local/lib/python3.10/dist-packages (from langchain_community) (0.1.98)\n",
            "Requirement already satisfied: numpy<2,>=1 in /usr/local/lib/python3.10/dist-packages (from langchain_community) (1.26.4)\n",
            "Requirement already satisfied: requests<3,>=2 in /usr/local/lib/python3.10/dist-packages (from langchain_community) (2.31.0)\n",
            "Requirement already satisfied: tenacity!=8.4.0,<9.0.0,>=8.1.0 in /usr/local/lib/python3.10/dist-packages (from langchain_community) (8.5.0)\n",
            "Requirement already satisfied: aiohappyeyeballs>=2.3.0 in /usr/local/lib/python3.10/dist-packages (from aiohttp<4.0.0,>=3.8.3->langchain_community) (2.3.4)\n",
            "Requirement already satisfied: aiosignal>=1.1.2 in /usr/local/lib/python3.10/dist-packages (from aiohttp<4.0.0,>=3.8.3->langchain_community) (1.3.1)\n",
            "Requirement already satisfied: attrs>=17.3.0 in /usr/local/lib/python3.10/dist-packages (from aiohttp<4.0.0,>=3.8.3->langchain_community) (23.2.0)\n",
            "Requirement already satisfied: frozenlist>=1.1.1 in /usr/local/lib/python3.10/dist-packages (from aiohttp<4.0.0,>=3.8.3->langchain_community) (1.4.1)\n",
            "Requirement already satisfied: multidict<7.0,>=4.5 in /usr/local/lib/python3.10/dist-packages (from aiohttp<4.0.0,>=3.8.3->langchain_community) (6.0.5)\n",
            "Requirement already satisfied: yarl<2.0,>=1.0 in /usr/local/lib/python3.10/dist-packages (from aiohttp<4.0.0,>=3.8.3->langchain_community) (1.9.4)\n",
            "Requirement already satisfied: async-timeout<5.0,>=4.0 in /usr/local/lib/python3.10/dist-packages (from aiohttp<4.0.0,>=3.8.3->langchain_community) (4.0.3)\n",
            "Requirement already satisfied: marshmallow<4.0.0,>=3.18.0 in /usr/local/lib/python3.10/dist-packages (from dataclasses-json<0.7,>=0.5.7->langchain_community) (3.21.3)\n",
            "Requirement already satisfied: typing-inspect<1,>=0.4.0 in /usr/local/lib/python3.10/dist-packages (from dataclasses-json<0.7,>=0.5.7->langchain_community) (0.9.0)\n",
            "Requirement already satisfied: langchain-text-splitters<0.3.0,>=0.2.0 in /usr/local/lib/python3.10/dist-packages (from langchain<0.3.0,>=0.2.12->langchain_community) (0.2.2)\n",
            "Requirement already satisfied: pydantic<3,>=1 in /usr/local/lib/python3.10/dist-packages (from langchain<0.3.0,>=0.2.12->langchain_community) (2.8.2)\n",
            "Requirement already satisfied: jsonpatch<2.0,>=1.33 in /usr/local/lib/python3.10/dist-packages (from langchain-core<0.3.0,>=0.2.27->langchain_community) (1.33)\n",
            "Requirement already satisfied: packaging<25,>=23.2 in /usr/local/lib/python3.10/dist-packages (from langchain-core<0.3.0,>=0.2.27->langchain_community) (24.1)\n",
            "Requirement already satisfied: typing-extensions>=4.7 in /usr/local/lib/python3.10/dist-packages (from langchain-core<0.3.0,>=0.2.27->langchain_community) (4.12.2)\n",
            "Requirement already satisfied: orjson<4.0.0,>=3.9.14 in /usr/local/lib/python3.10/dist-packages (from langsmith<0.2.0,>=0.1.0->langchain_community) (3.10.6)\n",
            "Requirement already satisfied: charset-normalizer<4,>=2 in /usr/local/lib/python3.10/dist-packages (from requests<3,>=2->langchain_community) (3.3.2)\n",
            "Requirement already satisfied: idna<4,>=2.5 in /usr/local/lib/python3.10/dist-packages (from requests<3,>=2->langchain_community) (3.7)\n",
            "Requirement already satisfied: urllib3<3,>=1.21.1 in /usr/local/lib/python3.10/dist-packages (from requests<3,>=2->langchain_community) (2.0.7)\n",
            "Requirement already satisfied: certifi>=2017.4.17 in /usr/local/lib/python3.10/dist-packages (from requests<3,>=2->langchain_community) (2024.7.4)\n",
            "Requirement already satisfied: greenlet!=0.4.17 in /usr/local/lib/python3.10/dist-packages (from SQLAlchemy<3,>=1.4->langchain_community) (3.0.3)\n",
            "Requirement already satisfied: jsonpointer>=1.9 in /usr/local/lib/python3.10/dist-packages (from jsonpatch<2.0,>=1.33->langchain-core<0.3.0,>=0.2.27->langchain_community) (3.0.0)\n",
            "Requirement already satisfied: annotated-types>=0.4.0 in /usr/local/lib/python3.10/dist-packages (from pydantic<3,>=1->langchain<0.3.0,>=0.2.12->langchain_community) (0.7.0)\n",
            "Requirement already satisfied: pydantic-core==2.20.1 in /usr/local/lib/python3.10/dist-packages (from pydantic<3,>=1->langchain<0.3.0,>=0.2.12->langchain_community) (2.20.1)\n",
            "Requirement already satisfied: mypy-extensions>=0.3.0 in /usr/local/lib/python3.10/dist-packages (from typing-inspect<1,>=0.4.0->dataclasses-json<0.7,>=0.5.7->langchain_community) (1.0.0)\n",
            "Collecting llama-cpp-python\n",
            "  Using cached llama_cpp_python-0.2.86.tar.gz (49.3 MB)\n",
            "  Installing build dependencies ... \u001b[?25l\u001b[?25hdone\n",
            "  Getting requirements to build wheel ... \u001b[?25l\u001b[?25hdone\n",
            "  Installing backend dependencies ... \u001b[?25l\u001b[?25hdone\n",
            "  Preparing metadata (pyproject.toml) ... \u001b[?25l\u001b[?25hdone\n",
            "Requirement already satisfied: typing-extensions>=4.5.0 in /usr/local/lib/python3.10/dist-packages (from llama-cpp-python) (4.12.2)\n",
            "Requirement already satisfied: numpy>=1.20.0 in /usr/local/lib/python3.10/dist-packages (from llama-cpp-python) (1.26.4)\n",
            "Collecting diskcache>=5.6.1 (from llama-cpp-python)\n",
            "  Using cached diskcache-5.6.3-py3-none-any.whl.metadata (20 kB)\n",
            "Requirement already satisfied: jinja2>=2.11.3 in /usr/local/lib/python3.10/dist-packages (from llama-cpp-python) (3.1.4)\n",
            "Requirement already satisfied: MarkupSafe>=2.0 in /usr/local/lib/python3.10/dist-packages (from jinja2>=2.11.3->llama-cpp-python) (2.1.5)\n",
            "Using cached diskcache-5.6.3-py3-none-any.whl (45 kB)\n",
            "Building wheels for collected packages: llama-cpp-python\n",
            "  \u001b[1;31merror\u001b[0m: \u001b[1msubprocess-exited-with-error\u001b[0m\n",
            "  \n",
            "  \u001b[31m×\u001b[0m \u001b[32mBuilding wheel for llama-cpp-python \u001b[0m\u001b[1;32m(\u001b[0m\u001b[32mpyproject.toml\u001b[0m\u001b[1;32m)\u001b[0m did not run successfully.\n",
            "  \u001b[31m│\u001b[0m exit code: \u001b[1;36m1\u001b[0m\n",
            "  \u001b[31m╰─>\u001b[0m See above for output.\n",
            "  \n",
            "  \u001b[1;35mnote\u001b[0m: This error originates from a subprocess, and is likely not a problem with pip.\n",
            "  Building wheel for llama-cpp-python (pyproject.toml) ... \u001b[?25l\u001b[?25herror\n",
            "\u001b[31m  ERROR: Failed building wheel for llama-cpp-python\u001b[0m\u001b[31m\n",
            "\u001b[0mFailed to build llama-cpp-python\n",
            "\u001b[31mERROR: ERROR: Failed to build installable wheels for some pyproject.toml based projects (llama-cpp-python)\u001b[0m\u001b[31m\n",
            "\u001b[0mRequirement already satisfied: transformers in /usr/local/lib/python3.10/dist-packages (4.42.4)\n",
            "Requirement already satisfied: huggingface_hub in /usr/local/lib/python3.10/dist-packages (0.23.5)\n",
            "Requirement already satisfied: filelock in /usr/local/lib/python3.10/dist-packages (from transformers) (3.15.4)\n",
            "Requirement already satisfied: numpy<2.0,>=1.17 in /usr/local/lib/python3.10/dist-packages (from transformers) (1.26.4)\n",
            "Requirement already satisfied: packaging>=20.0 in /usr/local/lib/python3.10/dist-packages (from transformers) (24.1)\n",
            "Requirement already satisfied: pyyaml>=5.1 in /usr/local/lib/python3.10/dist-packages (from transformers) (6.0.1)\n",
            "Requirement already satisfied: regex!=2019.12.17 in /usr/local/lib/python3.10/dist-packages (from transformers) (2024.5.15)\n",
            "Requirement already satisfied: requests in /usr/local/lib/python3.10/dist-packages (from transformers) (2.31.0)\n",
            "Requirement already satisfied: safetensors>=0.4.1 in /usr/local/lib/python3.10/dist-packages (from transformers) (0.4.3)\n",
            "Requirement already satisfied: tokenizers<0.20,>=0.19 in /usr/local/lib/python3.10/dist-packages (from transformers) (0.19.1)\n",
            "Requirement already satisfied: tqdm>=4.27 in /usr/local/lib/python3.10/dist-packages (from transformers) (4.66.4)\n",
            "Requirement already satisfied: fsspec>=2023.5.0 in /usr/local/lib/python3.10/dist-packages (from huggingface_hub) (2024.6.1)\n",
            "Requirement already satisfied: typing-extensions>=3.7.4.3 in /usr/local/lib/python3.10/dist-packages (from huggingface_hub) (4.12.2)\n",
            "Requirement already satisfied: charset-normalizer<4,>=2 in /usr/local/lib/python3.10/dist-packages (from requests->transformers) (3.3.2)\n",
            "Requirement already satisfied: idna<4,>=2.5 in /usr/local/lib/python3.10/dist-packages (from requests->transformers) (3.7)\n",
            "Requirement already satisfied: urllib3<3,>=1.21.1 in /usr/local/lib/python3.10/dist-packages (from requests->transformers) (2.0.7)\n",
            "Requirement already satisfied: certifi>=2017.4.17 in /usr/local/lib/python3.10/dist-packages (from requests->transformers) (2024.7.4)\n",
            "Requirement already satisfied: langchain-experimental in /usr/local/lib/python3.10/dist-packages (0.0.64)\n",
            "Requirement already satisfied: langchain-community<0.3.0,>=0.2.10 in /usr/local/lib/python3.10/dist-packages (from langchain-experimental) (0.2.11)\n",
            "Requirement already satisfied: langchain-core<0.3.0,>=0.2.27 in /usr/local/lib/python3.10/dist-packages (from langchain-experimental) (0.2.28)\n",
            "Requirement already satisfied: PyYAML>=5.3 in /usr/local/lib/python3.10/dist-packages (from langchain-community<0.3.0,>=0.2.10->langchain-experimental) (6.0.1)\n",
            "Requirement already satisfied: SQLAlchemy<3,>=1.4 in /usr/local/lib/python3.10/dist-packages (from langchain-community<0.3.0,>=0.2.10->langchain-experimental) (2.0.31)\n",
            "Requirement already satisfied: aiohttp<4.0.0,>=3.8.3 in /usr/local/lib/python3.10/dist-packages (from langchain-community<0.3.0,>=0.2.10->langchain-experimental) (3.10.0)\n",
            "Requirement already satisfied: dataclasses-json<0.7,>=0.5.7 in /usr/local/lib/python3.10/dist-packages (from langchain-community<0.3.0,>=0.2.10->langchain-experimental) (0.6.7)\n",
            "Requirement already satisfied: langchain<0.3.0,>=0.2.12 in /usr/local/lib/python3.10/dist-packages (from langchain-community<0.3.0,>=0.2.10->langchain-experimental) (0.2.12)\n",
            "Requirement already satisfied: langsmith<0.2.0,>=0.1.0 in /usr/local/lib/python3.10/dist-packages (from langchain-community<0.3.0,>=0.2.10->langchain-experimental) (0.1.98)\n",
            "Requirement already satisfied: numpy<2,>=1 in /usr/local/lib/python3.10/dist-packages (from langchain-community<0.3.0,>=0.2.10->langchain-experimental) (1.26.4)\n",
            "Requirement already satisfied: requests<3,>=2 in /usr/local/lib/python3.10/dist-packages (from langchain-community<0.3.0,>=0.2.10->langchain-experimental) (2.31.0)\n",
            "Requirement already satisfied: tenacity!=8.4.0,<9.0.0,>=8.1.0 in /usr/local/lib/python3.10/dist-packages (from langchain-community<0.3.0,>=0.2.10->langchain-experimental) (8.5.0)\n",
            "Requirement already satisfied: jsonpatch<2.0,>=1.33 in /usr/local/lib/python3.10/dist-packages (from langchain-core<0.3.0,>=0.2.27->langchain-experimental) (1.33)\n",
            "Requirement already satisfied: packaging<25,>=23.2 in /usr/local/lib/python3.10/dist-packages (from langchain-core<0.3.0,>=0.2.27->langchain-experimental) (24.1)\n",
            "Requirement already satisfied: pydantic<3,>=1 in /usr/local/lib/python3.10/dist-packages (from langchain-core<0.3.0,>=0.2.27->langchain-experimental) (2.8.2)\n",
            "Requirement already satisfied: typing-extensions>=4.7 in /usr/local/lib/python3.10/dist-packages (from langchain-core<0.3.0,>=0.2.27->langchain-experimental) (4.12.2)\n",
            "Requirement already satisfied: aiohappyeyeballs>=2.3.0 in /usr/local/lib/python3.10/dist-packages (from aiohttp<4.0.0,>=3.8.3->langchain-community<0.3.0,>=0.2.10->langchain-experimental) (2.3.4)\n",
            "Requirement already satisfied: aiosignal>=1.1.2 in /usr/local/lib/python3.10/dist-packages (from aiohttp<4.0.0,>=3.8.3->langchain-community<0.3.0,>=0.2.10->langchain-experimental) (1.3.1)\n",
            "Requirement already satisfied: attrs>=17.3.0 in /usr/local/lib/python3.10/dist-packages (from aiohttp<4.0.0,>=3.8.3->langchain-community<0.3.0,>=0.2.10->langchain-experimental) (23.2.0)\n",
            "Requirement already satisfied: frozenlist>=1.1.1 in /usr/local/lib/python3.10/dist-packages (from aiohttp<4.0.0,>=3.8.3->langchain-community<0.3.0,>=0.2.10->langchain-experimental) (1.4.1)\n",
            "Requirement already satisfied: multidict<7.0,>=4.5 in /usr/local/lib/python3.10/dist-packages (from aiohttp<4.0.0,>=3.8.3->langchain-community<0.3.0,>=0.2.10->langchain-experimental) (6.0.5)\n",
            "Requirement already satisfied: yarl<2.0,>=1.0 in /usr/local/lib/python3.10/dist-packages (from aiohttp<4.0.0,>=3.8.3->langchain-community<0.3.0,>=0.2.10->langchain-experimental) (1.9.4)\n",
            "Requirement already satisfied: async-timeout<5.0,>=4.0 in /usr/local/lib/python3.10/dist-packages (from aiohttp<4.0.0,>=3.8.3->langchain-community<0.3.0,>=0.2.10->langchain-experimental) (4.0.3)\n",
            "Requirement already satisfied: marshmallow<4.0.0,>=3.18.0 in /usr/local/lib/python3.10/dist-packages (from dataclasses-json<0.7,>=0.5.7->langchain-community<0.3.0,>=0.2.10->langchain-experimental) (3.21.3)\n",
            "Requirement already satisfied: typing-inspect<1,>=0.4.0 in /usr/local/lib/python3.10/dist-packages (from dataclasses-json<0.7,>=0.5.7->langchain-community<0.3.0,>=0.2.10->langchain-experimental) (0.9.0)\n",
            "Requirement already satisfied: jsonpointer>=1.9 in /usr/local/lib/python3.10/dist-packages (from jsonpatch<2.0,>=1.33->langchain-core<0.3.0,>=0.2.27->langchain-experimental) (3.0.0)\n",
            "Requirement already satisfied: langchain-text-splitters<0.3.0,>=0.2.0 in /usr/local/lib/python3.10/dist-packages (from langchain<0.3.0,>=0.2.12->langchain-community<0.3.0,>=0.2.10->langchain-experimental) (0.2.2)\n",
            "Requirement already satisfied: orjson<4.0.0,>=3.9.14 in /usr/local/lib/python3.10/dist-packages (from langsmith<0.2.0,>=0.1.0->langchain-community<0.3.0,>=0.2.10->langchain-experimental) (3.10.6)\n",
            "Requirement already satisfied: annotated-types>=0.4.0 in /usr/local/lib/python3.10/dist-packages (from pydantic<3,>=1->langchain-core<0.3.0,>=0.2.27->langchain-experimental) (0.7.0)\n",
            "Requirement already satisfied: pydantic-core==2.20.1 in /usr/local/lib/python3.10/dist-packages (from pydantic<3,>=1->langchain-core<0.3.0,>=0.2.27->langchain-experimental) (2.20.1)\n",
            "Requirement already satisfied: charset-normalizer<4,>=2 in /usr/local/lib/python3.10/dist-packages (from requests<3,>=2->langchain-community<0.3.0,>=0.2.10->langchain-experimental) (3.3.2)\n",
            "Requirement already satisfied: idna<4,>=2.5 in /usr/local/lib/python3.10/dist-packages (from requests<3,>=2->langchain-community<0.3.0,>=0.2.10->langchain-experimental) (3.7)\n",
            "Requirement already satisfied: urllib3<3,>=1.21.1 in /usr/local/lib/python3.10/dist-packages (from requests<3,>=2->langchain-community<0.3.0,>=0.2.10->langchain-experimental) (2.0.7)\n",
            "Requirement already satisfied: certifi>=2017.4.17 in /usr/local/lib/python3.10/dist-packages (from requests<3,>=2->langchain-community<0.3.0,>=0.2.10->langchain-experimental) (2024.7.4)\n",
            "Requirement already satisfied: greenlet!=0.4.17 in /usr/local/lib/python3.10/dist-packages (from SQLAlchemy<3,>=1.4->langchain-community<0.3.0,>=0.2.10->langchain-experimental) (3.0.3)\n",
            "Requirement already satisfied: mypy-extensions>=0.3.0 in /usr/local/lib/python3.10/dist-packages (from typing-inspect<1,>=0.4.0->dataclasses-json<0.7,>=0.5.7->langchain-community<0.3.0,>=0.2.10->langchain-experimental) (1.0.0)\n",
            "Requirement already satisfied: huggingface_hub in /usr/local/lib/python3.10/dist-packages (0.23.5)\n",
            "Requirement already satisfied: filelock in /usr/local/lib/python3.10/dist-packages (from huggingface_hub) (3.15.4)\n",
            "Requirement already satisfied: fsspec>=2023.5.0 in /usr/local/lib/python3.10/dist-packages (from huggingface_hub) (2024.6.1)\n",
            "Requirement already satisfied: packaging>=20.9 in /usr/local/lib/python3.10/dist-packages (from huggingface_hub) (24.1)\n",
            "Requirement already satisfied: pyyaml>=5.1 in /usr/local/lib/python3.10/dist-packages (from huggingface_hub) (6.0.1)\n",
            "Requirement already satisfied: requests in /usr/local/lib/python3.10/dist-packages (from huggingface_hub) (2.31.0)\n",
            "Requirement already satisfied: tqdm>=4.42.1 in /usr/local/lib/python3.10/dist-packages (from huggingface_hub) (4.66.4)\n",
            "Requirement already satisfied: typing-extensions>=3.7.4.3 in /usr/local/lib/python3.10/dist-packages (from huggingface_hub) (4.12.2)\n",
            "Requirement already satisfied: charset-normalizer<4,>=2 in /usr/local/lib/python3.10/dist-packages (from requests->huggingface_hub) (3.3.2)\n",
            "Requirement already satisfied: idna<4,>=2.5 in /usr/local/lib/python3.10/dist-packages (from requests->huggingface_hub) (3.7)\n",
            "Requirement already satisfied: urllib3<3,>=1.21.1 in /usr/local/lib/python3.10/dist-packages (from requests->huggingface_hub) (2.0.7)\n",
            "Requirement already satisfied: certifi>=2017.4.17 in /usr/local/lib/python3.10/dist-packages (from requests->huggingface_hub) (2024.7.4)\n",
            "Requirement already satisfied: langchain-experimental in /usr/local/lib/python3.10/dist-packages (0.0.64)\n",
            "Requirement already satisfied: langchain-community<0.3.0,>=0.2.10 in /usr/local/lib/python3.10/dist-packages (from langchain-experimental) (0.2.11)\n",
            "Requirement already satisfied: langchain-core<0.3.0,>=0.2.27 in /usr/local/lib/python3.10/dist-packages (from langchain-experimental) (0.2.28)\n",
            "Requirement already satisfied: PyYAML>=5.3 in /usr/local/lib/python3.10/dist-packages (from langchain-community<0.3.0,>=0.2.10->langchain-experimental) (6.0.1)\n",
            "Requirement already satisfied: SQLAlchemy<3,>=1.4 in /usr/local/lib/python3.10/dist-packages (from langchain-community<0.3.0,>=0.2.10->langchain-experimental) (2.0.31)\n",
            "Requirement already satisfied: aiohttp<4.0.0,>=3.8.3 in /usr/local/lib/python3.10/dist-packages (from langchain-community<0.3.0,>=0.2.10->langchain-experimental) (3.10.0)\n",
            "Requirement already satisfied: dataclasses-json<0.7,>=0.5.7 in /usr/local/lib/python3.10/dist-packages (from langchain-community<0.3.0,>=0.2.10->langchain-experimental) (0.6.7)\n",
            "Requirement already satisfied: langchain<0.3.0,>=0.2.12 in /usr/local/lib/python3.10/dist-packages (from langchain-community<0.3.0,>=0.2.10->langchain-experimental) (0.2.12)\n",
            "Requirement already satisfied: langsmith<0.2.0,>=0.1.0 in /usr/local/lib/python3.10/dist-packages (from langchain-community<0.3.0,>=0.2.10->langchain-experimental) (0.1.98)\n",
            "Requirement already satisfied: numpy<2,>=1 in /usr/local/lib/python3.10/dist-packages (from langchain-community<0.3.0,>=0.2.10->langchain-experimental) (1.26.4)\n",
            "Requirement already satisfied: requests<3,>=2 in /usr/local/lib/python3.10/dist-packages (from langchain-community<0.3.0,>=0.2.10->langchain-experimental) (2.31.0)\n",
            "Requirement already satisfied: tenacity!=8.4.0,<9.0.0,>=8.1.0 in /usr/local/lib/python3.10/dist-packages (from langchain-community<0.3.0,>=0.2.10->langchain-experimental) (8.5.0)\n",
            "Requirement already satisfied: jsonpatch<2.0,>=1.33 in /usr/local/lib/python3.10/dist-packages (from langchain-core<0.3.0,>=0.2.27->langchain-experimental) (1.33)\n",
            "Requirement already satisfied: packaging<25,>=23.2 in /usr/local/lib/python3.10/dist-packages (from langchain-core<0.3.0,>=0.2.27->langchain-experimental) (24.1)\n",
            "Requirement already satisfied: pydantic<3,>=1 in /usr/local/lib/python3.10/dist-packages (from langchain-core<0.3.0,>=0.2.27->langchain-experimental) (2.8.2)\n",
            "Requirement already satisfied: typing-extensions>=4.7 in /usr/local/lib/python3.10/dist-packages (from langchain-core<0.3.0,>=0.2.27->langchain-experimental) (4.12.2)\n",
            "Requirement already satisfied: aiohappyeyeballs>=2.3.0 in /usr/local/lib/python3.10/dist-packages (from aiohttp<4.0.0,>=3.8.3->langchain-community<0.3.0,>=0.2.10->langchain-experimental) (2.3.4)\n",
            "Requirement already satisfied: aiosignal>=1.1.2 in /usr/local/lib/python3.10/dist-packages (from aiohttp<4.0.0,>=3.8.3->langchain-community<0.3.0,>=0.2.10->langchain-experimental) (1.3.1)\n",
            "Requirement already satisfied: attrs>=17.3.0 in /usr/local/lib/python3.10/dist-packages (from aiohttp<4.0.0,>=3.8.3->langchain-community<0.3.0,>=0.2.10->langchain-experimental) (23.2.0)\n",
            "Requirement already satisfied: frozenlist>=1.1.1 in /usr/local/lib/python3.10/dist-packages (from aiohttp<4.0.0,>=3.8.3->langchain-community<0.3.0,>=0.2.10->langchain-experimental) (1.4.1)\n",
            "Requirement already satisfied: multidict<7.0,>=4.5 in /usr/local/lib/python3.10/dist-packages (from aiohttp<4.0.0,>=3.8.3->langchain-community<0.3.0,>=0.2.10->langchain-experimental) (6.0.5)\n",
            "Requirement already satisfied: yarl<2.0,>=1.0 in /usr/local/lib/python3.10/dist-packages (from aiohttp<4.0.0,>=3.8.3->langchain-community<0.3.0,>=0.2.10->langchain-experimental) (1.9.4)\n",
            "Requirement already satisfied: async-timeout<5.0,>=4.0 in /usr/local/lib/python3.10/dist-packages (from aiohttp<4.0.0,>=3.8.3->langchain-community<0.3.0,>=0.2.10->langchain-experimental) (4.0.3)\n",
            "Requirement already satisfied: marshmallow<4.0.0,>=3.18.0 in /usr/local/lib/python3.10/dist-packages (from dataclasses-json<0.7,>=0.5.7->langchain-community<0.3.0,>=0.2.10->langchain-experimental) (3.21.3)\n",
            "Requirement already satisfied: typing-inspect<1,>=0.4.0 in /usr/local/lib/python3.10/dist-packages (from dataclasses-json<0.7,>=0.5.7->langchain-community<0.3.0,>=0.2.10->langchain-experimental) (0.9.0)\n",
            "Requirement already satisfied: jsonpointer>=1.9 in /usr/local/lib/python3.10/dist-packages (from jsonpatch<2.0,>=1.33->langchain-core<0.3.0,>=0.2.27->langchain-experimental) (3.0.0)\n",
            "Requirement already satisfied: langchain-text-splitters<0.3.0,>=0.2.0 in /usr/local/lib/python3.10/dist-packages (from langchain<0.3.0,>=0.2.12->langchain-community<0.3.0,>=0.2.10->langchain-experimental) (0.2.2)\n",
            "Requirement already satisfied: orjson<4.0.0,>=3.9.14 in /usr/local/lib/python3.10/dist-packages (from langsmith<0.2.0,>=0.1.0->langchain-community<0.3.0,>=0.2.10->langchain-experimental) (3.10.6)\n",
            "Requirement already satisfied: annotated-types>=0.4.0 in /usr/local/lib/python3.10/dist-packages (from pydantic<3,>=1->langchain-core<0.3.0,>=0.2.27->langchain-experimental) (0.7.0)\n",
            "Requirement already satisfied: pydantic-core==2.20.1 in /usr/local/lib/python3.10/dist-packages (from pydantic<3,>=1->langchain-core<0.3.0,>=0.2.27->langchain-experimental) (2.20.1)\n",
            "Requirement already satisfied: charset-normalizer<4,>=2 in /usr/local/lib/python3.10/dist-packages (from requests<3,>=2->langchain-community<0.3.0,>=0.2.10->langchain-experimental) (3.3.2)\n",
            "Requirement already satisfied: idna<4,>=2.5 in /usr/local/lib/python3.10/dist-packages (from requests<3,>=2->langchain-community<0.3.0,>=0.2.10->langchain-experimental) (3.7)\n",
            "Requirement already satisfied: urllib3<3,>=1.21.1 in /usr/local/lib/python3.10/dist-packages (from requests<3,>=2->langchain-community<0.3.0,>=0.2.10->langchain-experimental) (2.0.7)\n",
            "Requirement already satisfied: certifi>=2017.4.17 in /usr/local/lib/python3.10/dist-packages (from requests<3,>=2->langchain-community<0.3.0,>=0.2.10->langchain-experimental) (2024.7.4)\n",
            "Requirement already satisfied: greenlet!=0.4.17 in /usr/local/lib/python3.10/dist-packages (from SQLAlchemy<3,>=1.4->langchain-community<0.3.0,>=0.2.10->langchain-experimental) (3.0.3)\n",
            "Requirement already satisfied: mypy-extensions>=0.3.0 in /usr/local/lib/python3.10/dist-packages (from typing-inspect<1,>=0.4.0->dataclasses-json<0.7,>=0.5.7->langchain-community<0.3.0,>=0.2.10->langchain-experimental) (1.0.0)\n",
            "Requirement already satisfied: pandasql in /usr/local/lib/python3.10/dist-packages (0.7.3)\n",
            "Requirement already satisfied: numpy in /usr/local/lib/python3.10/dist-packages (from pandasql) (1.26.4)\n",
            "Requirement already satisfied: pandas in /usr/local/lib/python3.10/dist-packages (from pandasql) (2.1.4)\n",
            "Requirement already satisfied: sqlalchemy in /usr/local/lib/python3.10/dist-packages (from pandasql) (2.0.31)\n",
            "Requirement already satisfied: python-dateutil>=2.8.2 in /usr/local/lib/python3.10/dist-packages (from pandas->pandasql) (2.8.2)\n",
            "Requirement already satisfied: pytz>=2020.1 in /usr/local/lib/python3.10/dist-packages (from pandas->pandasql) (2024.1)\n",
            "Requirement already satisfied: tzdata>=2022.1 in /usr/local/lib/python3.10/dist-packages (from pandas->pandasql) (2024.1)\n",
            "Requirement already satisfied: typing-extensions>=4.6.0 in /usr/local/lib/python3.10/dist-packages (from sqlalchemy->pandasql) (4.12.2)\n",
            "Requirement already satisfied: greenlet!=0.4.17 in /usr/local/lib/python3.10/dist-packages (from sqlalchemy->pandasql) (3.0.3)\n",
            "Requirement already satisfied: six>=1.5 in /usr/local/lib/python3.10/dist-packages (from python-dateutil>=2.8.2->pandas->pandasql) (1.16.0)\n",
            "Requirement already satisfied: pandas in /usr/local/lib/python3.10/dist-packages (2.1.4)\n",
            "Requirement already satisfied: sqlalchemy in /usr/local/lib/python3.10/dist-packages (2.0.31)\n",
            "Requirement already satisfied: numpy<2,>=1.22.4 in /usr/local/lib/python3.10/dist-packages (from pandas) (1.26.4)\n",
            "Requirement already satisfied: python-dateutil>=2.8.2 in /usr/local/lib/python3.10/dist-packages (from pandas) (2.8.2)\n",
            "Requirement already satisfied: pytz>=2020.1 in /usr/local/lib/python3.10/dist-packages (from pandas) (2024.1)\n",
            "Requirement already satisfied: tzdata>=2022.1 in /usr/local/lib/python3.10/dist-packages (from pandas) (2024.1)\n",
            "Requirement already satisfied: typing-extensions>=4.6.0 in /usr/local/lib/python3.10/dist-packages (from sqlalchemy) (4.12.2)\n",
            "Requirement already satisfied: greenlet!=0.4.17 in /usr/local/lib/python3.10/dist-packages (from sqlalchemy) (3.0.3)\n",
            "Requirement already satisfied: six>=1.5 in /usr/local/lib/python3.10/dist-packages (from python-dateutil>=2.8.2->pandas) (1.16.0)\n"
          ]
        }
      ]
    },
    {
      "cell_type": "code",
      "execution_count": null,
      "id": "159cb679-8218-4b5a-9d81-588ff87508a1",
      "metadata": {
        "id": "159cb679-8218-4b5a-9d81-588ff87508a1"
      },
      "outputs": [],
      "source": [
        "#import libraries\n",
        "from google.colab import drive\n",
        "import pandas as pd\n",
        "import numpy as np\n",
        "import matplotlib.pyplot as plt\n",
        "\n",
        "import sqlite3\n",
        "import pandasql as ps\n",
        "import sqlalchemy\n",
        "\n",
        "import requests\n",
        "from typing import List\n",
        "from operator import itemgetter\n",
        "import json\n",
        "import tqdm\n",
        "import random\n",
        "from IPython.display import display, Markdown, Latex\n",
        "\n",
        "from huggingface_hub import hf_hub_download\n",
        "\n",
        "import os\n",
        "from langchain_community.llms import HuggingFaceEndpoint\n",
        "from langchain import OpenAI, SQLDatabase\n",
        "from langchain import PromptTemplate, LLMChain\n",
        "from langchain.chains import create_sql_query_chain\n",
        "from langchain_community.chat_models import ChatOpenAI\n",
        "from langchain_experimental.sql import SQLDatabaseChain\n",
        "from langchain_community.tools.sql_database.tool import QuerySQLDataBaseTool\n",
        "from langchain_community.llms import LlamaCpp\n",
        "from langchain_core.callbacks import CallbackManager, StreamingStdOutCallbackHandler\n",
        "from langchain.output_parsers import ResponseSchema, StructuredOutputParser\n",
        "from langchain_core.prompts import PromptTemplate\n",
        "from langchain_core.output_parsers import StrOutputParser\n",
        "from langchain_core.prompts import PromptTemplate\n",
        "from langchain_core.runnables import RunnablePassthrough\n"
      ]
    },
    {
      "cell_type": "markdown",
      "source": [
        "##Please upload below files to the google drive before you run the next code\n",
        "1. customer_dim.csv\n",
        "2. product_dim.csv\n",
        "3. sales_transactions.csv\n",
        "5. hf_token.rtf"
      ],
      "metadata": {
        "id": "7eNVWMzl1ry8"
      },
      "id": "7eNVWMzl1ry8"
    },
    {
      "cell_type": "code",
      "execution_count": null,
      "id": "7af3cdff-4943-4b36-aa81-2c5084f90cb2",
      "metadata": {
        "id": "7af3cdff-4943-4b36-aa81-2c5084f90cb2"
      },
      "outputs": [],
      "source": [
        "#Create 3 dataframes from the existing csv files saved in the drive\n",
        "cust_data = pd.read_csv(\"/content/customer_dim.csv\")\n",
        "product_data = pd.read_csv(\"/content/product_dim.csv\")\n",
        "order_data = pd.read_csv(\"/content/sales_transactions.csv\")\n"
      ]
    },
    {
      "cell_type": "markdown",
      "source": [
        "_______________________________________________________________________________"
      ],
      "metadata": {
        "id": "hfEhmpMcTHQ0"
      },
      "id": "hfEhmpMcTHQ0"
    },
    {
      "cell_type": "markdown",
      "source": [
        "##Exploratory Data Analysis\n",
        "\n"
      ],
      "metadata": {
        "id": "OomYdqgGfhXx"
      },
      "id": "OomYdqgGfhXx"
    },
    {
      "cell_type": "markdown",
      "source": [
        "________________________________________________________________________________"
      ],
      "metadata": {
        "id": "2uNsrUHVTLkV"
      },
      "id": "2uNsrUHVTLkV"
    },
    {
      "cell_type": "code",
      "execution_count": null,
      "id": "6371b7a5-6107-4615-8c2d-d31270f92dce",
      "metadata": {
        "colab": {
          "base_uri": "https://localhost:8080/",
          "height": 206
        },
        "id": "6371b7a5-6107-4615-8c2d-d31270f92dce",
        "outputId": "8ace06fd-df27-4374-aa7d-a847f321c611"
      },
      "outputs": [
        {
          "output_type": "execute_result",
          "data": {
            "text/plain": [
              "   cust_id                             cust_address  cust_age  \\\n",
              "0   185057     335 Meadow St, Los Angeles, CA 90001        15   \n",
              "1   225569         753 Adams St, Portland, ME 04101        15   \n",
              "2   134924  295 Dogwood St, New York City, NY 10001        15   \n",
              "3   218931       40 Jefferson St, Atlanta, GA 30301        15   \n",
              "4   140361            169 Lake St, Boston, MA 02215        15   \n",
              "\n",
              "  effective_start_date effective_end_date current_ind  \n",
              "0           1900-01-01         9999-12-31           Y  \n",
              "1           1900-01-01         9999-12-31           Y  \n",
              "2           1900-01-01         9999-12-31           Y  \n",
              "3           1900-01-01         9999-12-31           Y  \n",
              "4           1900-01-01         9999-12-31           Y  "
            ],
            "text/html": [
              "\n",
              "  <div id=\"df-c0abb201-051c-4523-90dc-f0c39aabfd01\" class=\"colab-df-container\">\n",
              "    <div>\n",
              "<style scoped>\n",
              "    .dataframe tbody tr th:only-of-type {\n",
              "        vertical-align: middle;\n",
              "    }\n",
              "\n",
              "    .dataframe tbody tr th {\n",
              "        vertical-align: top;\n",
              "    }\n",
              "\n",
              "    .dataframe thead th {\n",
              "        text-align: right;\n",
              "    }\n",
              "</style>\n",
              "<table border=\"1\" class=\"dataframe\">\n",
              "  <thead>\n",
              "    <tr style=\"text-align: right;\">\n",
              "      <th></th>\n",
              "      <th>cust_id</th>\n",
              "      <th>cust_address</th>\n",
              "      <th>cust_age</th>\n",
              "      <th>effective_start_date</th>\n",
              "      <th>effective_end_date</th>\n",
              "      <th>current_ind</th>\n",
              "    </tr>\n",
              "  </thead>\n",
              "  <tbody>\n",
              "    <tr>\n",
              "      <th>0</th>\n",
              "      <td>185057</td>\n",
              "      <td>335 Meadow St, Los Angeles, CA 90001</td>\n",
              "      <td>15</td>\n",
              "      <td>1900-01-01</td>\n",
              "      <td>9999-12-31</td>\n",
              "      <td>Y</td>\n",
              "    </tr>\n",
              "    <tr>\n",
              "      <th>1</th>\n",
              "      <td>225569</td>\n",
              "      <td>753 Adams St, Portland, ME 04101</td>\n",
              "      <td>15</td>\n",
              "      <td>1900-01-01</td>\n",
              "      <td>9999-12-31</td>\n",
              "      <td>Y</td>\n",
              "    </tr>\n",
              "    <tr>\n",
              "      <th>2</th>\n",
              "      <td>134924</td>\n",
              "      <td>295 Dogwood St, New York City, NY 10001</td>\n",
              "      <td>15</td>\n",
              "      <td>1900-01-01</td>\n",
              "      <td>9999-12-31</td>\n",
              "      <td>Y</td>\n",
              "    </tr>\n",
              "    <tr>\n",
              "      <th>3</th>\n",
              "      <td>218931</td>\n",
              "      <td>40 Jefferson St, Atlanta, GA 30301</td>\n",
              "      <td>15</td>\n",
              "      <td>1900-01-01</td>\n",
              "      <td>9999-12-31</td>\n",
              "      <td>Y</td>\n",
              "    </tr>\n",
              "    <tr>\n",
              "      <th>4</th>\n",
              "      <td>140361</td>\n",
              "      <td>169 Lake St, Boston, MA 02215</td>\n",
              "      <td>15</td>\n",
              "      <td>1900-01-01</td>\n",
              "      <td>9999-12-31</td>\n",
              "      <td>Y</td>\n",
              "    </tr>\n",
              "  </tbody>\n",
              "</table>\n",
              "</div>\n",
              "    <div class=\"colab-df-buttons\">\n",
              "\n",
              "  <div class=\"colab-df-container\">\n",
              "    <button class=\"colab-df-convert\" onclick=\"convertToInteractive('df-c0abb201-051c-4523-90dc-f0c39aabfd01')\"\n",
              "            title=\"Convert this dataframe to an interactive table.\"\n",
              "            style=\"display:none;\">\n",
              "\n",
              "  <svg xmlns=\"http://www.w3.org/2000/svg\" height=\"24px\" viewBox=\"0 -960 960 960\">\n",
              "    <path d=\"M120-120v-720h720v720H120Zm60-500h600v-160H180v160Zm220 220h160v-160H400v160Zm0 220h160v-160H400v160ZM180-400h160v-160H180v160Zm440 0h160v-160H620v160ZM180-180h160v-160H180v160Zm440 0h160v-160H620v160Z\"/>\n",
              "  </svg>\n",
              "    </button>\n",
              "\n",
              "  <style>\n",
              "    .colab-df-container {\n",
              "      display:flex;\n",
              "      gap: 12px;\n",
              "    }\n",
              "\n",
              "    .colab-df-convert {\n",
              "      background-color: #E8F0FE;\n",
              "      border: none;\n",
              "      border-radius: 50%;\n",
              "      cursor: pointer;\n",
              "      display: none;\n",
              "      fill: #1967D2;\n",
              "      height: 32px;\n",
              "      padding: 0 0 0 0;\n",
              "      width: 32px;\n",
              "    }\n",
              "\n",
              "    .colab-df-convert:hover {\n",
              "      background-color: #E2EBFA;\n",
              "      box-shadow: 0px 1px 2px rgba(60, 64, 67, 0.3), 0px 1px 3px 1px rgba(60, 64, 67, 0.15);\n",
              "      fill: #174EA6;\n",
              "    }\n",
              "\n",
              "    .colab-df-buttons div {\n",
              "      margin-bottom: 4px;\n",
              "    }\n",
              "\n",
              "    [theme=dark] .colab-df-convert {\n",
              "      background-color: #3B4455;\n",
              "      fill: #D2E3FC;\n",
              "    }\n",
              "\n",
              "    [theme=dark] .colab-df-convert:hover {\n",
              "      background-color: #434B5C;\n",
              "      box-shadow: 0px 1px 3px 1px rgba(0, 0, 0, 0.15);\n",
              "      filter: drop-shadow(0px 1px 2px rgba(0, 0, 0, 0.3));\n",
              "      fill: #FFFFFF;\n",
              "    }\n",
              "  </style>\n",
              "\n",
              "    <script>\n",
              "      const buttonEl =\n",
              "        document.querySelector('#df-c0abb201-051c-4523-90dc-f0c39aabfd01 button.colab-df-convert');\n",
              "      buttonEl.style.display =\n",
              "        google.colab.kernel.accessAllowed ? 'block' : 'none';\n",
              "\n",
              "      async function convertToInteractive(key) {\n",
              "        const element = document.querySelector('#df-c0abb201-051c-4523-90dc-f0c39aabfd01');\n",
              "        const dataTable =\n",
              "          await google.colab.kernel.invokeFunction('convertToInteractive',\n",
              "                                                    [key], {});\n",
              "        if (!dataTable) return;\n",
              "\n",
              "        const docLinkHtml = 'Like what you see? Visit the ' +\n",
              "          '<a target=\"_blank\" href=https://colab.research.google.com/notebooks/data_table.ipynb>data table notebook</a>'\n",
              "          + ' to learn more about interactive tables.';\n",
              "        element.innerHTML = '';\n",
              "        dataTable['output_type'] = 'display_data';\n",
              "        await google.colab.output.renderOutput(dataTable, element);\n",
              "        const docLink = document.createElement('div');\n",
              "        docLink.innerHTML = docLinkHtml;\n",
              "        element.appendChild(docLink);\n",
              "      }\n",
              "    </script>\n",
              "  </div>\n",
              "\n",
              "\n",
              "<div id=\"df-a473bfd9-104d-4598-9598-5735d06a2d95\">\n",
              "  <button class=\"colab-df-quickchart\" onclick=\"quickchart('df-a473bfd9-104d-4598-9598-5735d06a2d95')\"\n",
              "            title=\"Suggest charts\"\n",
              "            style=\"display:none;\">\n",
              "\n",
              "<svg xmlns=\"http://www.w3.org/2000/svg\" height=\"24px\"viewBox=\"0 0 24 24\"\n",
              "     width=\"24px\">\n",
              "    <g>\n",
              "        <path d=\"M19 3H5c-1.1 0-2 .9-2 2v14c0 1.1.9 2 2 2h14c1.1 0 2-.9 2-2V5c0-1.1-.9-2-2-2zM9 17H7v-7h2v7zm4 0h-2V7h2v10zm4 0h-2v-4h2v4z\"/>\n",
              "    </g>\n",
              "</svg>\n",
              "  </button>\n",
              "\n",
              "<style>\n",
              "  .colab-df-quickchart {\n",
              "      --bg-color: #E8F0FE;\n",
              "      --fill-color: #1967D2;\n",
              "      --hover-bg-color: #E2EBFA;\n",
              "      --hover-fill-color: #174EA6;\n",
              "      --disabled-fill-color: #AAA;\n",
              "      --disabled-bg-color: #DDD;\n",
              "  }\n",
              "\n",
              "  [theme=dark] .colab-df-quickchart {\n",
              "      --bg-color: #3B4455;\n",
              "      --fill-color: #D2E3FC;\n",
              "      --hover-bg-color: #434B5C;\n",
              "      --hover-fill-color: #FFFFFF;\n",
              "      --disabled-bg-color: #3B4455;\n",
              "      --disabled-fill-color: #666;\n",
              "  }\n",
              "\n",
              "  .colab-df-quickchart {\n",
              "    background-color: var(--bg-color);\n",
              "    border: none;\n",
              "    border-radius: 50%;\n",
              "    cursor: pointer;\n",
              "    display: none;\n",
              "    fill: var(--fill-color);\n",
              "    height: 32px;\n",
              "    padding: 0;\n",
              "    width: 32px;\n",
              "  }\n",
              "\n",
              "  .colab-df-quickchart:hover {\n",
              "    background-color: var(--hover-bg-color);\n",
              "    box-shadow: 0 1px 2px rgba(60, 64, 67, 0.3), 0 1px 3px 1px rgba(60, 64, 67, 0.15);\n",
              "    fill: var(--button-hover-fill-color);\n",
              "  }\n",
              "\n",
              "  .colab-df-quickchart-complete:disabled,\n",
              "  .colab-df-quickchart-complete:disabled:hover {\n",
              "    background-color: var(--disabled-bg-color);\n",
              "    fill: var(--disabled-fill-color);\n",
              "    box-shadow: none;\n",
              "  }\n",
              "\n",
              "  .colab-df-spinner {\n",
              "    border: 2px solid var(--fill-color);\n",
              "    border-color: transparent;\n",
              "    border-bottom-color: var(--fill-color);\n",
              "    animation:\n",
              "      spin 1s steps(1) infinite;\n",
              "  }\n",
              "\n",
              "  @keyframes spin {\n",
              "    0% {\n",
              "      border-color: transparent;\n",
              "      border-bottom-color: var(--fill-color);\n",
              "      border-left-color: var(--fill-color);\n",
              "    }\n",
              "    20% {\n",
              "      border-color: transparent;\n",
              "      border-left-color: var(--fill-color);\n",
              "      border-top-color: var(--fill-color);\n",
              "    }\n",
              "    30% {\n",
              "      border-color: transparent;\n",
              "      border-left-color: var(--fill-color);\n",
              "      border-top-color: var(--fill-color);\n",
              "      border-right-color: var(--fill-color);\n",
              "    }\n",
              "    40% {\n",
              "      border-color: transparent;\n",
              "      border-right-color: var(--fill-color);\n",
              "      border-top-color: var(--fill-color);\n",
              "    }\n",
              "    60% {\n",
              "      border-color: transparent;\n",
              "      border-right-color: var(--fill-color);\n",
              "    }\n",
              "    80% {\n",
              "      border-color: transparent;\n",
              "      border-right-color: var(--fill-color);\n",
              "      border-bottom-color: var(--fill-color);\n",
              "    }\n",
              "    90% {\n",
              "      border-color: transparent;\n",
              "      border-bottom-color: var(--fill-color);\n",
              "    }\n",
              "  }\n",
              "</style>\n",
              "\n",
              "  <script>\n",
              "    async function quickchart(key) {\n",
              "      const quickchartButtonEl =\n",
              "        document.querySelector('#' + key + ' button');\n",
              "      quickchartButtonEl.disabled = true;  // To prevent multiple clicks.\n",
              "      quickchartButtonEl.classList.add('colab-df-spinner');\n",
              "      try {\n",
              "        const charts = await google.colab.kernel.invokeFunction(\n",
              "            'suggestCharts', [key], {});\n",
              "      } catch (error) {\n",
              "        console.error('Error during call to suggestCharts:', error);\n",
              "      }\n",
              "      quickchartButtonEl.classList.remove('colab-df-spinner');\n",
              "      quickchartButtonEl.classList.add('colab-df-quickchart-complete');\n",
              "    }\n",
              "    (() => {\n",
              "      let quickchartButtonEl =\n",
              "        document.querySelector('#df-a473bfd9-104d-4598-9598-5735d06a2d95 button');\n",
              "      quickchartButtonEl.style.display =\n",
              "        google.colab.kernel.accessAllowed ? 'block' : 'none';\n",
              "    })();\n",
              "  </script>\n",
              "</div>\n",
              "\n",
              "    </div>\n",
              "  </div>\n"
            ],
            "application/vnd.google.colaboratory.intrinsic+json": {
              "type": "dataframe",
              "variable_name": "cust_data"
            }
          },
          "metadata": {},
          "execution_count": 22
        }
      ],
      "source": [
        "#Investigate data\n",
        "cust_data.head()"
      ]
    },
    {
      "cell_type": "code",
      "source": [
        "#check for null values\n",
        "order_data.isnull().sum()"
      ],
      "metadata": {
        "colab": {
          "base_uri": "https://localhost:8080/"
        },
        "id": "zU2nEsXQFHU1",
        "outputId": "87686c42-e791-4162-fba9-d56bb4f4eda1"
      },
      "id": "zU2nEsXQFHU1",
      "execution_count": null,
      "outputs": [
        {
          "output_type": "execute_result",
          "data": {
            "text/plain": [
              "order_id            0\n",
              "product_id          0\n",
              "cust_id             0\n",
              "product_quantity    0\n",
              "order_date          0\n",
              "dtype: int64"
            ]
          },
          "metadata": {},
          "execution_count": 23
        }
      ]
    },
    {
      "cell_type": "code",
      "source": [
        "#investigate the data\n",
        "product_data.head()"
      ],
      "metadata": {
        "colab": {
          "base_uri": "https://localhost:8080/",
          "height": 206
        },
        "id": "YpXprjhHEzdt",
        "outputId": "37443a31-f089-4263-fe5a-23075f880e9c"
      },
      "id": "YpXprjhHEzdt",
      "execution_count": null,
      "outputs": [
        {
          "output_type": "execute_result",
          "data": {
            "text/plain": [
              "   product_id product_name  product_price effective_start_date  \\\n",
              "0         582       iPhone          635.0           2019-10-01   \n",
              "1         582       iPhone          689.0           2019-06-01   \n",
              "2         582       iPhone          649.0           2019-04-01   \n",
              "3         582       iPhone          700.0           1900-01-01   \n",
              "4         216     LG Dryer          610.0           2019-06-01   \n",
              "\n",
              "  effective_end_date current_ind  \n",
              "0         2019-11-30           N  \n",
              "1         2019-09-30           N  \n",
              "2         2019-05-31           N  \n",
              "3         2019-03-31           N  \n",
              "4         2019-06-30           N  "
            ],
            "text/html": [
              "\n",
              "  <div id=\"df-cae7c419-ec53-4310-a036-d4f4a398634f\" class=\"colab-df-container\">\n",
              "    <div>\n",
              "<style scoped>\n",
              "    .dataframe tbody tr th:only-of-type {\n",
              "        vertical-align: middle;\n",
              "    }\n",
              "\n",
              "    .dataframe tbody tr th {\n",
              "        vertical-align: top;\n",
              "    }\n",
              "\n",
              "    .dataframe thead th {\n",
              "        text-align: right;\n",
              "    }\n",
              "</style>\n",
              "<table border=\"1\" class=\"dataframe\">\n",
              "  <thead>\n",
              "    <tr style=\"text-align: right;\">\n",
              "      <th></th>\n",
              "      <th>product_id</th>\n",
              "      <th>product_name</th>\n",
              "      <th>product_price</th>\n",
              "      <th>effective_start_date</th>\n",
              "      <th>effective_end_date</th>\n",
              "      <th>current_ind</th>\n",
              "    </tr>\n",
              "  </thead>\n",
              "  <tbody>\n",
              "    <tr>\n",
              "      <th>0</th>\n",
              "      <td>582</td>\n",
              "      <td>iPhone</td>\n",
              "      <td>635.0</td>\n",
              "      <td>2019-10-01</td>\n",
              "      <td>2019-11-30</td>\n",
              "      <td>N</td>\n",
              "    </tr>\n",
              "    <tr>\n",
              "      <th>1</th>\n",
              "      <td>582</td>\n",
              "      <td>iPhone</td>\n",
              "      <td>689.0</td>\n",
              "      <td>2019-06-01</td>\n",
              "      <td>2019-09-30</td>\n",
              "      <td>N</td>\n",
              "    </tr>\n",
              "    <tr>\n",
              "      <th>2</th>\n",
              "      <td>582</td>\n",
              "      <td>iPhone</td>\n",
              "      <td>649.0</td>\n",
              "      <td>2019-04-01</td>\n",
              "      <td>2019-05-31</td>\n",
              "      <td>N</td>\n",
              "    </tr>\n",
              "    <tr>\n",
              "      <th>3</th>\n",
              "      <td>582</td>\n",
              "      <td>iPhone</td>\n",
              "      <td>700.0</td>\n",
              "      <td>1900-01-01</td>\n",
              "      <td>2019-03-31</td>\n",
              "      <td>N</td>\n",
              "    </tr>\n",
              "    <tr>\n",
              "      <th>4</th>\n",
              "      <td>216</td>\n",
              "      <td>LG Dryer</td>\n",
              "      <td>610.0</td>\n",
              "      <td>2019-06-01</td>\n",
              "      <td>2019-06-30</td>\n",
              "      <td>N</td>\n",
              "    </tr>\n",
              "  </tbody>\n",
              "</table>\n",
              "</div>\n",
              "    <div class=\"colab-df-buttons\">\n",
              "\n",
              "  <div class=\"colab-df-container\">\n",
              "    <button class=\"colab-df-convert\" onclick=\"convertToInteractive('df-cae7c419-ec53-4310-a036-d4f4a398634f')\"\n",
              "            title=\"Convert this dataframe to an interactive table.\"\n",
              "            style=\"display:none;\">\n",
              "\n",
              "  <svg xmlns=\"http://www.w3.org/2000/svg\" height=\"24px\" viewBox=\"0 -960 960 960\">\n",
              "    <path d=\"M120-120v-720h720v720H120Zm60-500h600v-160H180v160Zm220 220h160v-160H400v160Zm0 220h160v-160H400v160ZM180-400h160v-160H180v160Zm440 0h160v-160H620v160ZM180-180h160v-160H180v160Zm440 0h160v-160H620v160Z\"/>\n",
              "  </svg>\n",
              "    </button>\n",
              "\n",
              "  <style>\n",
              "    .colab-df-container {\n",
              "      display:flex;\n",
              "      gap: 12px;\n",
              "    }\n",
              "\n",
              "    .colab-df-convert {\n",
              "      background-color: #E8F0FE;\n",
              "      border: none;\n",
              "      border-radius: 50%;\n",
              "      cursor: pointer;\n",
              "      display: none;\n",
              "      fill: #1967D2;\n",
              "      height: 32px;\n",
              "      padding: 0 0 0 0;\n",
              "      width: 32px;\n",
              "    }\n",
              "\n",
              "    .colab-df-convert:hover {\n",
              "      background-color: #E2EBFA;\n",
              "      box-shadow: 0px 1px 2px rgba(60, 64, 67, 0.3), 0px 1px 3px 1px rgba(60, 64, 67, 0.15);\n",
              "      fill: #174EA6;\n",
              "    }\n",
              "\n",
              "    .colab-df-buttons div {\n",
              "      margin-bottom: 4px;\n",
              "    }\n",
              "\n",
              "    [theme=dark] .colab-df-convert {\n",
              "      background-color: #3B4455;\n",
              "      fill: #D2E3FC;\n",
              "    }\n",
              "\n",
              "    [theme=dark] .colab-df-convert:hover {\n",
              "      background-color: #434B5C;\n",
              "      box-shadow: 0px 1px 3px 1px rgba(0, 0, 0, 0.15);\n",
              "      filter: drop-shadow(0px 1px 2px rgba(0, 0, 0, 0.3));\n",
              "      fill: #FFFFFF;\n",
              "    }\n",
              "  </style>\n",
              "\n",
              "    <script>\n",
              "      const buttonEl =\n",
              "        document.querySelector('#df-cae7c419-ec53-4310-a036-d4f4a398634f button.colab-df-convert');\n",
              "      buttonEl.style.display =\n",
              "        google.colab.kernel.accessAllowed ? 'block' : 'none';\n",
              "\n",
              "      async function convertToInteractive(key) {\n",
              "        const element = document.querySelector('#df-cae7c419-ec53-4310-a036-d4f4a398634f');\n",
              "        const dataTable =\n",
              "          await google.colab.kernel.invokeFunction('convertToInteractive',\n",
              "                                                    [key], {});\n",
              "        if (!dataTable) return;\n",
              "\n",
              "        const docLinkHtml = 'Like what you see? Visit the ' +\n",
              "          '<a target=\"_blank\" href=https://colab.research.google.com/notebooks/data_table.ipynb>data table notebook</a>'\n",
              "          + ' to learn more about interactive tables.';\n",
              "        element.innerHTML = '';\n",
              "        dataTable['output_type'] = 'display_data';\n",
              "        await google.colab.output.renderOutput(dataTable, element);\n",
              "        const docLink = document.createElement('div');\n",
              "        docLink.innerHTML = docLinkHtml;\n",
              "        element.appendChild(docLink);\n",
              "      }\n",
              "    </script>\n",
              "  </div>\n",
              "\n",
              "\n",
              "<div id=\"df-ea1f7403-d0aa-47ef-826e-991821d06842\">\n",
              "  <button class=\"colab-df-quickchart\" onclick=\"quickchart('df-ea1f7403-d0aa-47ef-826e-991821d06842')\"\n",
              "            title=\"Suggest charts\"\n",
              "            style=\"display:none;\">\n",
              "\n",
              "<svg xmlns=\"http://www.w3.org/2000/svg\" height=\"24px\"viewBox=\"0 0 24 24\"\n",
              "     width=\"24px\">\n",
              "    <g>\n",
              "        <path d=\"M19 3H5c-1.1 0-2 .9-2 2v14c0 1.1.9 2 2 2h14c1.1 0 2-.9 2-2V5c0-1.1-.9-2-2-2zM9 17H7v-7h2v7zm4 0h-2V7h2v10zm4 0h-2v-4h2v4z\"/>\n",
              "    </g>\n",
              "</svg>\n",
              "  </button>\n",
              "\n",
              "<style>\n",
              "  .colab-df-quickchart {\n",
              "      --bg-color: #E8F0FE;\n",
              "      --fill-color: #1967D2;\n",
              "      --hover-bg-color: #E2EBFA;\n",
              "      --hover-fill-color: #174EA6;\n",
              "      --disabled-fill-color: #AAA;\n",
              "      --disabled-bg-color: #DDD;\n",
              "  }\n",
              "\n",
              "  [theme=dark] .colab-df-quickchart {\n",
              "      --bg-color: #3B4455;\n",
              "      --fill-color: #D2E3FC;\n",
              "      --hover-bg-color: #434B5C;\n",
              "      --hover-fill-color: #FFFFFF;\n",
              "      --disabled-bg-color: #3B4455;\n",
              "      --disabled-fill-color: #666;\n",
              "  }\n",
              "\n",
              "  .colab-df-quickchart {\n",
              "    background-color: var(--bg-color);\n",
              "    border: none;\n",
              "    border-radius: 50%;\n",
              "    cursor: pointer;\n",
              "    display: none;\n",
              "    fill: var(--fill-color);\n",
              "    height: 32px;\n",
              "    padding: 0;\n",
              "    width: 32px;\n",
              "  }\n",
              "\n",
              "  .colab-df-quickchart:hover {\n",
              "    background-color: var(--hover-bg-color);\n",
              "    box-shadow: 0 1px 2px rgba(60, 64, 67, 0.3), 0 1px 3px 1px rgba(60, 64, 67, 0.15);\n",
              "    fill: var(--button-hover-fill-color);\n",
              "  }\n",
              "\n",
              "  .colab-df-quickchart-complete:disabled,\n",
              "  .colab-df-quickchart-complete:disabled:hover {\n",
              "    background-color: var(--disabled-bg-color);\n",
              "    fill: var(--disabled-fill-color);\n",
              "    box-shadow: none;\n",
              "  }\n",
              "\n",
              "  .colab-df-spinner {\n",
              "    border: 2px solid var(--fill-color);\n",
              "    border-color: transparent;\n",
              "    border-bottom-color: var(--fill-color);\n",
              "    animation:\n",
              "      spin 1s steps(1) infinite;\n",
              "  }\n",
              "\n",
              "  @keyframes spin {\n",
              "    0% {\n",
              "      border-color: transparent;\n",
              "      border-bottom-color: var(--fill-color);\n",
              "      border-left-color: var(--fill-color);\n",
              "    }\n",
              "    20% {\n",
              "      border-color: transparent;\n",
              "      border-left-color: var(--fill-color);\n",
              "      border-top-color: var(--fill-color);\n",
              "    }\n",
              "    30% {\n",
              "      border-color: transparent;\n",
              "      border-left-color: var(--fill-color);\n",
              "      border-top-color: var(--fill-color);\n",
              "      border-right-color: var(--fill-color);\n",
              "    }\n",
              "    40% {\n",
              "      border-color: transparent;\n",
              "      border-right-color: var(--fill-color);\n",
              "      border-top-color: var(--fill-color);\n",
              "    }\n",
              "    60% {\n",
              "      border-color: transparent;\n",
              "      border-right-color: var(--fill-color);\n",
              "    }\n",
              "    80% {\n",
              "      border-color: transparent;\n",
              "      border-right-color: var(--fill-color);\n",
              "      border-bottom-color: var(--fill-color);\n",
              "    }\n",
              "    90% {\n",
              "      border-color: transparent;\n",
              "      border-bottom-color: var(--fill-color);\n",
              "    }\n",
              "  }\n",
              "</style>\n",
              "\n",
              "  <script>\n",
              "    async function quickchart(key) {\n",
              "      const quickchartButtonEl =\n",
              "        document.querySelector('#' + key + ' button');\n",
              "      quickchartButtonEl.disabled = true;  // To prevent multiple clicks.\n",
              "      quickchartButtonEl.classList.add('colab-df-spinner');\n",
              "      try {\n",
              "        const charts = await google.colab.kernel.invokeFunction(\n",
              "            'suggestCharts', [key], {});\n",
              "      } catch (error) {\n",
              "        console.error('Error during call to suggestCharts:', error);\n",
              "      }\n",
              "      quickchartButtonEl.classList.remove('colab-df-spinner');\n",
              "      quickchartButtonEl.classList.add('colab-df-quickchart-complete');\n",
              "    }\n",
              "    (() => {\n",
              "      let quickchartButtonEl =\n",
              "        document.querySelector('#df-ea1f7403-d0aa-47ef-826e-991821d06842 button');\n",
              "      quickchartButtonEl.style.display =\n",
              "        google.colab.kernel.accessAllowed ? 'block' : 'none';\n",
              "    })();\n",
              "  </script>\n",
              "</div>\n",
              "\n",
              "    </div>\n",
              "  </div>\n"
            ],
            "application/vnd.google.colaboratory.intrinsic+json": {
              "type": "dataframe",
              "variable_name": "product_data",
              "summary": "{\n  \"name\": \"product_data\",\n  \"rows\": 121,\n  \"fields\": [\n    {\n      \"column\": \"product_id\",\n      \"properties\": {\n        \"dtype\": \"number\",\n        \"std\": 241,\n        \"min\": 168,\n        \"max\": 981,\n        \"num_unique_values\": 19,\n        \"samples\": [\n          582,\n          826,\n          406\n        ],\n        \"semantic_type\": \"\",\n        \"description\": \"\"\n      }\n    },\n    {\n      \"column\": \"product_name\",\n      \"properties\": {\n        \"dtype\": \"category\",\n        \"num_unique_values\": 19,\n        \"samples\": [\n          \"iPhone\",\n          \"ThinkPad Laptop\",\n          \"AA Batteries (4-pack)\"\n        ],\n        \"semantic_type\": \"\",\n        \"description\": \"\"\n      }\n    },\n    {\n      \"column\": \"product_price\",\n      \"properties\": {\n        \"dtype\": \"number\",\n        \"std\": 419.7279000716296,\n        \"min\": 2.89,\n        \"max\": 1800.0,\n        \"num_unique_values\": 85,\n        \"samples\": [\n          495.0,\n          635.0,\n          16.0\n        ],\n        \"semantic_type\": \"\",\n        \"description\": \"\"\n      }\n    },\n    {\n      \"column\": \"effective_start_date\",\n      \"properties\": {\n        \"dtype\": \"object\",\n        \"num_unique_values\": 12,\n        \"samples\": [\n          \"2019-02-01\",\n          \"2019-08-01\",\n          \"2019-10-01\"\n        ],\n        \"semantic_type\": \"\",\n        \"description\": \"\"\n      }\n    },\n    {\n      \"column\": \"effective_end_date\",\n      \"properties\": {\n        \"dtype\": \"category\",\n        \"num_unique_values\": 12,\n        \"samples\": [\n          \"2019-01-31\",\n          \"2019-07-31\",\n          \"2019-11-30\"\n        ],\n        \"semantic_type\": \"\",\n        \"description\": \"\"\n      }\n    },\n    {\n      \"column\": \"current_ind\",\n      \"properties\": {\n        \"dtype\": \"category\",\n        \"num_unique_values\": 2,\n        \"samples\": [\n          \"Y\",\n          \"N\"\n        ],\n        \"semantic_type\": \"\",\n        \"description\": \"\"\n      }\n    }\n  ]\n}"
            }
          },
          "metadata": {},
          "execution_count": 24
        }
      ]
    },
    {
      "cell_type": "code",
      "source": [
        "#drop null values from the dataframe\n",
        "order_data.dropna(inplace=True)\n"
      ],
      "metadata": {
        "id": "ncQaXUyJFi7o"
      },
      "id": "ncQaXUyJFi7o",
      "execution_count": null,
      "outputs": []
    },
    {
      "cell_type": "code",
      "source": [
        "#investigate the order data\n",
        "order_data.tail()"
      ],
      "metadata": {
        "colab": {
          "base_uri": "https://localhost:8080/",
          "height": 206
        },
        "id": "w7NKifPZE31D",
        "outputId": "1ad63aed-07e4-47ca-e76b-d310f0715f2f"
      },
      "id": "w7NKifPZE31D",
      "execution_count": null,
      "outputs": [
        {
          "output_type": "execute_result",
          "data": {
            "text/plain": [
              "        order_id  product_id  cust_id  product_quantity  order_date\n",
              "185945    267890         692   206766                 3  2019-10-06\n",
              "185946    271869         692   203170                 3  2019-10-06\n",
              "185947    266115         692   144006                 3  2019-10-06\n",
              "185948    277783         692   194323                 4  2019-10-06\n",
              "185949    274286         692   208841                 5  2019-10-06"
            ],
            "text/html": [
              "\n",
              "  <div id=\"df-b033b051-e5a5-4f70-bff6-4bff5056e7b5\" class=\"colab-df-container\">\n",
              "    <div>\n",
              "<style scoped>\n",
              "    .dataframe tbody tr th:only-of-type {\n",
              "        vertical-align: middle;\n",
              "    }\n",
              "\n",
              "    .dataframe tbody tr th {\n",
              "        vertical-align: top;\n",
              "    }\n",
              "\n",
              "    .dataframe thead th {\n",
              "        text-align: right;\n",
              "    }\n",
              "</style>\n",
              "<table border=\"1\" class=\"dataframe\">\n",
              "  <thead>\n",
              "    <tr style=\"text-align: right;\">\n",
              "      <th></th>\n",
              "      <th>order_id</th>\n",
              "      <th>product_id</th>\n",
              "      <th>cust_id</th>\n",
              "      <th>product_quantity</th>\n",
              "      <th>order_date</th>\n",
              "    </tr>\n",
              "  </thead>\n",
              "  <tbody>\n",
              "    <tr>\n",
              "      <th>185945</th>\n",
              "      <td>267890</td>\n",
              "      <td>692</td>\n",
              "      <td>206766</td>\n",
              "      <td>3</td>\n",
              "      <td>2019-10-06</td>\n",
              "    </tr>\n",
              "    <tr>\n",
              "      <th>185946</th>\n",
              "      <td>271869</td>\n",
              "      <td>692</td>\n",
              "      <td>203170</td>\n",
              "      <td>3</td>\n",
              "      <td>2019-10-06</td>\n",
              "    </tr>\n",
              "    <tr>\n",
              "      <th>185947</th>\n",
              "      <td>266115</td>\n",
              "      <td>692</td>\n",
              "      <td>144006</td>\n",
              "      <td>3</td>\n",
              "      <td>2019-10-06</td>\n",
              "    </tr>\n",
              "    <tr>\n",
              "      <th>185948</th>\n",
              "      <td>277783</td>\n",
              "      <td>692</td>\n",
              "      <td>194323</td>\n",
              "      <td>4</td>\n",
              "      <td>2019-10-06</td>\n",
              "    </tr>\n",
              "    <tr>\n",
              "      <th>185949</th>\n",
              "      <td>274286</td>\n",
              "      <td>692</td>\n",
              "      <td>208841</td>\n",
              "      <td>5</td>\n",
              "      <td>2019-10-06</td>\n",
              "    </tr>\n",
              "  </tbody>\n",
              "</table>\n",
              "</div>\n",
              "    <div class=\"colab-df-buttons\">\n",
              "\n",
              "  <div class=\"colab-df-container\">\n",
              "    <button class=\"colab-df-convert\" onclick=\"convertToInteractive('df-b033b051-e5a5-4f70-bff6-4bff5056e7b5')\"\n",
              "            title=\"Convert this dataframe to an interactive table.\"\n",
              "            style=\"display:none;\">\n",
              "\n",
              "  <svg xmlns=\"http://www.w3.org/2000/svg\" height=\"24px\" viewBox=\"0 -960 960 960\">\n",
              "    <path d=\"M120-120v-720h720v720H120Zm60-500h600v-160H180v160Zm220 220h160v-160H400v160Zm0 220h160v-160H400v160ZM180-400h160v-160H180v160Zm440 0h160v-160H620v160ZM180-180h160v-160H180v160Zm440 0h160v-160H620v160Z\"/>\n",
              "  </svg>\n",
              "    </button>\n",
              "\n",
              "  <style>\n",
              "    .colab-df-container {\n",
              "      display:flex;\n",
              "      gap: 12px;\n",
              "    }\n",
              "\n",
              "    .colab-df-convert {\n",
              "      background-color: #E8F0FE;\n",
              "      border: none;\n",
              "      border-radius: 50%;\n",
              "      cursor: pointer;\n",
              "      display: none;\n",
              "      fill: #1967D2;\n",
              "      height: 32px;\n",
              "      padding: 0 0 0 0;\n",
              "      width: 32px;\n",
              "    }\n",
              "\n",
              "    .colab-df-convert:hover {\n",
              "      background-color: #E2EBFA;\n",
              "      box-shadow: 0px 1px 2px rgba(60, 64, 67, 0.3), 0px 1px 3px 1px rgba(60, 64, 67, 0.15);\n",
              "      fill: #174EA6;\n",
              "    }\n",
              "\n",
              "    .colab-df-buttons div {\n",
              "      margin-bottom: 4px;\n",
              "    }\n",
              "\n",
              "    [theme=dark] .colab-df-convert {\n",
              "      background-color: #3B4455;\n",
              "      fill: #D2E3FC;\n",
              "    }\n",
              "\n",
              "    [theme=dark] .colab-df-convert:hover {\n",
              "      background-color: #434B5C;\n",
              "      box-shadow: 0px 1px 3px 1px rgba(0, 0, 0, 0.15);\n",
              "      filter: drop-shadow(0px 1px 2px rgba(0, 0, 0, 0.3));\n",
              "      fill: #FFFFFF;\n",
              "    }\n",
              "  </style>\n",
              "\n",
              "    <script>\n",
              "      const buttonEl =\n",
              "        document.querySelector('#df-b033b051-e5a5-4f70-bff6-4bff5056e7b5 button.colab-df-convert');\n",
              "      buttonEl.style.display =\n",
              "        google.colab.kernel.accessAllowed ? 'block' : 'none';\n",
              "\n",
              "      async function convertToInteractive(key) {\n",
              "        const element = document.querySelector('#df-b033b051-e5a5-4f70-bff6-4bff5056e7b5');\n",
              "        const dataTable =\n",
              "          await google.colab.kernel.invokeFunction('convertToInteractive',\n",
              "                                                    [key], {});\n",
              "        if (!dataTable) return;\n",
              "\n",
              "        const docLinkHtml = 'Like what you see? Visit the ' +\n",
              "          '<a target=\"_blank\" href=https://colab.research.google.com/notebooks/data_table.ipynb>data table notebook</a>'\n",
              "          + ' to learn more about interactive tables.';\n",
              "        element.innerHTML = '';\n",
              "        dataTable['output_type'] = 'display_data';\n",
              "        await google.colab.output.renderOutput(dataTable, element);\n",
              "        const docLink = document.createElement('div');\n",
              "        docLink.innerHTML = docLinkHtml;\n",
              "        element.appendChild(docLink);\n",
              "      }\n",
              "    </script>\n",
              "  </div>\n",
              "\n",
              "\n",
              "<div id=\"df-2aeab283-2005-441e-a3b5-11c670fcdd51\">\n",
              "  <button class=\"colab-df-quickchart\" onclick=\"quickchart('df-2aeab283-2005-441e-a3b5-11c670fcdd51')\"\n",
              "            title=\"Suggest charts\"\n",
              "            style=\"display:none;\">\n",
              "\n",
              "<svg xmlns=\"http://www.w3.org/2000/svg\" height=\"24px\"viewBox=\"0 0 24 24\"\n",
              "     width=\"24px\">\n",
              "    <g>\n",
              "        <path d=\"M19 3H5c-1.1 0-2 .9-2 2v14c0 1.1.9 2 2 2h14c1.1 0 2-.9 2-2V5c0-1.1-.9-2-2-2zM9 17H7v-7h2v7zm4 0h-2V7h2v10zm4 0h-2v-4h2v4z\"/>\n",
              "    </g>\n",
              "</svg>\n",
              "  </button>\n",
              "\n",
              "<style>\n",
              "  .colab-df-quickchart {\n",
              "      --bg-color: #E8F0FE;\n",
              "      --fill-color: #1967D2;\n",
              "      --hover-bg-color: #E2EBFA;\n",
              "      --hover-fill-color: #174EA6;\n",
              "      --disabled-fill-color: #AAA;\n",
              "      --disabled-bg-color: #DDD;\n",
              "  }\n",
              "\n",
              "  [theme=dark] .colab-df-quickchart {\n",
              "      --bg-color: #3B4455;\n",
              "      --fill-color: #D2E3FC;\n",
              "      --hover-bg-color: #434B5C;\n",
              "      --hover-fill-color: #FFFFFF;\n",
              "      --disabled-bg-color: #3B4455;\n",
              "      --disabled-fill-color: #666;\n",
              "  }\n",
              "\n",
              "  .colab-df-quickchart {\n",
              "    background-color: var(--bg-color);\n",
              "    border: none;\n",
              "    border-radius: 50%;\n",
              "    cursor: pointer;\n",
              "    display: none;\n",
              "    fill: var(--fill-color);\n",
              "    height: 32px;\n",
              "    padding: 0;\n",
              "    width: 32px;\n",
              "  }\n",
              "\n",
              "  .colab-df-quickchart:hover {\n",
              "    background-color: var(--hover-bg-color);\n",
              "    box-shadow: 0 1px 2px rgba(60, 64, 67, 0.3), 0 1px 3px 1px rgba(60, 64, 67, 0.15);\n",
              "    fill: var(--button-hover-fill-color);\n",
              "  }\n",
              "\n",
              "  .colab-df-quickchart-complete:disabled,\n",
              "  .colab-df-quickchart-complete:disabled:hover {\n",
              "    background-color: var(--disabled-bg-color);\n",
              "    fill: var(--disabled-fill-color);\n",
              "    box-shadow: none;\n",
              "  }\n",
              "\n",
              "  .colab-df-spinner {\n",
              "    border: 2px solid var(--fill-color);\n",
              "    border-color: transparent;\n",
              "    border-bottom-color: var(--fill-color);\n",
              "    animation:\n",
              "      spin 1s steps(1) infinite;\n",
              "  }\n",
              "\n",
              "  @keyframes spin {\n",
              "    0% {\n",
              "      border-color: transparent;\n",
              "      border-bottom-color: var(--fill-color);\n",
              "      border-left-color: var(--fill-color);\n",
              "    }\n",
              "    20% {\n",
              "      border-color: transparent;\n",
              "      border-left-color: var(--fill-color);\n",
              "      border-top-color: var(--fill-color);\n",
              "    }\n",
              "    30% {\n",
              "      border-color: transparent;\n",
              "      border-left-color: var(--fill-color);\n",
              "      border-top-color: var(--fill-color);\n",
              "      border-right-color: var(--fill-color);\n",
              "    }\n",
              "    40% {\n",
              "      border-color: transparent;\n",
              "      border-right-color: var(--fill-color);\n",
              "      border-top-color: var(--fill-color);\n",
              "    }\n",
              "    60% {\n",
              "      border-color: transparent;\n",
              "      border-right-color: var(--fill-color);\n",
              "    }\n",
              "    80% {\n",
              "      border-color: transparent;\n",
              "      border-right-color: var(--fill-color);\n",
              "      border-bottom-color: var(--fill-color);\n",
              "    }\n",
              "    90% {\n",
              "      border-color: transparent;\n",
              "      border-bottom-color: var(--fill-color);\n",
              "    }\n",
              "  }\n",
              "</style>\n",
              "\n",
              "  <script>\n",
              "    async function quickchart(key) {\n",
              "      const quickchartButtonEl =\n",
              "        document.querySelector('#' + key + ' button');\n",
              "      quickchartButtonEl.disabled = true;  // To prevent multiple clicks.\n",
              "      quickchartButtonEl.classList.add('colab-df-spinner');\n",
              "      try {\n",
              "        const charts = await google.colab.kernel.invokeFunction(\n",
              "            'suggestCharts', [key], {});\n",
              "      } catch (error) {\n",
              "        console.error('Error during call to suggestCharts:', error);\n",
              "      }\n",
              "      quickchartButtonEl.classList.remove('colab-df-spinner');\n",
              "      quickchartButtonEl.classList.add('colab-df-quickchart-complete');\n",
              "    }\n",
              "    (() => {\n",
              "      let quickchartButtonEl =\n",
              "        document.querySelector('#df-2aeab283-2005-441e-a3b5-11c670fcdd51 button');\n",
              "      quickchartButtonEl.style.display =\n",
              "        google.colab.kernel.accessAllowed ? 'block' : 'none';\n",
              "    })();\n",
              "  </script>\n",
              "</div>\n",
              "\n",
              "    </div>\n",
              "  </div>\n"
            ],
            "application/vnd.google.colaboratory.intrinsic+json": {
              "type": "dataframe",
              "repr_error": "0"
            }
          },
          "metadata": {},
          "execution_count": 26
        }
      ]
    },
    {
      "cell_type": "code",
      "source": [
        "# Group the data by customer ID and age\n",
        "customer_counts = cust_data.groupby('cust_age')['cust_id'].nunique()\n",
        "\n",
        "# Create a bar plot\n",
        "plt.bar(customer_counts.index, customer_counts.values)\n",
        "plt.xlabel('Customer Age')\n",
        "plt.ylabel('Number of Customers')\n",
        "plt.title('Number of Customers by Age')\n",
        "plt.show()"
      ],
      "metadata": {
        "colab": {
          "base_uri": "https://localhost:8080/",
          "height": 472
        },
        "id": "5JXLmSyNfF1r",
        "outputId": "45500bc3-3e56-40df-9ed6-35fef957f57f"
      },
      "id": "5JXLmSyNfF1r",
      "execution_count": null,
      "outputs": [
        {
          "output_type": "display_data",
          "data": {
            "text/plain": [
              "<Figure size 640x480 with 1 Axes>"
            ],
            "image/png": "[encoded data removed]"
          },
          "metadata": {}
        }
      ]
    },
    {
      "cell_type": "code",
      "execution_count": null,
      "id": "d0b51831-9f0a-4562-b81a-298ddfbdc481",
      "metadata": {
        "colab": {
          "base_uri": "https://localhost:8080/",
          "height": 206
        },
        "id": "d0b51831-9f0a-4562-b81a-298ddfbdc481",
        "outputId": "c5c6280b-21ac-4436-ed3f-59503aeab3f7"
      },
      "outputs": [
        {
          "output_type": "execute_result",
          "data": {
            "text/plain": [
              "   product_id product_name  product_price effective_start_date  \\\n",
              "0         582       iPhone          635.0           2019-10-01   \n",
              "1         582       iPhone          689.0           2019-06-01   \n",
              "2         582       iPhone          649.0           2019-04-01   \n",
              "3         582       iPhone          700.0           1900-01-01   \n",
              "4         216     LG Dryer          610.0           2019-06-01   \n",
              "\n",
              "  effective_end_date current_ind  \n",
              "0         2019-11-30           N  \n",
              "1         2019-09-30           N  \n",
              "2         2019-05-31           N  \n",
              "3         2019-03-31           N  \n",
              "4         2019-06-30           N  "
            ],
            "text/html": [
              "\n",
              "  <div id=\"df-c1ce08c9-89fb-4543-8b0e-f598fb2a3d10\" class=\"colab-df-container\">\n",
              "    <div>\n",
              "<style scoped>\n",
              "    .dataframe tbody tr th:only-of-type {\n",
              "        vertical-align: middle;\n",
              "    }\n",
              "\n",
              "    .dataframe tbody tr th {\n",
              "        vertical-align: top;\n",
              "    }\n",
              "\n",
              "    .dataframe thead th {\n",
              "        text-align: right;\n",
              "    }\n",
              "</style>\n",
              "<table border=\"1\" class=\"dataframe\">\n",
              "  <thead>\n",
              "    <tr style=\"text-align: right;\">\n",
              "      <th></th>\n",
              "      <th>product_id</th>\n",
              "      <th>product_name</th>\n",
              "      <th>product_price</th>\n",
              "      <th>effective_start_date</th>\n",
              "      <th>effective_end_date</th>\n",
              "      <th>current_ind</th>\n",
              "    </tr>\n",
              "  </thead>\n",
              "  <tbody>\n",
              "    <tr>\n",
              "      <th>0</th>\n",
              "      <td>582</td>\n",
              "      <td>iPhone</td>\n",
              "      <td>635.0</td>\n",
              "      <td>2019-10-01</td>\n",
              "      <td>2019-11-30</td>\n",
              "      <td>N</td>\n",
              "    </tr>\n",
              "    <tr>\n",
              "      <th>1</th>\n",
              "      <td>582</td>\n",
              "      <td>iPhone</td>\n",
              "      <td>689.0</td>\n",
              "      <td>2019-06-01</td>\n",
              "      <td>2019-09-30</td>\n",
              "      <td>N</td>\n",
              "    </tr>\n",
              "    <tr>\n",
              "      <th>2</th>\n",
              "      <td>582</td>\n",
              "      <td>iPhone</td>\n",
              "      <td>649.0</td>\n",
              "      <td>2019-04-01</td>\n",
              "      <td>2019-05-31</td>\n",
              "      <td>N</td>\n",
              "    </tr>\n",
              "    <tr>\n",
              "      <th>3</th>\n",
              "      <td>582</td>\n",
              "      <td>iPhone</td>\n",
              "      <td>700.0</td>\n",
              "      <td>1900-01-01</td>\n",
              "      <td>2019-03-31</td>\n",
              "      <td>N</td>\n",
              "    </tr>\n",
              "    <tr>\n",
              "      <th>4</th>\n",
              "      <td>216</td>\n",
              "      <td>LG Dryer</td>\n",
              "      <td>610.0</td>\n",
              "      <td>2019-06-01</td>\n",
              "      <td>2019-06-30</td>\n",
              "      <td>N</td>\n",
              "    </tr>\n",
              "  </tbody>\n",
              "</table>\n",
              "</div>\n",
              "    <div class=\"colab-df-buttons\">\n",
              "\n",
              "  <div class=\"colab-df-container\">\n",
              "    <button class=\"colab-df-convert\" onclick=\"convertToInteractive('df-c1ce08c9-89fb-4543-8b0e-f598fb2a3d10')\"\n",
              "            title=\"Convert this dataframe to an interactive table.\"\n",
              "            style=\"display:none;\">\n",
              "\n",
              "  <svg xmlns=\"http://www.w3.org/2000/svg\" height=\"24px\" viewBox=\"0 -960 960 960\">\n",
              "    <path d=\"M120-120v-720h720v720H120Zm60-500h600v-160H180v160Zm220 220h160v-160H400v160Zm0 220h160v-160H400v160ZM180-400h160v-160H180v160Zm440 0h160v-160H620v160ZM180-180h160v-160H180v160Zm440 0h160v-160H620v160Z\"/>\n",
              "  </svg>\n",
              "    </button>\n",
              "\n",
              "  <style>\n",
              "    .colab-df-container {\n",
              "      display:flex;\n",
              "      gap: 12px;\n",
              "    }\n",
              "\n",
              "    .colab-df-convert {\n",
              "      background-color: #E8F0FE;\n",
              "      border: none;\n",
              "      border-radius: 50%;\n",
              "      cursor: pointer;\n",
              "      display: none;\n",
              "      fill: #1967D2;\n",
              "      height: 32px;\n",
              "      padding: 0 0 0 0;\n",
              "      width: 32px;\n",
              "    }\n",
              "\n",
              "    .colab-df-convert:hover {\n",
              "      background-color: #E2EBFA;\n",
              "      box-shadow: 0px 1px 2px rgba(60, 64, 67, 0.3), 0px 1px 3px 1px rgba(60, 64, 67, 0.15);\n",
              "      fill: #174EA6;\n",
              "    }\n",
              "\n",
              "    .colab-df-buttons div {\n",
              "      margin-bottom: 4px;\n",
              "    }\n",
              "\n",
              "    [theme=dark] .colab-df-convert {\n",
              "      background-color: #3B4455;\n",
              "      fill: #D2E3FC;\n",
              "    }\n",
              "\n",
              "    [theme=dark] .colab-df-convert:hover {\n",
              "      background-color: #434B5C;\n",
              "      box-shadow: 0px 1px 3px 1px rgba(0, 0, 0, 0.15);\n",
              "      filter: drop-shadow(0px 1px 2px rgba(0, 0, 0, 0.3));\n",
              "      fill: #FFFFFF;\n",
              "    }\n",
              "  </style>\n",
              "\n",
              "    <script>\n",
              "      const buttonEl =\n",
              "        document.querySelector('#df-c1ce08c9-89fb-4543-8b0e-f598fb2a3d10 button.colab-df-convert');\n",
              "      buttonEl.style.display =\n",
              "        google.colab.kernel.accessAllowed ? 'block' : 'none';\n",
              "\n",
              "      async function convertToInteractive(key) {\n",
              "        const element = document.querySelector('#df-c1ce08c9-89fb-4543-8b0e-f598fb2a3d10');\n",
              "        const dataTable =\n",
              "          await google.colab.kernel.invokeFunction('convertToInteractive',\n",
              "                                                    [key], {});\n",
              "        if (!dataTable) return;\n",
              "\n",
              "        const docLinkHtml = 'Like what you see? Visit the ' +\n",
              "          '<a target=\"_blank\" href=https://colab.research.google.com/notebooks/data_table.ipynb>data table notebook</a>'\n",
              "          + ' to learn more about interactive tables.';\n",
              "        element.innerHTML = '';\n",
              "        dataTable['output_type'] = 'display_data';\n",
              "        await google.colab.output.renderOutput(dataTable, element);\n",
              "        const docLink = document.createElement('div');\n",
              "        docLink.innerHTML = docLinkHtml;\n",
              "        element.appendChild(docLink);\n",
              "      }\n",
              "    </script>\n",
              "  </div>\n",
              "\n",
              "\n",
              "<div id=\"df-d7f38cb3-33a5-4a67-b774-38bff118465f\">\n",
              "  <button class=\"colab-df-quickchart\" onclick=\"quickchart('df-d7f38cb3-33a5-4a67-b774-38bff118465f')\"\n",
              "            title=\"Suggest charts\"\n",
              "            style=\"display:none;\">\n",
              "\n",
              "<svg xmlns=\"http://www.w3.org/2000/svg\" height=\"24px\"viewBox=\"0 0 24 24\"\n",
              "     width=\"24px\">\n",
              "    <g>\n",
              "        <path d=\"M19 3H5c-1.1 0-2 .9-2 2v14c0 1.1.9 2 2 2h14c1.1 0 2-.9 2-2V5c0-1.1-.9-2-2-2zM9 17H7v-7h2v7zm4 0h-2V7h2v10zm4 0h-2v-4h2v4z\"/>\n",
              "    </g>\n",
              "</svg>\n",
              "  </button>\n",
              "\n",
              "<style>\n",
              "  .colab-df-quickchart {\n",
              "      --bg-color: #E8F0FE;\n",
              "      --fill-color: #1967D2;\n",
              "      --hover-bg-color: #E2EBFA;\n",
              "      --hover-fill-color: #174EA6;\n",
              "      --disabled-fill-color: #AAA;\n",
              "      --disabled-bg-color: #DDD;\n",
              "  }\n",
              "\n",
              "  [theme=dark] .colab-df-quickchart {\n",
              "      --bg-color: #3B4455;\n",
              "      --fill-color: #D2E3FC;\n",
              "      --hover-bg-color: #434B5C;\n",
              "      --hover-fill-color: #FFFFFF;\n",
              "      --disabled-bg-color: #3B4455;\n",
              "      --disabled-fill-color: #666;\n",
              "  }\n",
              "\n",
              "  .colab-df-quickchart {\n",
              "    background-color: var(--bg-color);\n",
              "    border: none;\n",
              "    border-radius: 50%;\n",
              "    cursor: pointer;\n",
              "    display: none;\n",
              "    fill: var(--fill-color);\n",
              "    height: 32px;\n",
              "    padding: 0;\n",
              "    width: 32px;\n",
              "  }\n",
              "\n",
              "  .colab-df-quickchart:hover {\n",
              "    background-color: var(--hover-bg-color);\n",
              "    box-shadow: 0 1px 2px rgba(60, 64, 67, 0.3), 0 1px 3px 1px rgba(60, 64, 67, 0.15);\n",
              "    fill: var(--button-hover-fill-color);\n",
              "  }\n",
              "\n",
              "  .colab-df-quickchart-complete:disabled,\n",
              "  .colab-df-quickchart-complete:disabled:hover {\n",
              "    background-color: var(--disabled-bg-color);\n",
              "    fill: var(--disabled-fill-color);\n",
              "    box-shadow: none;\n",
              "  }\n",
              "\n",
              "  .colab-df-spinner {\n",
              "    border: 2px solid var(--fill-color);\n",
              "    border-color: transparent;\n",
              "    border-bottom-color: var(--fill-color);\n",
              "    animation:\n",
              "      spin 1s steps(1) infinite;\n",
              "  }\n",
              "\n",
              "  @keyframes spin {\n",
              "    0% {\n",
              "      border-color: transparent;\n",
              "      border-bottom-color: var(--fill-color);\n",
              "      border-left-color: var(--fill-color);\n",
              "    }\n",
              "    20% {\n",
              "      border-color: transparent;\n",
              "      border-left-color: var(--fill-color);\n",
              "      border-top-color: var(--fill-color);\n",
              "    }\n",
              "    30% {\n",
              "      border-color: transparent;\n",
              "      border-left-color: var(--fill-color);\n",
              "      border-top-color: var(--fill-color);\n",
              "      border-right-color: var(--fill-color);\n",
              "    }\n",
              "    40% {\n",
              "      border-color: transparent;\n",
              "      border-right-color: var(--fill-color);\n",
              "      border-top-color: var(--fill-color);\n",
              "    }\n",
              "    60% {\n",
              "      border-color: transparent;\n",
              "      border-right-color: var(--fill-color);\n",
              "    }\n",
              "    80% {\n",
              "      border-color: transparent;\n",
              "      border-right-color: var(--fill-color);\n",
              "      border-bottom-color: var(--fill-color);\n",
              "    }\n",
              "    90% {\n",
              "      border-color: transparent;\n",
              "      border-bottom-color: var(--fill-color);\n",
              "    }\n",
              "  }\n",
              "</style>\n",
              "\n",
              "  <script>\n",
              "    async function quickchart(key) {\n",
              "      const quickchartButtonEl =\n",
              "        document.querySelector('#' + key + ' button');\n",
              "      quickchartButtonEl.disabled = true;  // To prevent multiple clicks.\n",
              "      quickchartButtonEl.classList.add('colab-df-spinner');\n",
              "      try {\n",
              "        const charts = await google.colab.kernel.invokeFunction(\n",
              "            'suggestCharts', [key], {});\n",
              "      } catch (error) {\n",
              "        console.error('Error during call to suggestCharts:', error);\n",
              "      }\n",
              "      quickchartButtonEl.classList.remove('colab-df-spinner');\n",
              "      quickchartButtonEl.classList.add('colab-df-quickchart-complete');\n",
              "    }\n",
              "    (() => {\n",
              "      let quickchartButtonEl =\n",
              "        document.querySelector('#df-d7f38cb3-33a5-4a67-b774-38bff118465f button');\n",
              "      quickchartButtonEl.style.display =\n",
              "        google.colab.kernel.accessAllowed ? 'block' : 'none';\n",
              "    })();\n",
              "  </script>\n",
              "</div>\n",
              "\n",
              "    </div>\n",
              "  </div>\n"
            ],
            "application/vnd.google.colaboratory.intrinsic+json": {
              "type": "dataframe",
              "variable_name": "product_data",
              "summary": "{\n  \"name\": \"product_data\",\n  \"rows\": 121,\n  \"fields\": [\n    {\n      \"column\": \"product_id\",\n      \"properties\": {\n        \"dtype\": \"number\",\n        \"std\": 241,\n        \"min\": 168,\n        \"max\": 981,\n        \"num_unique_values\": 19,\n        \"samples\": [\n          582,\n          826,\n          406\n        ],\n        \"semantic_type\": \"\",\n        \"description\": \"\"\n      }\n    },\n    {\n      \"column\": \"product_name\",\n      \"properties\": {\n        \"dtype\": \"category\",\n        \"num_unique_values\": 19,\n        \"samples\": [\n          \"iPhone\",\n          \"ThinkPad Laptop\",\n          \"AA Batteries (4-pack)\"\n        ],\n        \"semantic_type\": \"\",\n        \"description\": \"\"\n      }\n    },\n    {\n      \"column\": \"product_price\",\n      \"properties\": {\n        \"dtype\": \"number\",\n        \"std\": 419.7279000716296,\n        \"min\": 2.89,\n        \"max\": 1800.0,\n        \"num_unique_values\": 85,\n        \"samples\": [\n          495.0,\n          635.0,\n          16.0\n        ],\n        \"semantic_type\": \"\",\n        \"description\": \"\"\n      }\n    },\n    {\n      \"column\": \"effective_start_date\",\n      \"properties\": {\n        \"dtype\": \"object\",\n        \"num_unique_values\": 12,\n        \"samples\": [\n          \"2019-02-01\",\n          \"2019-08-01\",\n          \"2019-10-01\"\n        ],\n        \"semantic_type\": \"\",\n        \"description\": \"\"\n      }\n    },\n    {\n      \"column\": \"effective_end_date\",\n      \"properties\": {\n        \"dtype\": \"category\",\n        \"num_unique_values\": 12,\n        \"samples\": [\n          \"2019-01-31\",\n          \"2019-07-31\",\n          \"2019-11-30\"\n        ],\n        \"semantic_type\": \"\",\n        \"description\": \"\"\n      }\n    },\n    {\n      \"column\": \"current_ind\",\n      \"properties\": {\n        \"dtype\": \"category\",\n        \"num_unique_values\": 2,\n        \"samples\": [\n          \"Y\",\n          \"N\"\n        ],\n        \"semantic_type\": \"\",\n        \"description\": \"\"\n      }\n    }\n  ]\n}"
            }
          },
          "metadata": {},
          "execution_count": 28
        }
      ],
      "source": [
        "#investigate the product data\n",
        "product_data.head()"
      ]
    },
    {
      "cell_type": "code",
      "source": [
        "# Group the data by product name and calculate the average price\n",
        "product_prices = product_data.groupby('product_name')['product_price'].mean().sort_values()\n",
        "\n",
        "# Create a bar plot\n",
        "plt.bar(product_prices.index, product_prices.values)\n",
        "plt.xlabel('Product Name')\n",
        "plt.ylabel('Average Price')\n",
        "plt.title('Average Price by Product Name')\n",
        "plt.xticks(rotation=90)  # Rotate x-axis labels for readability\n",
        "plt.tight_layout()  # Adjust layout to prevent labels from overlapping\n",
        "plt.show()\n"
      ],
      "metadata": {
        "colab": {
          "base_uri": "https://localhost:8080/",
          "height": 487
        },
        "id": "FEesuO7If3tV",
        "outputId": "54146068-cc60-4317-d45c-d43f3d6aec8f"
      },
      "id": "FEesuO7If3tV",
      "execution_count": null,
      "outputs": [
        {
          "output_type": "display_data",
          "data": {
            "text/plain": [
              "<Figure size 640x480 with 1 Axes>"
            ],
            "image/png": "[encoded data removed]"
          },
          "metadata": {}
        }
      ]
    },
    {
      "cell_type": "code",
      "source": [
        "# prompt: TOTAL NUMBER OF SALES TRANSACRTION ON THE 20TH JANUARY 2019\n",
        "\n",
        "# Filter the order data for transactions on January 20th, 2019\n",
        "transactions_on_jan_20 = order_data[order_data['order_date'] == '2019-01-20']\n",
        "\n",
        "# Count the number of transactions\n",
        "total_transactions = transactions_on_jan_20.shape[0]\n",
        "\n",
        "print(\"Total number of sales transactions on January 20th, 2019:\", total_transactions)\n"
      ],
      "metadata": {
        "colab": {
          "base_uri": "https://localhost:8080/"
        },
        "id": "93pj-pfJITtb",
        "outputId": "3234ea19-fa7d-462c-aaba-7dbf93186637"
      },
      "id": "93pj-pfJITtb",
      "execution_count": null,
      "outputs": [
        {
          "output_type": "stream",
          "name": "stdout",
          "text": [
            "Total number of sales transactions on January 20th, 2019: 347\n"
          ]
        }
      ]
    },
    {
      "cell_type": "markdown",
      "source": [
        "####Macbook pro followed by thinkpad are the highest priced products"
      ],
      "metadata": {
        "id": "3vCPi36jgFxq"
      },
      "id": "3vCPi36jgFxq"
    },
    {
      "cell_type": "code",
      "source": [
        "# Group the order data by product ID and sum the quantities\n",
        "product_sales = order_data.groupby('product_id')['product_quantity'].sum().sort_values(ascending=False)\n",
        "\n",
        "# Select the top 10 selling products\n",
        "top_10_products = product_sales.head(10)\n",
        "\n",
        "# Display the result in a table\n",
        "top_10_products_df = pd.DataFrame({'Product ID': top_10_products.index, 'Total Sales': top_10_products.values})\n",
        "display(top_10_products_df)\n"
      ],
      "metadata": {
        "colab": {
          "base_uri": "https://localhost:8080/",
          "height": 363
        },
        "id": "p2Zu-lcyflvb",
        "outputId": "8005a387-642b-4222-d1cc-76ace813f151"
      },
      "id": "p2Zu-lcyflvb",
      "execution_count": null,
      "outputs": [
        {
          "output_type": "display_data",
          "data": {
            "text/plain": [
              "   Product ID  Total Sales\n",
              "0         692        31017\n",
              "1         406        27635\n",
              "2         715        23975\n",
              "3         981        23217\n",
              "4         277        20557\n",
              "5         953        15661\n",
              "6         467        13457\n",
              "7         443         7550\n",
              "8         582         6849\n",
              "9         877         6244"
            ],
            "text/html": [
              "\n",
              "  <div id=\"df-75df7c15-b29f-41b8-9c5c-6007c8e78689\" class=\"colab-df-container\">\n",
              "    <div>\n",
              "<style scoped>\n",
              "    .dataframe tbody tr th:only-of-type {\n",
              "        vertical-align: middle;\n",
              "    }\n",
              "\n",
              "    .dataframe tbody tr th {\n",
              "        vertical-align: top;\n",
              "    }\n",
              "\n",
              "    .dataframe thead th {\n",
              "        text-align: right;\n",
              "    }\n",
              "</style>\n",
              "<table border=\"1\" class=\"dataframe\">\n",
              "  <thead>\n",
              "    <tr style=\"text-align: right;\">\n",
              "      <th></th>\n",
              "      <th>Product ID</th>\n",
              "      <th>Total Sales</th>\n",
              "    </tr>\n",
              "  </thead>\n",
              "  <tbody>\n",
              "    <tr>\n",
              "      <th>0</th>\n",
              "      <td>692</td>\n",
              "      <td>31017</td>\n",
              "    </tr>\n",
              "    <tr>\n",
              "      <th>1</th>\n",
              "      <td>406</td>\n",
              "      <td>27635</td>\n",
              "    </tr>\n",
              "    <tr>\n",
              "      <th>2</th>\n",
              "      <td>715</td>\n",
              "      <td>23975</td>\n",
              "    </tr>\n",
              "    <tr>\n",
              "      <th>3</th>\n",
              "      <td>981</td>\n",
              "      <td>23217</td>\n",
              "    </tr>\n",
              "    <tr>\n",
              "      <th>4</th>\n",
              "      <td>277</td>\n",
              "      <td>20557</td>\n",
              "    </tr>\n",
              "    <tr>\n",
              "      <th>5</th>\n",
              "      <td>953</td>\n",
              "      <td>15661</td>\n",
              "    </tr>\n",
              "    <tr>\n",
              "      <th>6</th>\n",
              "      <td>467</td>\n",
              "      <td>13457</td>\n",
              "    </tr>\n",
              "    <tr>\n",
              "      <th>7</th>\n",
              "      <td>443</td>\n",
              "      <td>7550</td>\n",
              "    </tr>\n",
              "    <tr>\n",
              "      <th>8</th>\n",
              "      <td>582</td>\n",
              "      <td>6849</td>\n",
              "    </tr>\n",
              "    <tr>\n",
              "      <th>9</th>\n",
              "      <td>877</td>\n",
              "      <td>6244</td>\n",
              "    </tr>\n",
              "  </tbody>\n",
              "</table>\n",
              "</div>\n",
              "    <div class=\"colab-df-buttons\">\n",
              "\n",
              "  <div class=\"colab-df-container\">\n",
              "    <button class=\"colab-df-convert\" onclick=\"convertToInteractive('df-75df7c15-b29f-41b8-9c5c-6007c8e78689')\"\n",
              "            title=\"Convert this dataframe to an interactive table.\"\n",
              "            style=\"display:none;\">\n",
              "\n",
              "  <svg xmlns=\"http://www.w3.org/2000/svg\" height=\"24px\" viewBox=\"0 -960 960 960\">\n",
              "    <path d=\"M120-120v-720h720v720H120Zm60-500h600v-160H180v160Zm220 220h160v-160H400v160Zm0 220h160v-160H400v160ZM180-400h160v-160H180v160Zm440 0h160v-160H620v160ZM180-180h160v-160H180v160Zm440 0h160v-160H620v160Z\"/>\n",
              "  </svg>\n",
              "    </button>\n",
              "\n",
              "  <style>\n",
              "    .colab-df-container {\n",
              "      display:flex;\n",
              "      gap: 12px;\n",
              "    }\n",
              "\n",
              "    .colab-df-convert {\n",
              "      background-color: #E8F0FE;\n",
              "      border: none;\n",
              "      border-radius: 50%;\n",
              "      cursor: pointer;\n",
              "      display: none;\n",
              "      fill: #1967D2;\n",
              "      height: 32px;\n",
              "      padding: 0 0 0 0;\n",
              "      width: 32px;\n",
              "    }\n",
              "\n",
              "    .colab-df-convert:hover {\n",
              "      background-color: #E2EBFA;\n",
              "      box-shadow: 0px 1px 2px rgba(60, 64, 67, 0.3), 0px 1px 3px 1px rgba(60, 64, 67, 0.15);\n",
              "      fill: #174EA6;\n",
              "    }\n",
              "\n",
              "    .colab-df-buttons div {\n",
              "      margin-bottom: 4px;\n",
              "    }\n",
              "\n",
              "    [theme=dark] .colab-df-convert {\n",
              "      background-color: #3B4455;\n",
              "      fill: #D2E3FC;\n",
              "    }\n",
              "\n",
              "    [theme=dark] .colab-df-convert:hover {\n",
              "      background-color: #434B5C;\n",
              "      box-shadow: 0px 1px 3px 1px rgba(0, 0, 0, 0.15);\n",
              "      filter: drop-shadow(0px 1px 2px rgba(0, 0, 0, 0.3));\n",
              "      fill: #FFFFFF;\n",
              "    }\n",
              "  </style>\n",
              "\n",
              "    <script>\n",
              "      const buttonEl =\n",
              "        document.querySelector('#df-75df7c15-b29f-41b8-9c5c-6007c8e78689 button.colab-df-convert');\n",
              "      buttonEl.style.display =\n",
              "        google.colab.kernel.accessAllowed ? 'block' : 'none';\n",
              "\n",
              "      async function convertToInteractive(key) {\n",
              "        const element = document.querySelector('#df-75df7c15-b29f-41b8-9c5c-6007c8e78689');\n",
              "        const dataTable =\n",
              "          await google.colab.kernel.invokeFunction('convertToInteractive',\n",
              "                                                    [key], {});\n",
              "        if (!dataTable) return;\n",
              "\n",
              "        const docLinkHtml = 'Like what you see? Visit the ' +\n",
              "          '<a target=\"_blank\" href=https://colab.research.google.com/notebooks/data_table.ipynb>data table notebook</a>'\n",
              "          + ' to learn more about interactive tables.';\n",
              "        element.innerHTML = '';\n",
              "        dataTable['output_type'] = 'display_data';\n",
              "        await google.colab.output.renderOutput(dataTable, element);\n",
              "        const docLink = document.createElement('div');\n",
              "        docLink.innerHTML = docLinkHtml;\n",
              "        element.appendChild(docLink);\n",
              "      }\n",
              "    </script>\n",
              "  </div>\n",
              "\n",
              "\n",
              "<div id=\"df-994f7c45-41ec-4542-9645-727cd5b231c7\">\n",
              "  <button class=\"colab-df-quickchart\" onclick=\"quickchart('df-994f7c45-41ec-4542-9645-727cd5b231c7')\"\n",
              "            title=\"Suggest charts\"\n",
              "            style=\"display:none;\">\n",
              "\n",
              "<svg xmlns=\"http://www.w3.org/2000/svg\" height=\"24px\"viewBox=\"0 0 24 24\"\n",
              "     width=\"24px\">\n",
              "    <g>\n",
              "        <path d=\"M19 3H5c-1.1 0-2 .9-2 2v14c0 1.1.9 2 2 2h14c1.1 0 2-.9 2-2V5c0-1.1-.9-2-2-2zM9 17H7v-7h2v7zm4 0h-2V7h2v10zm4 0h-2v-4h2v4z\"/>\n",
              "    </g>\n",
              "</svg>\n",
              "  </button>\n",
              "\n",
              "<style>\n",
              "  .colab-df-quickchart {\n",
              "      --bg-color: #E8F0FE;\n",
              "      --fill-color: #1967D2;\n",
              "      --hover-bg-color: #E2EBFA;\n",
              "      --hover-fill-color: #174EA6;\n",
              "      --disabled-fill-color: #AAA;\n",
              "      --disabled-bg-color: #DDD;\n",
              "  }\n",
              "\n",
              "  [theme=dark] .colab-df-quickchart {\n",
              "      --bg-color: #3B4455;\n",
              "      --fill-color: #D2E3FC;\n",
              "      --hover-bg-color: #434B5C;\n",
              "      --hover-fill-color: #FFFFFF;\n",
              "      --disabled-bg-color: #3B4455;\n",
              "      --disabled-fill-color: #666;\n",
              "  }\n",
              "\n",
              "  .colab-df-quickchart {\n",
              "    background-color: var(--bg-color);\n",
              "    border: none;\n",
              "    border-radius: 50%;\n",
              "    cursor: pointer;\n",
              "    display: none;\n",
              "    fill: var(--fill-color);\n",
              "    height: 32px;\n",
              "    padding: 0;\n",
              "    width: 32px;\n",
              "  }\n",
              "\n",
              "  .colab-df-quickchart:hover {\n",
              "    background-color: var(--hover-bg-color);\n",
              "    box-shadow: 0 1px 2px rgba(60, 64, 67, 0.3), 0 1px 3px 1px rgba(60, 64, 67, 0.15);\n",
              "    fill: var(--button-hover-fill-color);\n",
              "  }\n",
              "\n",
              "  .colab-df-quickchart-complete:disabled,\n",
              "  .colab-df-quickchart-complete:disabled:hover {\n",
              "    background-color: var(--disabled-bg-color);\n",
              "    fill: var(--disabled-fill-color);\n",
              "    box-shadow: none;\n",
              "  }\n",
              "\n",
              "  .colab-df-spinner {\n",
              "    border: 2px solid var(--fill-color);\n",
              "    border-color: transparent;\n",
              "    border-bottom-color: var(--fill-color);\n",
              "    animation:\n",
              "      spin 1s steps(1) infinite;\n",
              "  }\n",
              "\n",
              "  @keyframes spin {\n",
              "    0% {\n",
              "      border-color: transparent;\n",
              "      border-bottom-color: var(--fill-color);\n",
              "      border-left-color: var(--fill-color);\n",
              "    }\n",
              "    20% {\n",
              "      border-color: transparent;\n",
              "      border-left-color: var(--fill-color);\n",
              "      border-top-color: var(--fill-color);\n",
              "    }\n",
              "    30% {\n",
              "      border-color: transparent;\n",
              "      border-left-color: var(--fill-color);\n",
              "      border-top-color: var(--fill-color);\n",
              "      border-right-color: var(--fill-color);\n",
              "    }\n",
              "    40% {\n",
              "      border-color: transparent;\n",
              "      border-right-color: var(--fill-color);\n",
              "      border-top-color: var(--fill-color);\n",
              "    }\n",
              "    60% {\n",
              "      border-color: transparent;\n",
              "      border-right-color: var(--fill-color);\n",
              "    }\n",
              "    80% {\n",
              "      border-color: transparent;\n",
              "      border-right-color: var(--fill-color);\n",
              "      border-bottom-color: var(--fill-color);\n",
              "    }\n",
              "    90% {\n",
              "      border-color: transparent;\n",
              "      border-bottom-color: var(--fill-color);\n",
              "    }\n",
              "  }\n",
              "</style>\n",
              "\n",
              "  <script>\n",
              "    async function quickchart(key) {\n",
              "      const quickchartButtonEl =\n",
              "        document.querySelector('#' + key + ' button');\n",
              "      quickchartButtonEl.disabled = true;  // To prevent multiple clicks.\n",
              "      quickchartButtonEl.classList.add('colab-df-spinner');\n",
              "      try {\n",
              "        const charts = await google.colab.kernel.invokeFunction(\n",
              "            'suggestCharts', [key], {});\n",
              "      } catch (error) {\n",
              "        console.error('Error during call to suggestCharts:', error);\n",
              "      }\n",
              "      quickchartButtonEl.classList.remove('colab-df-spinner');\n",
              "      quickchartButtonEl.classList.add('colab-df-quickchart-complete');\n",
              "    }\n",
              "    (() => {\n",
              "      let quickchartButtonEl =\n",
              "        document.querySelector('#df-994f7c45-41ec-4542-9645-727cd5b231c7 button');\n",
              "      quickchartButtonEl.style.display =\n",
              "        google.colab.kernel.accessAllowed ? 'block' : 'none';\n",
              "    })();\n",
              "  </script>\n",
              "</div>\n",
              "\n",
              "  <div id=\"id_3ca6d57f-1295-49cc-92b1-9c17ab77c926\">\n",
              "    <style>\n",
              "      .colab-df-generate {\n",
              "        background-color: #E8F0FE;\n",
              "        border: none;\n",
              "        border-radius: 50%;\n",
              "        cursor: pointer;\n",
              "        display: none;\n",
              "        fill: #1967D2;\n",
              "        height: 32px;\n",
              "        padding: 0 0 0 0;\n",
              "        width: 32px;\n",
              "      }\n",
              "\n",
              "      .colab-df-generate:hover {\n",
              "        background-color: #E2EBFA;\n",
              "        box-shadow: 0px 1px 2px rgba(60, 64, 67, 0.3), 0px 1px 3px 1px rgba(60, 64, 67, 0.15);\n",
              "        fill: #174EA6;\n",
              "      }\n",
              "\n",
              "      [theme=dark] .colab-df-generate {\n",
              "        background-color: #3B4455;\n",
              "        fill: #D2E3FC;\n",
              "      }\n",
              "\n",
              "      [theme=dark] .colab-df-generate:hover {\n",
              "        background-color: #434B5C;\n",
              "        box-shadow: 0px 1px 3px 1px rgba(0, 0, 0, 0.15);\n",
              "        filter: drop-shadow(0px 1px 2px rgba(0, 0, 0, 0.3));\n",
              "        fill: #FFFFFF;\n",
              "      }\n",
              "    </style>\n",
              "    <button class=\"colab-df-generate\" onclick=\"generateWithVariable('top_10_products_df')\"\n",
              "            title=\"Generate code using this dataframe.\"\n",
              "            style=\"display:none;\">\n",
              "\n",
              "  <svg xmlns=\"http://www.w3.org/2000/svg\" height=\"24px\"viewBox=\"0 0 24 24\"\n",
              "       width=\"24px\">\n",
              "    <path d=\"M7,19H8.4L18.45,9,17,7.55,7,17.6ZM5,21V16.75L18.45,3.32a2,2,0,0,1,2.83,0l1.4,1.43a1.91,1.91,0,0,1,.58,1.4,1.91,1.91,0,0,1-.58,1.4L9.25,21ZM18.45,9,17,7.55Zm-12,3A5.31,5.31,0,0,0,4.9,8.1,5.31,5.31,0,0,0,1,6.5,5.31,5.31,0,0,0,4.9,4.9,5.31,5.31,0,0,0,6.5,1,5.31,5.31,0,0,0,8.1,4.9,5.31,5.31,0,0,0,12,6.5,5.46,5.46,0,0,0,6.5,12Z\"/>\n",
              "  </svg>\n",
              "    </button>\n",
              "    <script>\n",
              "      (() => {\n",
              "      const buttonEl =\n",
              "        document.querySelector('#id_3ca6d57f-1295-49cc-92b1-9c17ab77c926 button.colab-df-generate');\n",
              "      buttonEl.style.display =\n",
              "        google.colab.kernel.accessAllowed ? 'block' : 'none';\n",
              "\n",
              "      buttonEl.onclick = () => {\n",
              "        google.colab.notebook.generateWithVariable('top_10_products_df');\n",
              "      }\n",
              "      })();\n",
              "    </script>\n",
              "  </div>\n",
              "\n",
              "    </div>\n",
              "  </div>\n"
            ],
            "application/vnd.google.colaboratory.intrinsic+json": {
              "type": "dataframe",
              "variable_name": "top_10_products_df",
              "summary": "{\n  \"name\": \"top_10_products_df\",\n  \"rows\": 10,\n  \"fields\": [\n    {\n      \"column\": \"Product ID\",\n      \"properties\": {\n        \"dtype\": \"number\",\n        \"std\": 244,\n        \"min\": 277,\n        \"max\": 981,\n        \"num_unique_values\": 10,\n        \"samples\": [\n          582,\n          406,\n          953\n        ],\n        \"semantic_type\": \"\",\n        \"description\": \"\"\n      }\n    },\n    {\n      \"column\": \"Total Sales\",\n      \"properties\": {\n        \"dtype\": \"number\",\n        \"std\": 8994,\n        \"min\": 6244,\n        \"max\": 31017,\n        \"num_unique_values\": 10,\n        \"samples\": [\n          6849,\n          27635,\n          15661\n        ],\n        \"semantic_type\": \"\",\n        \"description\": \"\"\n      }\n    }\n  ]\n}"
            }
          },
          "metadata": {}
        }
      ]
    },
    {
      "cell_type": "markdown",
      "source": [
        "#Connect Datframe to database"
      ],
      "metadata": {
        "id": "FPx3djwwRD2z"
      },
      "id": "FPx3djwwRD2z"
    },
    {
      "cell_type": "code",
      "source": [
        "import sqlite3\n",
        "\n",
        "# Create or connect to the database file (replace 'my_database.db' with your desired name)\n",
        "conn = sqlite3.connect('my_database.db')"
      ],
      "metadata": {
        "id": "yW34OAE-ar3x"
      },
      "id": "yW34OAE-ar3x",
      "execution_count": null,
      "outputs": []
    },
    {
      "cell_type": "code",
      "source": [
        "#Create three tabes in the my_database\n",
        "cust_data.to_sql('customers', conn, if_exists='replace',index=False)  # Append data to existing table\n",
        "product_data.to_sql('products', conn, if_exists='replace', index=False)\n",
        "order_data.to_sql('orders', conn, if_exists='replace', index=False)\n",
        "\n",
        "conn.close()\n"
      ],
      "metadata": {
        "id": "gvdOGKOIa2b7"
      },
      "id": "gvdOGKOIa2b7",
      "execution_count": null,
      "outputs": []
    },
    {
      "cell_type": "markdown",
      "source": [
        "#Testing a few SQL codes"
      ],
      "metadata": {
        "id": "0aLlrzYOnOPS"
      },
      "id": "0aLlrzYOnOPS"
    },
    {
      "cell_type": "code",
      "source": [
        "#Define a function to read the database using SQL\n",
        "def read_sql_query(sql, db):\n",
        "  conn = sqlite3.connect(db)\n",
        "  cur = conn.cursor()\n",
        "  cur.execute(sql)\n",
        "  rows = cur.fetchall()\n",
        "  for row in rows:\n",
        "    print(row)\n",
        "  conn.close()\n",
        "\n"
      ],
      "metadata": {
        "id": "S1FbZtcof6tA"
      },
      "id": "S1FbZtcof6tA",
      "execution_count": null,
      "outputs": []
    },
    {
      "cell_type": "code",
      "source": [
        "#check the total iphone records\n",
        "read_sql_query(\"SELECT * FROM orders WHERE product_id = 582 AND order_date = '2019-01-24' LIMIT 60\",\"my_database.db\")"
      ],
      "metadata": {
        "id": "qgoCxr8cLYSU",
        "colab": {
          "base_uri": "https://localhost:8080/"
        },
        "outputId": "8197a60f-1529-4113-b326-6a94348054d0"
      },
      "id": "qgoCxr8cLYSU",
      "execution_count": null,
      "outputs": [
        {
          "output_type": "stream",
          "name": "stdout",
          "text": [
            "(147502, 582, 218385, 1, '2019-01-24')\n",
            "(149914, 582, 161839, 1, '2019-01-24')\n",
            "(145059, 582, 203984, 1, '2019-01-24')\n",
            "(143998, 582, 100923, 1, '2019-01-24')\n",
            "(150260, 582, 201340, 1, '2019-01-24')\n",
            "(144877, 582, 183043, 1, '2019-01-24')\n",
            "(146701, 582, 146678, 1, '2019-01-24')\n",
            "(142058, 582, 136355, 1, '2019-01-24')\n",
            "(141972, 582, 197187, 1, '2019-01-24')\n",
            "(145964, 582, 133415, 1, '2019-01-24')\n",
            "(148904, 582, 230302, 1, '2019-01-24')\n",
            "(143040, 582, 131536, 1, '2019-01-24')\n"
          ]
        }
      ]
    },
    {
      "cell_type": "code",
      "source": [
        "# Question1: Get sql query to find the price of LG dryer\n",
        "\n",
        "\n",
        "read_sql_query(\"SELECT DISTINCT product_price FROM products WHERE product_name = 'LG Dryer'\", \"my_database.db\")\n",
        "\n"
      ],
      "metadata": {
        "id": "PDcpcj9V95YG",
        "colab": {
          "base_uri": "https://localhost:8080/"
        },
        "outputId": "29a2b773-1226-468f-c2b5-bc975ec8d05d"
      },
      "id": "PDcpcj9V95YG",
      "execution_count": null,
      "outputs": [
        {
          "output_type": "stream",
          "name": "stdout",
          "text": [
            "(610.0,)\n",
            "(590.0,)\n",
            "(600.0,)\n",
            "(630.0,)\n",
            "(550.0,)\n"
          ]
        }
      ]
    },
    {
      "cell_type": "code",
      "source": [
        "# Question2: What are the table names?\n",
        "\n",
        "\n",
        "read_sql_query(\"SELECT name FROM sqlite_master WHERE type='table'\", \"my_database.db\")\n"
      ],
      "metadata": {
        "id": "4UgRhdOjAJ3q",
        "colab": {
          "base_uri": "https://localhost:8080/"
        },
        "outputId": "dc3ffbf3-d4cf-48df-b6fd-532d224487a1"
      },
      "id": "4UgRhdOjAJ3q",
      "execution_count": null,
      "outputs": [
        {
          "output_type": "stream",
          "name": "stdout",
          "text": [
            "('customers',)\n",
            "('products',)\n",
            "('orders',)\n"
          ]
        }
      ]
    },
    {
      "cell_type": "code",
      "source": [
        "# Question 3: select top 3 raws in the customer table\n",
        "read_sql_query(\"SELECT * FROM customers LIMIT 3\", \"my_database.db\")"
      ],
      "metadata": {
        "id": "IFFR3i6BgY29",
        "colab": {
          "base_uri": "https://localhost:8080/"
        },
        "outputId": "79059cac-fb61-4650-fbd2-bc704566303d"
      },
      "id": "IFFR3i6BgY29",
      "execution_count": null,
      "outputs": [
        {
          "output_type": "stream",
          "name": "stdout",
          "text": [
            "(185057, '335 Meadow St, Los Angeles, CA 90001', 15, '1900-01-01', '9999-12-31', 'Y')\n",
            "(225569, '753 Adams St, Portland, ME 04101', 15, '1900-01-01', '9999-12-31', 'Y')\n",
            "(134924, '295 Dogwood St, New York City, NY 10001', 15, '1900-01-01', '9999-12-31', 'Y')\n"
          ]
        }
      ]
    },
    {
      "cell_type": "code",
      "source": [
        "# Question 4: select top selling products by quantity\n",
        "\n",
        "read_sql_query(\"SELECT product_name, SUM(product_quantity) as total_quantity FROM orders JOIN products ON orders.product_id = products.product_id GROUP BY product_name ORDER BY total_quantity DESC LIMIT 5\", \"my_database.db\")"
      ],
      "metadata": {
        "id": "ytSB_kq3gjcU",
        "colab": {
          "base_uri": "https://localhost:8080/"
        },
        "outputId": "5ec8e6c1-095b-45df-c1de-d9ed17d97ae9"
      },
      "id": "ytSB_kq3gjcU",
      "execution_count": null,
      "outputs": [
        {
          "output_type": "stream",
          "name": "stdout",
          "text": [
            "('AAA Batteries (4-pack)', 248136)\n",
            "('USB-C Charging Cable', 239750)\n",
            "('AA Batteries (4-pack)', 221080)\n",
            "('Lightning Charging Cable', 208953)\n",
            "('Wired Headphones', 143899)\n"
          ]
        }
      ]
    },
    {
      "cell_type": "code",
      "source": [
        "# How many times Iphones were sold on the 20th January\n",
        "read_sql_query(\"SELECT SUM(product_quantity) as total_quantity FROM orders WHERE product_id = 582 AND order_date = '2019-01-20'\", \"my_database.db\")"
      ],
      "metadata": {
        "id": "ydK8zZcmvU-X",
        "colab": {
          "base_uri": "https://localhost:8080/"
        },
        "outputId": "a3ea98d6-d276-4b3b-e3cb-36d6a9451caa"
      },
      "id": "ydK8zZcmvU-X",
      "execution_count": null,
      "outputs": [
        {
          "output_type": "stream",
          "name": "stdout",
          "text": [
            "(10,)\n"
          ]
        }
      ]
    },
    {
      "cell_type": "code",
      "source": [
        "#average age of a customer who buy Google phone\n",
        "read_sql_query(\"SELECT AVG(customers.cust_age) FROM customers JOIN orders ON customers.cust_id = orders.cust_id JOIN products ON orders.product_id = products.product_id WHERE products.product_name = 'Google Phone'\", \"my_database.db\")"
      ],
      "metadata": {
        "id": "fhZ6f9U-PqYA",
        "colab": {
          "base_uri": "https://localhost:8080/"
        },
        "outputId": "c8fb88a0-8b42-4ba2-87a2-c9f5b117be8d"
      },
      "id": "fhZ6f9U-PqYA",
      "execution_count": null,
      "outputs": [
        {
          "output_type": "stream",
          "name": "stdout",
          "text": [
            "(51.3847963800905,)\n"
          ]
        }
      ]
    },
    {
      "cell_type": "code",
      "source": [
        "# Total revenue on the 24th January\n",
        "read_sql_query(\"SELECT SUM(products.product_price * orders.product_quantity) AS total_sales_revenue FROM products JOIN orders ON products.product_id = orders.product_id WHERE orders.order_date = '2019-01-24'\", \"my_database.db\")"
      ],
      "metadata": {
        "id": "7HJrZv_VS04K",
        "colab": {
          "base_uri": "https://localhost:8080/"
        },
        "outputId": "00ec2515-31af-4522-fce0-2209815beee9"
      },
      "id": "7HJrZv_VS04K",
      "execution_count": null,
      "outputs": [
        {
          "output_type": "stream",
          "name": "stdout",
          "text": [
            "(332753.56999999244,)\n"
          ]
        }
      ]
    },
    {
      "cell_type": "code",
      "source": [
        "# Total revenue on the 24th January debug\n",
        "read_sql_query(\"SELECT products.product_id, products.product_price, orders.order_id, orders.product_quantity FROM products JOIN orders ON products.product_id = orders.product_id LIMIT 20\", \"my_database.db\")"
      ],
      "metadata": {
        "id": "S1KDN4dFjXsX",
        "colab": {
          "base_uri": "https://localhost:8080/"
        },
        "outputId": "730fd4c5-23c9-403c-9cb2-2ed039353c68"
      },
      "id": "S1KDN4dFjXsX",
      "execution_count": null,
      "outputs": [
        {
          "output_type": "stream",
          "name": "stdout",
          "text": [
            "(582, 635.0, 141234, 1)\n",
            "(582, 635.0, 141336, 1)\n",
            "(582, 635.0, 141394, 1)\n",
            "(582, 635.0, 141437, 1)\n",
            "(582, 635.0, 141457, 1)\n",
            "(582, 635.0, 141458, 1)\n",
            "(582, 635.0, 141460, 1)\n",
            "(582, 635.0, 141472, 1)\n",
            "(582, 635.0, 141473, 1)\n",
            "(582, 635.0, 141476, 1)\n",
            "(582, 635.0, 141504, 1)\n",
            "(582, 635.0, 141517, 1)\n",
            "(582, 635.0, 141520, 1)\n",
            "(582, 635.0, 141550, 1)\n",
            "(582, 635.0, 141582, 1)\n",
            "(582, 635.0, 141632, 1)\n",
            "(582, 635.0, 141663, 1)\n",
            "(582, 635.0, 141670, 1)\n",
            "(582, 635.0, 141702, 1)\n",
            "(582, 635.0, 141703, 1)\n"
          ]
        }
      ]
    },
    {
      "cell_type": "code",
      "source": [
        "#how many customers ordered products on the 24th January 2019\n",
        "read_sql_query(\"SELECT Count(*) FROM orders WHERE order_date = '2019-01-24' LIMIT 3\", \"my_database.db\")"
      ],
      "metadata": {
        "id": "tLmZKjmIUQja",
        "colab": {
          "base_uri": "https://localhost:8080/"
        },
        "outputId": "839d2639-8528-473e-9383-8939f63a3a75"
      },
      "id": "tLmZKjmIUQja",
      "execution_count": null,
      "outputs": [
        {
          "output_type": "stream",
          "name": "stdout",
          "text": [
            "(348,)\n"
          ]
        }
      ]
    },
    {
      "cell_type": "code",
      "source": [
        "#How many customers are age of 15?\n",
        "read_sql_query(\"SELECT Count(*) FROM customers WHERE cust_age = 15 LIMIT 3\", \"my_database.db\")"
      ],
      "metadata": {
        "id": "z-NlkQ1AVdUE",
        "colab": {
          "base_uri": "https://localhost:8080/"
        },
        "outputId": "b805ca0e-a131-4b22-ccde-7b50fcc49329"
      },
      "id": "z-NlkQ1AVdUE",
      "execution_count": null,
      "outputs": [
        {
          "output_type": "stream",
          "name": "stdout",
          "text": [
            "(2086,)\n"
          ]
        }
      ]
    },
    {
      "cell_type": "code",
      "source": [
        "#How unique customers are in the database\n",
        "read_sql_query(\"SELECT DISTINCT COUNT(cust_id) FROM customers LIMIT 3\", \"my_database.db\")"
      ],
      "metadata": {
        "id": "YajlDH1ZV6Yk",
        "colab": {
          "base_uri": "https://localhost:8080/"
        },
        "outputId": "9dccb086-e596-430a-a46b-b40a74aecbcc"
      },
      "id": "YajlDH1ZV6Yk",
      "execution_count": null,
      "outputs": [
        {
          "output_type": "stream",
          "name": "stdout",
          "text": [
            "(140787,)\n"
          ]
        }
      ]
    },
    {
      "cell_type": "code",
      "source": [
        "#Question 11, total sales on the 20th Jan 2019\n",
        "read_sql_query(\"SELECT SUM(products.product_price * orders.product_quantity) as total_sales FROM orders JOIN products ON orders.product_id = products.product_id WHERE orders.order_date = '2019-01-20'\", \"my_database.db\")"
      ],
      "metadata": {
        "colab": {
          "base_uri": "https://localhost:8080/"
        },
        "id": "0ACEeeUBD2zT",
        "outputId": "47af8f6a-40b3-4be9-e93a-25303be5cee5"
      },
      "id": "0ACEeeUBD2zT",
      "execution_count": null,
      "outputs": [
        {
          "output_type": "stream",
          "name": "stdout",
          "text": [
            "(412353.9899999932,)\n"
          ]
        }
      ]
    },
    {
      "cell_type": "code",
      "source": [
        "#Question 11, total sales on the 20th Jan 2019\n",
        "read_sql_query(\"SELECT SUM(o.product_quantity) AS total_sales FROM products p JOIN orders o ON p.product_id = o.product_id WHERE o.order_date = '2019-01-20'\", \"my_database.db\")"
      ],
      "metadata": {
        "colab": {
          "base_uri": "https://localhost:8080/"
        },
        "outputId": "400d2468-8c05-4dce-ef88-2b1a1be04e85",
        "id": "T5ebYXZDEpdW"
      },
      "execution_count": null,
      "outputs": [
        {
          "output_type": "stream",
          "name": "stdout",
          "text": [
            "(2806,)\n"
          ]
        }
      ],
      "id": "T5ebYXZDEpdW"
    },
    {
      "cell_type": "code",
      "source": [
        "read_sql_query(\"SELECT o.order_id, p.product_name, o.product_quantity, o.order_date FROM orders o JOIN products p ON o.product_id = p.product_id WHERE o.order_date = '2019-01-20' LIMIT 25 \", \"my_database.db\")"
      ],
      "metadata": {
        "colab": {
          "base_uri": "https://localhost:8080/"
        },
        "id": "w8LNPmHrG1t_",
        "outputId": "76e24d35-d8b7-4596-e9d0-23d4d5be2f44"
      },
      "id": "w8LNPmHrG1t_",
      "execution_count": null,
      "outputs": [
        {
          "output_type": "stream",
          "name": "stdout",
          "text": [
            "(145644, 'Wired Headphones', 1, '2019-01-20')\n",
            "(145644, 'Wired Headphones', 1, '2019-01-20')\n",
            "(145644, 'Wired Headphones', 1, '2019-01-20')\n",
            "(145644, 'Wired Headphones', 1, '2019-01-20')\n",
            "(145644, 'Wired Headphones', 1, '2019-01-20')\n",
            "(145644, 'Wired Headphones', 1, '2019-01-20')\n",
            "(145644, 'Wired Headphones', 1, '2019-01-20')\n",
            "(142272, 'Google Phone', 1, '2019-01-20')\n",
            "(142272, 'Google Phone', 1, '2019-01-20')\n",
            "(142272, 'Google Phone', 1, '2019-01-20')\n",
            "(142272, 'Google Phone', 1, '2019-01-20')\n",
            "(142272, 'Google Phone', 1, '2019-01-20')\n",
            "(142272, 'Google Phone', 1, '2019-01-20')\n",
            "(147955, 'AAA Batteries (4-pack)', 1, '2019-01-20')\n",
            "(147955, 'AAA Batteries (4-pack)', 1, '2019-01-20')\n",
            "(147955, 'AAA Batteries (4-pack)', 1, '2019-01-20')\n",
            "(147955, 'AAA Batteries (4-pack)', 1, '2019-01-20')\n",
            "(147955, 'AAA Batteries (4-pack)', 1, '2019-01-20')\n",
            "(147955, 'AAA Batteries (4-pack)', 1, '2019-01-20')\n",
            "(147955, 'AAA Batteries (4-pack)', 1, '2019-01-20')\n",
            "(147955, 'AAA Batteries (4-pack)', 1, '2019-01-20')\n",
            "(148706, '27in FHD Monitor', 1, '2019-01-20')\n",
            "(148706, '27in FHD Monitor', 1, '2019-01-20')\n",
            "(148706, '27in FHD Monitor', 1, '2019-01-20')\n",
            "(148706, '27in FHD Monitor', 1, '2019-01-20')\n"
          ]
        }
      ]
    },
    {
      "cell_type": "code",
      "source": [
        "read_sql_query(\"SELECT COUNT(*) AS total_orders FROM orders\", \"my_database.db\")"
      ],
      "metadata": {
        "colab": {
          "base_uri": "https://localhost:8080/"
        },
        "id": "bysC7Ex7HpCn",
        "outputId": "83a79793-aae9-41e7-cb84-eae5799a7337"
      },
      "id": "bysC7Ex7HpCn",
      "execution_count": null,
      "outputs": [
        {
          "output_type": "stream",
          "name": "stdout",
          "text": [
            "(185950,)\n"
          ]
        }
      ]
    },
    {
      "cell_type": "code",
      "source": [
        "#Question 12 how many customer bought macbook on the first of january\n",
        "\n",
        "read_sql_query(\"SELECT COUNT(DISTINCT orders.cust_id) FROM orders JOIN products ON orders.product_id = products.product_id WHERE products.product_name = 'Macbook Pro Laptop' AND order_date = '2019-10-01'\", \"my_database.db\")"
      ],
      "metadata": {
        "id": "EUlFqxhWoGV2",
        "colab": {
          "base_uri": "https://localhost:8080/"
        },
        "outputId": "5d4d3e1b-e803-44ed-bc42-442dd20f43e1"
      },
      "id": "EUlFqxhWoGV2",
      "execution_count": null,
      "outputs": [
        {
          "output_type": "stream",
          "name": "stdout",
          "text": [
            "(22,)\n"
          ]
        }
      ]
    },
    {
      "cell_type": "markdown",
      "source": [
        "####I did not use the hugging face environment as it was not compatible with lage size LLMs"
      ],
      "metadata": {
        "id": "PMNZJtIwT8XO"
      },
      "id": "PMNZJtIwT8XO"
    },
    {
      "cell_type": "markdown",
      "source": [
        "________________________________________________________________________________"
      ],
      "metadata": {
        "id": "9xGNGP_DUJoO"
      },
      "id": "9xGNGP_DUJoO"
    },
    {
      "cell_type": "markdown",
      "source": [
        "##Connect Openrouter.ai LLMs\n",
        "\n",
        "The rest of the note book uses Open Router environment to connect the llms.  I used my personal account to connect to this environment.  Please do not use this key anywhere else.\n"
      ],
      "metadata": {
        "id": "MnDDFLyRK5HV"
      },
      "id": "MnDDFLyRK5HV"
    },
    {
      "cell_type": "code",
      "source": [
        "#Creat The environment and open API key\n",
        "#kept it blank\n",
        "\n"
      ],
      "metadata": {
        "id": "5srerNVGLhc9"
      },
      "id": "5srerNVGLhc9",
      "execution_count": null,
      "outputs": []
    },
    {
      "cell_type": "code",
      "source": [
        "#Define the LLM (after several LLM testing I chose to use Open chat)\n",
        "llm = ChatOpenRouter(\n",
        "    model_name=\"openchat/openchat-7b\",\n",
        "    max_tokens=100, temperature = 0\n",
        ")\n",
        "\n",
        "# Connect to your SQLite database using SQLAlchemy\n",
        "db_url = 'sqlite:///my_database.db'\n",
        "engine = sqlalchemy.create_engine(db_url)\n",
        "\n",
        "# Wrap the SQLAlchemy engine in a SQLDatabase object\n",
        "db = SQLDatabase(engine)\n",
        "\n",
        "# Pass the SQLDatabase object\n",
        "db_agent = SQLDatabaseChain.from_llm(llm, db, verbose=True)"
      ],
      "metadata": {
        "id": "f4s7eFxaQ0Nt"
      },
      "id": "f4s7eFxaQ0Nt",
      "execution_count": null,
      "outputs": []
    },
    {
      "cell_type": "code",
      "source": [
        "#Define the list of questions\n",
        "Question_1 = \"What are the prices of LG Dryer?\"\n",
        "Question_2 = \"what are the table names?\"\n",
        "Question_3 = \"what are the first three items of the customer table?\"\n",
        "Question_4 = \"what are the highest selling product names?\"\n",
        "Question_5 = \"what are top highest average price products?\"\n",
        "Question_6 = \"What is the iphones sales on the 20th of January 2019?\"\n",
        "Question_7 = \"What is the average age of the customers who bought Google Phone\"\n",
        "Question_8 = \"What is the total sales on the 2019-01-24\"\n",
        "Question_8_1 = \"What is the all products revenue on the 2019-01-24\"\n",
        "Question_9 = \"How many customers are age of 15\"\n",
        "Question_10 = \"How many unique customer IDs are in the database\"\n",
        "\n",
        "#More chatty questions\n",
        "Question_11 = \"Hey all my analysts are away, I want to find out the sales for 20th january 2019, is it possible to find that for me?\"\n",
        "Question_11_1 = \"Hey all my analysts are away, I want to find out the product sales values for 20th january 2019, is it possible to find that for me?\"\n",
        "Question_12 = \"Can I find out know how many customers bought Macbook Pro Laptop on the 1st october 2019\"\n",
        "Question_13 = \"Can I find out know how many customers bought 422 product_id on the 1st october 2019\""
      ],
      "metadata": {
        "id": "qEJdqP65uDE7"
      },
      "id": "qEJdqP65uDE7",
      "execution_count": null,
      "outputs": []
    },
    {
      "cell_type": "code",
      "source": [
        "#from google.colab import drive\n",
        "#drive.mount('/content/drive')"
      ],
      "metadata": {
        "id": "e2zc2Z8CqknZ"
      },
      "id": "e2zc2Z8CqknZ",
      "execution_count": null,
      "outputs": []
    },
    {
      "cell_type": "markdown",
      "source": [
        "#**Testing the LLM Input/ Output**"
      ],
      "metadata": {
        "id": "59-26hL4A2Tb"
      },
      "id": "59-26hL4A2Tb"
    },
    {
      "cell_type": "code",
      "source": [
        "#define my input\n",
        "Input = {\"question\": Question_12}"
      ],
      "metadata": {
        "id": "81lu5PoFvhaU"
      },
      "id": "81lu5PoFvhaU",
      "execution_count": null,
      "outputs": []
    },
    {
      "cell_type": "code",
      "source": [
        "#Generate the SQL query\n",
        "\n",
        "generate_query = create_sql_query_chain(llm, db)\n",
        "query = generate_query.invoke(Input)\n",
        "print(query)"
      ],
      "metadata": {
        "id": "-MJ9t9xWKlR8",
        "colab": {
          "base_uri": "https://localhost:8080/"
        },
        "outputId": "112af363-c546-468f-e2ee-3875334d42f4"
      },
      "id": "-MJ9t9xWKlR8",
      "execution_count": null,
      "outputs": [
        {
          "output_type": "stream",
          "name": "stdout",
          "text": [
            "SELECT COUNT(DISTINCT cust_id) FROM orders WHERE product_name = \"Macbook Pro Laptop\" AND order_date = \"2019-10-01\"\n"
          ]
        }
      ]
    },
    {
      "cell_type": "code",
      "source": [
        "#Execute the SQL query\n",
        "\n",
        "\n",
        "execute_query = QuerySQLDataBaseTool(db=db)\n",
        "execute_query.invoke(query)\n"
      ],
      "metadata": {
        "id": "HYeLfgKZO4PN",
        "colab": {
          "base_uri": "https://localhost:8080/",
          "height": 71
        },
        "outputId": "6cb9e898-65aa-408b-da24-459e97707451"
      },
      "id": "HYeLfgKZO4PN",
      "execution_count": null,
      "outputs": [
        {
          "output_type": "execute_result",
          "data": {
            "text/plain": [
              "'Error: (sqlite3.OperationalError) no such column: product_name\\n[SQL: SELECT COUNT(DISTINCT cust_id) FROM orders WHERE product_name = \"Macbook Pro Laptop\" AND order_date = \"2019-10-01\"]\\n(Background on this error at: https://sqlalche.me/e/20/e3q8)'"
            ],
            "application/vnd.google.colaboratory.intrinsic+json": {
              "type": "string"
            }
          },
          "metadata": {},
          "execution_count": 236
        }
      ]
    },
    {
      "cell_type": "code",
      "source": [
        "#Create a chain to invoke the query\n",
        "chain = generate_query | execute_query\n",
        "chain.invoke(Input)"
      ],
      "metadata": {
        "id": "p_DFLvRzQATz",
        "colab": {
          "base_uri": "https://localhost:8080/",
          "height": 35
        },
        "outputId": "2744b416-c473-4b19-c54c-9f3d40394a64"
      },
      "id": "p_DFLvRzQATz",
      "execution_count": null,
      "outputs": [
        {
          "output_type": "execute_result",
          "data": {
            "text/plain": [
              "'[(132,)]'"
            ],
            "application/vnd.google.colaboratory.intrinsic+json": {
              "type": "string"
            }
          },
          "metadata": {},
          "execution_count": 237
        }
      ]
    },
    {
      "cell_type": "code",
      "source": [
        "\n",
        "chain.get_prompts()[0].pretty_print()\n"
      ],
      "metadata": {
        "id": "OyWhpIbEQNlo",
        "colab": {
          "base_uri": "https://localhost:8080/"
        },
        "outputId": "d8ca8b62-ffac-4b42-8da0-322cb416dc53"
      },
      "id": "OyWhpIbEQNlo",
      "execution_count": null,
      "outputs": [
        {
          "output_type": "stream",
          "name": "stdout",
          "text": [
            "You are a SQLite expert. Given an input question, first create a syntactically correct SQLite query to run, then look at the results of the query and return the answer to the input question.\n",
            "Unless the user specifies in the question a specific number of examples to obtain, query for at most 5 results using the LIMIT clause as per SQLite. You can order the results to return the most informative data in the database.\n",
            "Never query for all columns from a table. You must query only the columns that are needed to answer the question. Wrap each column name in double quotes (\") to denote them as delimited identifiers.\n",
            "Pay attention to use only the column names you can see in the tables below. Be careful to not query for columns that do not exist. Also, pay attention to which column is in which table.\n",
            "Pay attention to use date('now') function to get the current date, if the question involves \"today\".\n",
            "\n",
            "Use the following format:\n",
            "\n",
            "Question: Question here\n",
            "SQLQuery: SQL Query to run\n",
            "SQLResult: Result of the SQLQuery\n",
            "Answer: Final answer here\n",
            "\n",
            "Only use the following tables:\n",
            "\u001b[33;1m\u001b[1;3m{table_info}\u001b[0m\n",
            "\n",
            "Question: \u001b[33;1m\u001b[1;3m{input}\u001b[0m\n"
          ]
        }
      ]
    },
    {
      "cell_type": "code",
      "source": [
        "#define the prompt to answer user question\n",
        "answer_prompt = PromptTemplate.from_template(\n",
        "    \"\"\"Given the following user question, corresponding SQl query, and SQL Result, answer the user question.\n",
        "\n",
        "\n",
        "    Question: {question}\n",
        "\n",
        "    SQL Result: {result}\n",
        "\n",
        "    Answer:\n",
        "    \"\"\"\n",
        ")\n",
        "\n",
        "#Rephrase answer to natural language\n",
        "rephrase_answer = answer_prompt | llm | StrOutputParser()\n",
        "chain = (\n",
        "    RunnablePassthrough.assign(query=generate_query).assign(\n",
        "        result=itemgetter(\"query\") | execute_query\n",
        "    )\n",
        "    | rephrase_answer\n",
        ")\n",
        "\n",
        "#print the final result\n",
        "print(\"Your SQL Query is\", query)\n",
        "print(\"____________________________________\")\n",
        "chain.invoke(Input)\n",
        "print(\"and the answer is\", chain.invoke(Input))\n"
      ],
      "metadata": {
        "id": "1kMgJtEMfURf",
        "colab": {
          "base_uri": "https://localhost:8080/"
        },
        "outputId": "2ce3c13f-08b6-4968-afd6-e507a9a11dc5"
      },
      "id": "1kMgJtEMfURf",
      "execution_count": null,
      "outputs": [
        {
          "output_type": "stream",
          "name": "stdout",
          "text": [
            "Your SQL Query is SELECT COUNT(DISTINCT cust_id) FROM orders WHERE product_name = \"Macbook Pro Laptop\" AND order_date = \"2019-10-01\"\n",
            "____________________________________\n",
            "and the answer is  Yes, you can find out how many customers bought Macbook Pro Laptop on the 1st of October 2019. The SQL query provided returns the number of customers, which is 132.\n"
          ]
        }
      ]
    },
    {
      "cell_type": "markdown",
      "source": [
        "##Summary:\n",
        "\n",
        "9 out of 12 times, the model extracted the correct data from the database using SQL query.  The results related to sales were more accuarte.  However the chain was able to solve complex issues of joining multiple tables to find the final answer"
      ],
      "metadata": {
        "id": "grUQQEhU-1Dx"
      },
      "id": "grUQQEhU-1Dx"
    },
    {
      "cell_type": "code",
      "source": [
        "\n",
        "#Option 2\n",
        "#The code to get the answer using agent that was not used in the final model\n",
        "\n",
        "#define the function to generate the answer\n",
        "def get_answer_from_sql_db(question, db_agent):\n",
        "  response = db_agent.run(question)\n",
        "  return response\n",
        "\n",
        "\n",
        "# define the agent using SQLDatabase object\n",
        "db_agent = SQLDatabaseChain.from_llm(llm, db, verbose=True)\n",
        "\n",
        "#print the result using database agent, this was not the optimum solution\n",
        "print(get_answer_from_sql_db(Question_11, db_agent))\n",
        "\n"
      ],
      "metadata": {
        "id": "RX3mYOsAFTSw",
        "colab": {
          "base_uri": "https://localhost:8080/"
        },
        "outputId": "5b6d9906-4c51-43ae-c513-7d065b69cb48"
      },
      "id": "RX3mYOsAFTSw",
      "execution_count": null,
      "outputs": [
        {
          "output_type": "stream",
          "name": "stdout",
          "text": [
            "\n",
            "\n",
            "\u001b[1m> Entering new SQLDatabaseChain chain...\u001b[0m\n",
            "Hey all my analysts are away, I want to find out the sales for 20th january 2019, is it possible to find that for me?\n",
            "SQLQuery:\u001b[32;1m\u001b[1;3mSELECT SUM(product_quantity) as total_products_sold\n",
            "FROM orders\n",
            "WHERE order_date = '2019-01-20'\u001b[0m\n",
            "SQLResult: \u001b[33;1m\u001b[1;3m[(385,)]\u001b[0m\n",
            "Answer:\u001b[32;1m\u001b[1;3mYes, the sales for 20th January 2019 were 385 products.\u001b[0m\n",
            "\u001b[1m> Finished chain.\u001b[0m\n",
            "Yes, the sales for 20th January 2019 were 385 products.\n"
          ]
        }
      ]
    },
    {
      "cell_type": "markdown",
      "source": [
        "##Conclusion\n",
        "\n",
        "Open chat LLM Chat demonstrated superior performance in generating accurate responses to user queries when integrated with Langchain. The model correctly answered nine out of twelve test questions. To enhance commercial viability, code refinement and expanded model training incorporating diverse business terminology are recommended. While the LLM agent (option 2) was explored, inconsistent results precluded its use in this project.\n",
        "\n"
      ],
      "metadata": {
        "id": "FJ0-fG_2-tAu"
      },
      "id": "FJ0-fG_2-tAu"
    },
    {
      "cell_type": "markdown",
      "source": [
        "![simple-vector-curl-element-text-260nw-1984507496.webp](data:image/webp;base64,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)"
      ],
      "metadata": {
        "id": "o3q31iuLRtQq"
      },
      "id": "o3q31iuLRtQq"
    }
  ],
  "metadata": {
    "kernelspec": {
      "display_name": "Python 3 (ipykernel)",
      "language": "python",
      "name": "python3"
    },
    "language_info": {
      "codemirror_mode": {
        "name": "ipython",
        "version": 3
      },
      "file_extension": ".py",
      "mimetype": "text/x-python",
      "name": "python",
      "nbconvert_exporter": "python",
      "pygments_lexer": "ipython3",
      "version": "3.11.7"
    },
    "colab": {
      "provenance": []
    }
  },
  "nbformat": 4,
  "nbformat_minor": 5
}